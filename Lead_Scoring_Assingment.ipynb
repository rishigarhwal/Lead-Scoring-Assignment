{
 "cells": [
  {
   "cell_type": "markdown",
   "id": "39aa5a3d-8654-44d7-a1e1-556518dd16f8",
   "metadata": {},
   "source": [
    "# Importing libraries"
   ]
  },
  {
   "cell_type": "code",
   "execution_count": 1,
   "id": "5d881fb0-0050-4cd3-8189-23907a995402",
   "metadata": {},
   "outputs": [],
   "source": [
    "import pandas as pd\n",
    "import numpy as np\n",
    "import seaborn as sns\n",
    "import matplotlib.pyplot as plt\n",
    "\n",
    "import statsmodels.api as sm\n",
    "from statsmodels.stats.outliers_influence import variance_inflation_factor\n",
    "\n",
    "import sklearn\n",
    "from sklearn.preprocessing import MinMaxScaler\n",
    "from sklearn.preprocessing import StandardScaler\n",
    "from sklearn.model_selection import train_test_split\n",
    "from sklearn.linear_model import LogisticRegression\n",
    "from sklearn.feature_selection import RFE\n",
    "from sklearn.metrics import confusion_matrix\n",
    "from sklearn.metrics import roc_curve\n",
    "from sklearn.metrics import roc_auc_score\n",
    "from sklearn.metrics import accuracy_score, classification_report\n",
    "from sklearn.metrics import precision_score, recall_score\n",
    "from sklearn.metrics import precision_recall_curve\n",
    "from sklearn.multiclass import OneVsRestClassifier, OneVsOneClassifier\n",
    "from sklearn.svm import SVC\n",
    "\n",
    "import warnings\n",
    "warnings.filterwarnings('ignore')\n",
    "\n",
    "%matplotlib inline\n",
    "\n",
    "pd.set_option('display.max_rows', 100)\n",
    "pd.set_option('display.max_columns', 100)"
   ]
  },
  {
   "cell_type": "markdown",
   "id": "754b4a52-f9d7-4221-99cf-f84940502e9c",
   "metadata": {},
   "source": [
    "## Reading the CSV file"
   ]
  },
  {
   "cell_type": "code",
   "execution_count": 3,
   "id": "7773953f-2134-4476-8aeb-313f15c29d9a",
   "metadata": {},
   "outputs": [
    {
     "data": {
      "text/html": [
       "<div>\n",
       "<style scoped>\n",
       "    .dataframe tbody tr th:only-of-type {\n",
       "        vertical-align: middle;\n",
       "    }\n",
       "\n",
       "    .dataframe tbody tr th {\n",
       "        vertical-align: top;\n",
       "    }\n",
       "\n",
       "    .dataframe thead th {\n",
       "        text-align: right;\n",
       "    }\n",
       "</style>\n",
       "<table border=\"1\" class=\"dataframe\">\n",
       "  <thead>\n",
       "    <tr style=\"text-align: right;\">\n",
       "      <th></th>\n",
       "      <th>Prospect ID</th>\n",
       "      <th>Lead Number</th>\n",
       "      <th>Lead Origin</th>\n",
       "      <th>Lead Source</th>\n",
       "      <th>Do Not Email</th>\n",
       "      <th>Do Not Call</th>\n",
       "      <th>Converted</th>\n",
       "      <th>TotalVisits</th>\n",
       "      <th>Total Time Spent on Website</th>\n",
       "      <th>Page Views Per Visit</th>\n",
       "      <th>Last Activity</th>\n",
       "      <th>Country</th>\n",
       "      <th>Specialization</th>\n",
       "      <th>How did you hear about X Education</th>\n",
       "      <th>What is your current occupation</th>\n",
       "      <th>What matters most to you in choosing a course</th>\n",
       "      <th>Search</th>\n",
       "      <th>Magazine</th>\n",
       "      <th>Newspaper Article</th>\n",
       "      <th>X Education Forums</th>\n",
       "      <th>Newspaper</th>\n",
       "      <th>Digital Advertisement</th>\n",
       "      <th>Through Recommendations</th>\n",
       "      <th>Receive More Updates About Our Courses</th>\n",
       "      <th>Tags</th>\n",
       "      <th>Lead Quality</th>\n",
       "      <th>Update me on Supply Chain Content</th>\n",
       "      <th>Get updates on DM Content</th>\n",
       "      <th>Lead Profile</th>\n",
       "      <th>City</th>\n",
       "      <th>Asymmetrique Activity Index</th>\n",
       "      <th>Asymmetrique Profile Index</th>\n",
       "      <th>Asymmetrique Activity Score</th>\n",
       "      <th>Asymmetrique Profile Score</th>\n",
       "      <th>I agree to pay the amount through cheque</th>\n",
       "      <th>A free copy of Mastering The Interview</th>\n",
       "      <th>Last Notable Activity</th>\n",
       "    </tr>\n",
       "  </thead>\n",
       "  <tbody>\n",
       "    <tr>\n",
       "      <th>0</th>\n",
       "      <td>7927b2df-8bba-4d29-b9a2-b6e0beafe620</td>\n",
       "      <td>660737</td>\n",
       "      <td>API</td>\n",
       "      <td>Olark Chat</td>\n",
       "      <td>No</td>\n",
       "      <td>No</td>\n",
       "      <td>0</td>\n",
       "      <td>0.0</td>\n",
       "      <td>0</td>\n",
       "      <td>0.0</td>\n",
       "      <td>Page Visited on Website</td>\n",
       "      <td>NaN</td>\n",
       "      <td>Select</td>\n",
       "      <td>Select</td>\n",
       "      <td>Unemployed</td>\n",
       "      <td>Better Career Prospects</td>\n",
       "      <td>No</td>\n",
       "      <td>No</td>\n",
       "      <td>No</td>\n",
       "      <td>No</td>\n",
       "      <td>No</td>\n",
       "      <td>No</td>\n",
       "      <td>No</td>\n",
       "      <td>No</td>\n",
       "      <td>Interested in other courses</td>\n",
       "      <td>Low in Relevance</td>\n",
       "      <td>No</td>\n",
       "      <td>No</td>\n",
       "      <td>Select</td>\n",
       "      <td>Select</td>\n",
       "      <td>02.Medium</td>\n",
       "      <td>02.Medium</td>\n",
       "      <td>15.0</td>\n",
       "      <td>15.0</td>\n",
       "      <td>No</td>\n",
       "      <td>No</td>\n",
       "      <td>Modified</td>\n",
       "    </tr>\n",
       "    <tr>\n",
       "      <th>1</th>\n",
       "      <td>2a272436-5132-4136-86fa-dcc88c88f482</td>\n",
       "      <td>660728</td>\n",
       "      <td>API</td>\n",
       "      <td>Organic Search</td>\n",
       "      <td>No</td>\n",
       "      <td>No</td>\n",
       "      <td>0</td>\n",
       "      <td>5.0</td>\n",
       "      <td>674</td>\n",
       "      <td>2.5</td>\n",
       "      <td>Email Opened</td>\n",
       "      <td>India</td>\n",
       "      <td>Select</td>\n",
       "      <td>Select</td>\n",
       "      <td>Unemployed</td>\n",
       "      <td>Better Career Prospects</td>\n",
       "      <td>No</td>\n",
       "      <td>No</td>\n",
       "      <td>No</td>\n",
       "      <td>No</td>\n",
       "      <td>No</td>\n",
       "      <td>No</td>\n",
       "      <td>No</td>\n",
       "      <td>No</td>\n",
       "      <td>Ringing</td>\n",
       "      <td>NaN</td>\n",
       "      <td>No</td>\n",
       "      <td>No</td>\n",
       "      <td>Select</td>\n",
       "      <td>Select</td>\n",
       "      <td>02.Medium</td>\n",
       "      <td>02.Medium</td>\n",
       "      <td>15.0</td>\n",
       "      <td>15.0</td>\n",
       "      <td>No</td>\n",
       "      <td>No</td>\n",
       "      <td>Email Opened</td>\n",
       "    </tr>\n",
       "    <tr>\n",
       "      <th>2</th>\n",
       "      <td>8cc8c611-a219-4f35-ad23-fdfd2656bd8a</td>\n",
       "      <td>660727</td>\n",
       "      <td>Landing Page Submission</td>\n",
       "      <td>Direct Traffic</td>\n",
       "      <td>No</td>\n",
       "      <td>No</td>\n",
       "      <td>1</td>\n",
       "      <td>2.0</td>\n",
       "      <td>1532</td>\n",
       "      <td>2.0</td>\n",
       "      <td>Email Opened</td>\n",
       "      <td>India</td>\n",
       "      <td>Business Administration</td>\n",
       "      <td>Select</td>\n",
       "      <td>Student</td>\n",
       "      <td>Better Career Prospects</td>\n",
       "      <td>No</td>\n",
       "      <td>No</td>\n",
       "      <td>No</td>\n",
       "      <td>No</td>\n",
       "      <td>No</td>\n",
       "      <td>No</td>\n",
       "      <td>No</td>\n",
       "      <td>No</td>\n",
       "      <td>Will revert after reading the email</td>\n",
       "      <td>Might be</td>\n",
       "      <td>No</td>\n",
       "      <td>No</td>\n",
       "      <td>Potential Lead</td>\n",
       "      <td>Mumbai</td>\n",
       "      <td>02.Medium</td>\n",
       "      <td>01.High</td>\n",
       "      <td>14.0</td>\n",
       "      <td>20.0</td>\n",
       "      <td>No</td>\n",
       "      <td>Yes</td>\n",
       "      <td>Email Opened</td>\n",
       "    </tr>\n",
       "    <tr>\n",
       "      <th>3</th>\n",
       "      <td>0cc2df48-7cf4-4e39-9de9-19797f9b38cc</td>\n",
       "      <td>660719</td>\n",
       "      <td>Landing Page Submission</td>\n",
       "      <td>Direct Traffic</td>\n",
       "      <td>No</td>\n",
       "      <td>No</td>\n",
       "      <td>0</td>\n",
       "      <td>1.0</td>\n",
       "      <td>305</td>\n",
       "      <td>1.0</td>\n",
       "      <td>Unreachable</td>\n",
       "      <td>India</td>\n",
       "      <td>Media and Advertising</td>\n",
       "      <td>Word Of Mouth</td>\n",
       "      <td>Unemployed</td>\n",
       "      <td>Better Career Prospects</td>\n",
       "      <td>No</td>\n",
       "      <td>No</td>\n",
       "      <td>No</td>\n",
       "      <td>No</td>\n",
       "      <td>No</td>\n",
       "      <td>No</td>\n",
       "      <td>No</td>\n",
       "      <td>No</td>\n",
       "      <td>Ringing</td>\n",
       "      <td>Not Sure</td>\n",
       "      <td>No</td>\n",
       "      <td>No</td>\n",
       "      <td>Select</td>\n",
       "      <td>Mumbai</td>\n",
       "      <td>02.Medium</td>\n",
       "      <td>01.High</td>\n",
       "      <td>13.0</td>\n",
       "      <td>17.0</td>\n",
       "      <td>No</td>\n",
       "      <td>No</td>\n",
       "      <td>Modified</td>\n",
       "    </tr>\n",
       "    <tr>\n",
       "      <th>4</th>\n",
       "      <td>3256f628-e534-4826-9d63-4a8b88782852</td>\n",
       "      <td>660681</td>\n",
       "      <td>Landing Page Submission</td>\n",
       "      <td>Google</td>\n",
       "      <td>No</td>\n",
       "      <td>No</td>\n",
       "      <td>1</td>\n",
       "      <td>2.0</td>\n",
       "      <td>1428</td>\n",
       "      <td>1.0</td>\n",
       "      <td>Converted to Lead</td>\n",
       "      <td>India</td>\n",
       "      <td>Select</td>\n",
       "      <td>Other</td>\n",
       "      <td>Unemployed</td>\n",
       "      <td>Better Career Prospects</td>\n",
       "      <td>No</td>\n",
       "      <td>No</td>\n",
       "      <td>No</td>\n",
       "      <td>No</td>\n",
       "      <td>No</td>\n",
       "      <td>No</td>\n",
       "      <td>No</td>\n",
       "      <td>No</td>\n",
       "      <td>Will revert after reading the email</td>\n",
       "      <td>Might be</td>\n",
       "      <td>No</td>\n",
       "      <td>No</td>\n",
       "      <td>Select</td>\n",
       "      <td>Mumbai</td>\n",
       "      <td>02.Medium</td>\n",
       "      <td>01.High</td>\n",
       "      <td>15.0</td>\n",
       "      <td>18.0</td>\n",
       "      <td>No</td>\n",
       "      <td>No</td>\n",
       "      <td>Modified</td>\n",
       "    </tr>\n",
       "  </tbody>\n",
       "</table>\n",
       "</div>"
      ],
      "text/plain": [
       "                            Prospect ID  Lead Number              Lead Origin  \\\n",
       "0  7927b2df-8bba-4d29-b9a2-b6e0beafe620       660737                      API   \n",
       "1  2a272436-5132-4136-86fa-dcc88c88f482       660728                      API   \n",
       "2  8cc8c611-a219-4f35-ad23-fdfd2656bd8a       660727  Landing Page Submission   \n",
       "3  0cc2df48-7cf4-4e39-9de9-19797f9b38cc       660719  Landing Page Submission   \n",
       "4  3256f628-e534-4826-9d63-4a8b88782852       660681  Landing Page Submission   \n",
       "\n",
       "      Lead Source Do Not Email Do Not Call  Converted  TotalVisits  \\\n",
       "0      Olark Chat           No          No          0          0.0   \n",
       "1  Organic Search           No          No          0          5.0   \n",
       "2  Direct Traffic           No          No          1          2.0   \n",
       "3  Direct Traffic           No          No          0          1.0   \n",
       "4          Google           No          No          1          2.0   \n",
       "\n",
       "   Total Time Spent on Website  Page Views Per Visit            Last Activity  \\\n",
       "0                            0                   0.0  Page Visited on Website   \n",
       "1                          674                   2.5             Email Opened   \n",
       "2                         1532                   2.0             Email Opened   \n",
       "3                          305                   1.0              Unreachable   \n",
       "4                         1428                   1.0        Converted to Lead   \n",
       "\n",
       "  Country           Specialization How did you hear about X Education  \\\n",
       "0     NaN                   Select                             Select   \n",
       "1   India                   Select                             Select   \n",
       "2   India  Business Administration                             Select   \n",
       "3   India    Media and Advertising                      Word Of Mouth   \n",
       "4   India                   Select                              Other   \n",
       "\n",
       "  What is your current occupation  \\\n",
       "0                      Unemployed   \n",
       "1                      Unemployed   \n",
       "2                         Student   \n",
       "3                      Unemployed   \n",
       "4                      Unemployed   \n",
       "\n",
       "  What matters most to you in choosing a course Search Magazine  \\\n",
       "0                       Better Career Prospects     No       No   \n",
       "1                       Better Career Prospects     No       No   \n",
       "2                       Better Career Prospects     No       No   \n",
       "3                       Better Career Prospects     No       No   \n",
       "4                       Better Career Prospects     No       No   \n",
       "\n",
       "  Newspaper Article X Education Forums Newspaper Digital Advertisement  \\\n",
       "0                No                 No        No                    No   \n",
       "1                No                 No        No                    No   \n",
       "2                No                 No        No                    No   \n",
       "3                No                 No        No                    No   \n",
       "4                No                 No        No                    No   \n",
       "\n",
       "  Through Recommendations Receive More Updates About Our Courses  \\\n",
       "0                      No                                     No   \n",
       "1                      No                                     No   \n",
       "2                      No                                     No   \n",
       "3                      No                                     No   \n",
       "4                      No                                     No   \n",
       "\n",
       "                                  Tags      Lead Quality  \\\n",
       "0          Interested in other courses  Low in Relevance   \n",
       "1                              Ringing               NaN   \n",
       "2  Will revert after reading the email          Might be   \n",
       "3                              Ringing          Not Sure   \n",
       "4  Will revert after reading the email          Might be   \n",
       "\n",
       "  Update me on Supply Chain Content Get updates on DM Content    Lead Profile  \\\n",
       "0                                No                        No          Select   \n",
       "1                                No                        No          Select   \n",
       "2                                No                        No  Potential Lead   \n",
       "3                                No                        No          Select   \n",
       "4                                No                        No          Select   \n",
       "\n",
       "     City Asymmetrique Activity Index Asymmetrique Profile Index  \\\n",
       "0  Select                   02.Medium                  02.Medium   \n",
       "1  Select                   02.Medium                  02.Medium   \n",
       "2  Mumbai                   02.Medium                    01.High   \n",
       "3  Mumbai                   02.Medium                    01.High   \n",
       "4  Mumbai                   02.Medium                    01.High   \n",
       "\n",
       "   Asymmetrique Activity Score  Asymmetrique Profile Score  \\\n",
       "0                         15.0                        15.0   \n",
       "1                         15.0                        15.0   \n",
       "2                         14.0                        20.0   \n",
       "3                         13.0                        17.0   \n",
       "4                         15.0                        18.0   \n",
       "\n",
       "  I agree to pay the amount through cheque  \\\n",
       "0                                       No   \n",
       "1                                       No   \n",
       "2                                       No   \n",
       "3                                       No   \n",
       "4                                       No   \n",
       "\n",
       "  A free copy of Mastering The Interview Last Notable Activity  \n",
       "0                                     No              Modified  \n",
       "1                                     No          Email Opened  \n",
       "2                                    Yes          Email Opened  \n",
       "3                                     No              Modified  \n",
       "4                                     No              Modified  "
      ]
     },
     "execution_count": 3,
     "metadata": {},
     "output_type": "execute_result"
    }
   ],
   "source": [
    "leads = pd.read_csv('Leads.csv')\n",
    "leads.head()"
   ]
  },
  {
   "cell_type": "markdown",
   "id": "8fa53434-2457-48e2-b1d5-48abb779034b",
   "metadata": {},
   "source": [
    "## Data Quality Checks"
   ]
  },
  {
   "cell_type": "code",
   "execution_count": 4,
   "id": "ef6054d3-c729-46fb-8c8d-48f4f72a1487",
   "metadata": {},
   "outputs": [
    {
     "name": "stdout",
     "output_type": "stream",
     "text": [
      "<class 'pandas.core.frame.DataFrame'>\n",
      "RangeIndex: 9240 entries, 0 to 9239\n",
      "Data columns (total 37 columns):\n",
      " #   Column                                         Non-Null Count  Dtype  \n",
      "---  ------                                         --------------  -----  \n",
      " 0   Prospect ID                                    9240 non-null   object \n",
      " 1   Lead Number                                    9240 non-null   int64  \n",
      " 2   Lead Origin                                    9240 non-null   object \n",
      " 3   Lead Source                                    9204 non-null   object \n",
      " 4   Do Not Email                                   9240 non-null   object \n",
      " 5   Do Not Call                                    9240 non-null   object \n",
      " 6   Converted                                      9240 non-null   int64  \n",
      " 7   TotalVisits                                    9103 non-null   float64\n",
      " 8   Total Time Spent on Website                    9240 non-null   int64  \n",
      " 9   Page Views Per Visit                           9103 non-null   float64\n",
      " 10  Last Activity                                  9137 non-null   object \n",
      " 11  Country                                        6779 non-null   object \n",
      " 12  Specialization                                 7802 non-null   object \n",
      " 13  How did you hear about X Education             7033 non-null   object \n",
      " 14  What is your current occupation                6550 non-null   object \n",
      " 15  What matters most to you in choosing a course  6531 non-null   object \n",
      " 16  Search                                         9240 non-null   object \n",
      " 17  Magazine                                       9240 non-null   object \n",
      " 18  Newspaper Article                              9240 non-null   object \n",
      " 19  X Education Forums                             9240 non-null   object \n",
      " 20  Newspaper                                      9240 non-null   object \n",
      " 21  Digital Advertisement                          9240 non-null   object \n",
      " 22  Through Recommendations                        9240 non-null   object \n",
      " 23  Receive More Updates About Our Courses         9240 non-null   object \n",
      " 24  Tags                                           5887 non-null   object \n",
      " 25  Lead Quality                                   4473 non-null   object \n",
      " 26  Update me on Supply Chain Content              9240 non-null   object \n",
      " 27  Get updates on DM Content                      9240 non-null   object \n",
      " 28  Lead Profile                                   6531 non-null   object \n",
      " 29  City                                           7820 non-null   object \n",
      " 30  Asymmetrique Activity Index                    5022 non-null   object \n",
      " 31  Asymmetrique Profile Index                     5022 non-null   object \n",
      " 32  Asymmetrique Activity Score                    5022 non-null   float64\n",
      " 33  Asymmetrique Profile Score                     5022 non-null   float64\n",
      " 34  I agree to pay the amount through cheque       9240 non-null   object \n",
      " 35  A free copy of Mastering The Interview         9240 non-null   object \n",
      " 36  Last Notable Activity                          9240 non-null   object \n",
      "dtypes: float64(4), int64(3), object(30)\n",
      "memory usage: 2.6+ MB\n"
     ]
    }
   ],
   "source": [
    "leads.info()"
   ]
  },
  {
   "cell_type": "code",
   "execution_count": 5,
   "id": "29f4c3e7-1a55-4dcf-b74d-e5d7848cdc00",
   "metadata": {},
   "outputs": [
    {
     "data": {
      "text/plain": [
       "(9240, 37)"
      ]
     },
     "execution_count": 5,
     "metadata": {},
     "output_type": "execute_result"
    }
   ],
   "source": [
    "leads.shape"
   ]
  },
  {
   "cell_type": "markdown",
   "id": "c8ec5431-c5a6-404f-9da0-c1fd673dbb50",
   "metadata": {},
   "source": [
    "## Duplicate check"
   ]
  },
  {
   "cell_type": "code",
   "execution_count": 6,
   "id": "83e7ee06-d647-442d-bfb3-3fa1700d5aed",
   "metadata": {},
   "outputs": [
    {
     "data": {
      "text/plain": [
       "0"
      ]
     },
     "execution_count": 6,
     "metadata": {},
     "output_type": "execute_result"
    }
   ],
   "source": [
    "sum(leads.duplicated(subset='Prospect ID'))"
   ]
  },
  {
   "cell_type": "markdown",
   "id": "70df78d8-b0f9-4658-8ef7-363bfa5c40ee",
   "metadata": {},
   "source": [
    "### Inference - Shows no duplicates"
   ]
  },
  {
   "cell_type": "code",
   "execution_count": 7,
   "id": "a2024c1e-109c-4a31-9472-0786cbdb8712",
   "metadata": {},
   "outputs": [
    {
     "data": {
      "text/html": [
       "<div>\n",
       "<style scoped>\n",
       "    .dataframe tbody tr th:only-of-type {\n",
       "        vertical-align: middle;\n",
       "    }\n",
       "\n",
       "    .dataframe tbody tr th {\n",
       "        vertical-align: top;\n",
       "    }\n",
       "\n",
       "    .dataframe thead th {\n",
       "        text-align: right;\n",
       "    }\n",
       "</style>\n",
       "<table border=\"1\" class=\"dataframe\">\n",
       "  <thead>\n",
       "    <tr style=\"text-align: right;\">\n",
       "      <th></th>\n",
       "      <th>Lead Number</th>\n",
       "      <th>Converted</th>\n",
       "      <th>TotalVisits</th>\n",
       "      <th>Total Time Spent on Website</th>\n",
       "      <th>Page Views Per Visit</th>\n",
       "      <th>Asymmetrique Activity Score</th>\n",
       "      <th>Asymmetrique Profile Score</th>\n",
       "    </tr>\n",
       "  </thead>\n",
       "  <tbody>\n",
       "    <tr>\n",
       "      <th>count</th>\n",
       "      <td>9240.000000</td>\n",
       "      <td>9240.000000</td>\n",
       "      <td>9103.000000</td>\n",
       "      <td>9240.000000</td>\n",
       "      <td>9103.000000</td>\n",
       "      <td>5022.000000</td>\n",
       "      <td>5022.000000</td>\n",
       "    </tr>\n",
       "    <tr>\n",
       "      <th>mean</th>\n",
       "      <td>617188.435606</td>\n",
       "      <td>0.385390</td>\n",
       "      <td>3.445238</td>\n",
       "      <td>487.698268</td>\n",
       "      <td>2.362820</td>\n",
       "      <td>14.306252</td>\n",
       "      <td>16.344883</td>\n",
       "    </tr>\n",
       "    <tr>\n",
       "      <th>std</th>\n",
       "      <td>23405.995698</td>\n",
       "      <td>0.486714</td>\n",
       "      <td>4.854853</td>\n",
       "      <td>548.021466</td>\n",
       "      <td>2.161418</td>\n",
       "      <td>1.386694</td>\n",
       "      <td>1.811395</td>\n",
       "    </tr>\n",
       "    <tr>\n",
       "      <th>min</th>\n",
       "      <td>579533.000000</td>\n",
       "      <td>0.000000</td>\n",
       "      <td>0.000000</td>\n",
       "      <td>0.000000</td>\n",
       "      <td>0.000000</td>\n",
       "      <td>7.000000</td>\n",
       "      <td>11.000000</td>\n",
       "    </tr>\n",
       "    <tr>\n",
       "      <th>25%</th>\n",
       "      <td>596484.500000</td>\n",
       "      <td>0.000000</td>\n",
       "      <td>1.000000</td>\n",
       "      <td>12.000000</td>\n",
       "      <td>1.000000</td>\n",
       "      <td>14.000000</td>\n",
       "      <td>15.000000</td>\n",
       "    </tr>\n",
       "    <tr>\n",
       "      <th>50%</th>\n",
       "      <td>615479.000000</td>\n",
       "      <td>0.000000</td>\n",
       "      <td>3.000000</td>\n",
       "      <td>248.000000</td>\n",
       "      <td>2.000000</td>\n",
       "      <td>14.000000</td>\n",
       "      <td>16.000000</td>\n",
       "    </tr>\n",
       "    <tr>\n",
       "      <th>75%</th>\n",
       "      <td>637387.250000</td>\n",
       "      <td>1.000000</td>\n",
       "      <td>5.000000</td>\n",
       "      <td>936.000000</td>\n",
       "      <td>3.000000</td>\n",
       "      <td>15.000000</td>\n",
       "      <td>18.000000</td>\n",
       "    </tr>\n",
       "    <tr>\n",
       "      <th>max</th>\n",
       "      <td>660737.000000</td>\n",
       "      <td>1.000000</td>\n",
       "      <td>251.000000</td>\n",
       "      <td>2272.000000</td>\n",
       "      <td>55.000000</td>\n",
       "      <td>18.000000</td>\n",
       "      <td>20.000000</td>\n",
       "    </tr>\n",
       "  </tbody>\n",
       "</table>\n",
       "</div>"
      ],
      "text/plain": [
       "         Lead Number    Converted  TotalVisits  Total Time Spent on Website  \\\n",
       "count    9240.000000  9240.000000  9103.000000                  9240.000000   \n",
       "mean   617188.435606     0.385390     3.445238                   487.698268   \n",
       "std     23405.995698     0.486714     4.854853                   548.021466   \n",
       "min    579533.000000     0.000000     0.000000                     0.000000   \n",
       "25%    596484.500000     0.000000     1.000000                    12.000000   \n",
       "50%    615479.000000     0.000000     3.000000                   248.000000   \n",
       "75%    637387.250000     1.000000     5.000000                   936.000000   \n",
       "max    660737.000000     1.000000   251.000000                  2272.000000   \n",
       "\n",
       "       Page Views Per Visit  Asymmetrique Activity Score  \\\n",
       "count           9103.000000                  5022.000000   \n",
       "mean               2.362820                    14.306252   \n",
       "std                2.161418                     1.386694   \n",
       "min                0.000000                     7.000000   \n",
       "25%                1.000000                    14.000000   \n",
       "50%                2.000000                    14.000000   \n",
       "75%                3.000000                    15.000000   \n",
       "max               55.000000                    18.000000   \n",
       "\n",
       "       Asymmetrique Profile Score  \n",
       "count                 5022.000000  \n",
       "mean                    16.344883  \n",
       "std                      1.811395  \n",
       "min                     11.000000  \n",
       "25%                     15.000000  \n",
       "50%                     16.000000  \n",
       "75%                     18.000000  \n",
       "max                     20.000000  "
      ]
     },
     "execution_count": 7,
     "metadata": {},
     "output_type": "execute_result"
    }
   ],
   "source": [
    "leads.describe()"
   ]
  },
  {
   "cell_type": "markdown",
   "id": "e89d308d-6404-4433-8ccf-4b7f4a52e706",
   "metadata": {},
   "source": [
    "## Data Cleaning"
   ]
  },
  {
   "cell_type": "code",
   "execution_count": 8,
   "id": "d8b36996-e6c2-4862-aecb-35ddf504f53d",
   "metadata": {},
   "outputs": [],
   "source": [
    "# Converting 'Select' values to NaN.\n",
    "leads = leads.replace('Select', np.nan)"
   ]
  },
  {
   "cell_type": "code",
   "execution_count": 9,
   "id": "a3075898-44a0-41af-9fb5-3713ec12457e",
   "metadata": {},
   "outputs": [
    {
     "data": {
      "text/plain": [
       "How did you hear about X Education               78.46\n",
       "Lead Profile                                     74.19\n",
       "Lead Quality                                     51.59\n",
       "Asymmetrique Profile Score                       45.65\n",
       "Asymmetrique Activity Score                      45.65\n",
       "Asymmetrique Activity Index                      45.65\n",
       "Asymmetrique Profile Index                       45.65\n",
       "City                                             39.71\n",
       "Specialization                                   36.58\n",
       "Tags                                             36.29\n",
       "What matters most to you in choosing a course    29.32\n",
       "What is your current occupation                  29.11\n",
       "Country                                          26.63\n",
       "Page Views Per Visit                              1.48\n",
       "TotalVisits                                       1.48\n",
       "Last Activity                                     1.11\n",
       "Lead Source                                       0.39\n",
       "Receive More Updates About Our Courses            0.00\n",
       "I agree to pay the amount through cheque          0.00\n",
       "Get updates on DM Content                         0.00\n",
       "Update me on Supply Chain Content                 0.00\n",
       "A free copy of Mastering The Interview            0.00\n",
       "Prospect ID                                       0.00\n",
       "Newspaper Article                                 0.00\n",
       "Through Recommendations                           0.00\n",
       "Digital Advertisement                             0.00\n",
       "Newspaper                                         0.00\n",
       "X Education Forums                                0.00\n",
       "Lead Number                                       0.00\n",
       "Magazine                                          0.00\n",
       "Search                                            0.00\n",
       "Total Time Spent on Website                       0.00\n",
       "Converted                                         0.00\n",
       "Do Not Call                                       0.00\n",
       "Do Not Email                                      0.00\n",
       "Lead Origin                                       0.00\n",
       "Last Notable Activity                             0.00\n",
       "dtype: float64"
      ]
     },
     "execution_count": 9,
     "metadata": {},
     "output_type": "execute_result"
    }
   ],
   "source": [
    "### Null Check\n",
    "round((100*leads.isnull().sum()/leads.shape[0]),2).sort_values(ascending=False)"
   ]
  },
  {
   "cell_type": "code",
   "execution_count": 10,
   "id": "e58ba2dc-63d3-41c0-8c7c-ef9cdde4b0a7",
   "metadata": {},
   "outputs": [
    {
     "data": {
      "text/plain": [
       "Index(['How did you hear about X Education', 'Lead Quality', 'Lead Profile',\n",
       "       'Asymmetrique Activity Index', 'Asymmetrique Profile Index',\n",
       "       'Asymmetrique Activity Score', 'Asymmetrique Profile Score'],\n",
       "      dtype='object')"
      ]
     },
     "execution_count": 10,
     "metadata": {},
     "output_type": "execute_result"
    }
   ],
   "source": [
    "## Finding columns which are having more than 40% null values\n",
    "to_drop=leads.loc[:,list(round((100*leads.isnull().sum()/leads.shape[0]),2)>40)].columns\n",
    "to_drop"
   ]
  },
  {
   "cell_type": "code",
   "execution_count": 11,
   "id": "1d0eb1e1-a2b4-4889-809c-5c92d7427657",
   "metadata": {},
   "outputs": [],
   "source": [
    "## Dropping columns that have more than 40% null values\n",
    "leads=leads.drop(to_drop,axis=1)"
   ]
  },
  {
   "cell_type": "code",
   "execution_count": 12,
   "id": "1363209d-6bd3-444b-832f-0000544d828d",
   "metadata": {},
   "outputs": [
    {
     "data": {
      "text/plain": [
       "City                                             39.71\n",
       "Specialization                                   36.58\n",
       "Tags                                             36.29\n",
       "What matters most to you in choosing a course    29.32\n",
       "What is your current occupation                  29.11\n",
       "Country                                          26.63\n",
       "Page Views Per Visit                              1.48\n",
       "TotalVisits                                       1.48\n",
       "Last Activity                                     1.11\n",
       "Lead Source                                       0.39\n",
       "Through Recommendations                           0.00\n",
       "Receive More Updates About Our Courses            0.00\n",
       "Prospect ID                                       0.00\n",
       "Newspaper                                         0.00\n",
       "Update me on Supply Chain Content                 0.00\n",
       "Get updates on DM Content                         0.00\n",
       "I agree to pay the amount through cheque          0.00\n",
       "A free copy of Mastering The Interview            0.00\n",
       "Digital Advertisement                             0.00\n",
       "Search                                            0.00\n",
       "X Education Forums                                0.00\n",
       "Newspaper Article                                 0.00\n",
       "Magazine                                          0.00\n",
       "Lead Number                                       0.00\n",
       "Total Time Spent on Website                       0.00\n",
       "Converted                                         0.00\n",
       "Do Not Call                                       0.00\n",
       "Do Not Email                                      0.00\n",
       "Lead Origin                                       0.00\n",
       "Last Notable Activity                             0.00\n",
       "dtype: float64"
      ]
     },
     "execution_count": 12,
     "metadata": {},
     "output_type": "execute_result"
    }
   ],
   "source": [
    "#checking null values percentage\n",
    "round((100*leads.isnull().sum()/leads.shape[0]),2).sort_values(ascending=False)"
   ]
  },
  {
   "cell_type": "code",
   "execution_count": 13,
   "id": "a9213108-5543-471c-bf24-b50f9f550be8",
   "metadata": {},
   "outputs": [
    {
     "data": {
      "image/png": "[encoded data removed]",
      "text/plain": [
       "<Figure size 432x288 with 1 Axes>"
      ]
     },
     "metadata": {
      "needs_background": "light"
     },
     "output_type": "display_data"
    }
   ],
   "source": [
    "## Checking City\n",
    "sns.countplot(leads.City)\n",
    "plt.xticks(rotation = 90)\n",
    "plt.show()"
   ]
  },
  {
   "cell_type": "code",
   "execution_count": 14,
   "id": "a2f5301a-1fff-44bd-8c69-910b38ff5c6b",
   "metadata": {},
   "outputs": [],
   "source": [
    "# Imputing Null with 'Others'\n",
    "leads['City'] = leads['City'].replace(np.nan, 'Others')\n",
    "\n",
    "# Merging Cities which are low in numbers to 'Others'\n",
    "leads['City'] = leads['City'].replace(['Tier II Cities','Other Metro Cities','Other Cities of Maharashtra','Other Cities'], 'Others')"
   ]
  },
  {
   "cell_type": "code",
   "execution_count": 15,
   "id": "3861b38e-bc8d-4e8f-b6b5-5dd001e431bc",
   "metadata": {},
   "outputs": [
    {
     "data": {
      "text/plain": [
       "Others               5266\n",
       "Mumbai               3222\n",
       "Thane & Outskirts     752\n",
       "Name: City, dtype: int64"
      ]
     },
     "execution_count": 15,
     "metadata": {},
     "output_type": "execute_result"
    }
   ],
   "source": [
    "leads['City'].value_counts()"
   ]
  },
  {
   "cell_type": "code",
   "execution_count": 16,
   "id": "995f647d-0741-40ac-bd28-dc194fb76db2",
   "metadata": {},
   "outputs": [
    {
     "data": {
      "image/png": "[encoded data removed]",
      "text/plain": [
       "<Figure size 432x288 with 1 Axes>"
      ]
     },
     "metadata": {
      "needs_background": "light"
     },
     "output_type": "display_data"
    }
   ],
   "source": [
    "## Checking Specialization\n",
    "sns.countplot(leads.Specialization)\n",
    "plt.xticks(rotation = 90)\n",
    "plt.show()"
   ]
  },
  {
   "cell_type": "code",
   "execution_count": 17,
   "id": "6be9d6d5-9c91-41cc-8a2a-8ce9b13d4361",
   "metadata": {},
   "outputs": [
    {
     "data": {
      "text/plain": [
       "Finance Management                   976\n",
       "Human Resource Management            848\n",
       "Marketing Management                 838\n",
       "Operations Management                503\n",
       "Business Administration              403\n",
       "IT Projects Management               366\n",
       "Supply Chain Management              349\n",
       "Banking, Investment And Insurance    338\n",
       "Travel and Tourism                   203\n",
       "Media and Advertising                203\n",
       "International Business               178\n",
       "Healthcare Management                159\n",
       "Hospitality Management               114\n",
       "E-COMMERCE                           112\n",
       "Retail Management                    100\n",
       "Rural and Agribusiness                73\n",
       "E-Business                            57\n",
       "Services Excellence                   40\n",
       "Name: Specialization, dtype: int64"
      ]
     },
     "execution_count": 17,
     "metadata": {},
     "output_type": "execute_result"
    }
   ],
   "source": [
    "leads.Specialization.value_counts()"
   ]
  },
  {
   "cell_type": "code",
   "execution_count": 18,
   "id": "32e52178-78fb-48a8-add2-aa8f5f6a2886",
   "metadata": {},
   "outputs": [],
   "source": [
    "# Imputing Null with 'Others'\n",
    "leads['Specialization'] = leads['Specialization'].replace(np.nan, 'Others')\n",
    "\n",
    "# Merging Specialization which are low in numbers to 'Others'\n",
    "leads['Specialization'] = leads['Specialization'].replace(['Rural and Agribusiness','E-Business','Services Excellence'], 'Others')"
   ]
  },
  {
   "cell_type": "code",
   "execution_count": 19,
   "id": "e3420c8a-a232-4a80-b94a-dfcf30e0f5ac",
   "metadata": {},
   "outputs": [
    {
     "data": {
      "text/plain": [
       "Others                               3550\n",
       "Finance Management                    976\n",
       "Human Resource Management             848\n",
       "Marketing Management                  838\n",
       "Operations Management                 503\n",
       "Business Administration               403\n",
       "IT Projects Management                366\n",
       "Supply Chain Management               349\n",
       "Banking, Investment And Insurance     338\n",
       "Media and Advertising                 203\n",
       "Travel and Tourism                    203\n",
       "International Business                178\n",
       "Healthcare Management                 159\n",
       "Hospitality Management                114\n",
       "E-COMMERCE                            112\n",
       "Retail Management                     100\n",
       "Name: Specialization, dtype: int64"
      ]
     },
     "execution_count": 19,
     "metadata": {},
     "output_type": "execute_result"
    }
   ],
   "source": [
    "leads.Specialization.value_counts()"
   ]
  },
  {
   "cell_type": "code",
   "execution_count": 20,
   "id": "465467ae-c97a-4f53-af7c-0c85b731bec2",
   "metadata": {},
   "outputs": [
    {
     "data": {
      "image/png": "[encoded data removed]",
      "text/plain": [
       "<Figure size 432x288 with 1 Axes>"
      ]
     },
     "metadata": {
      "needs_background": "light"
     },
     "output_type": "display_data"
    }
   ],
   "source": [
    "## Checking Tags\n",
    "sns.countplot(leads.Tags)\n",
    "plt.xticks(rotation = 90)\n",
    "plt.show()"
   ]
  },
  {
   "cell_type": "code",
   "execution_count": 21,
   "id": "95cd46a8-fca3-4003-927d-48e82e495cca",
   "metadata": {},
   "outputs": [
    {
     "data": {
      "text/plain": [
       "Will revert after reading the email                  2072\n",
       "Ringing                                              1203\n",
       "Interested in other courses                           513\n",
       "Already a student                                     465\n",
       "Closed by Horizzon                                    358\n",
       "switched off                                          240\n",
       "Busy                                                  186\n",
       "Lost to EINS                                          175\n",
       "Not doing further education                           145\n",
       "Interested  in full time MBA                          117\n",
       "Graduation in progress                                111\n",
       "invalid number                                         83\n",
       "Diploma holder (Not Eligible)                          63\n",
       "wrong number given                                     47\n",
       "opp hangup                                             33\n",
       "number not provided                                    27\n",
       "in touch with EINS                                     12\n",
       "Lost to Others                                          7\n",
       "Still Thinking                                          6\n",
       "Want to take admission but has financial problems       6\n",
       "In confusion whether part time or DLP                   5\n",
       "Interested in Next batch                                5\n",
       "Lateral student                                         3\n",
       "Shall take in the next coming month                     2\n",
       "University not recognized                               2\n",
       "Recognition issue (DEC approval)                        1\n",
       "Name: Tags, dtype: int64"
      ]
     },
     "execution_count": 21,
     "metadata": {},
     "output_type": "execute_result"
    }
   ],
   "source": [
    "leads.Tags.value_counts()"
   ]
  },
  {
   "cell_type": "code",
   "execution_count": 22,
   "id": "e9cb7cdc-9adb-4986-9063-45b01226fa67",
   "metadata": {},
   "outputs": [
    {
     "data": {
      "text/plain": [
       "Others                                 4987\n",
       "Will revert after reading the email    2072\n",
       "Ringing                                1203\n",
       "Interested in other courses             513\n",
       "Already a student                       465\n",
       "Name: Tags, dtype: int64"
      ]
     },
     "execution_count": 22,
     "metadata": {},
     "output_type": "execute_result"
    }
   ],
   "source": [
    "# Imputing Null with Others\n",
    "leads['Tags'] = leads['Tags'].replace(np.nan, 'Others')\n",
    "\n",
    "# Merging low frequency items to Others (each category should have minimum 5% of total data)\n",
    "leads['Tags'] = leads['Tags'].replace(['switched off', 'Busy', 'Lost to EINS', 'Not doing further education', 'Interested  in full time MBA',\n",
    "                                     'Graduation in progress', 'invalid number', 'Diploma holder (Not Eligible)', 'wrong number given', 'opp hangup',\n",
    "                                     'number not provided', 'in touch with EINS', 'Lost to Others', 'Want to take admission but has financial problems',\n",
    "                                     'Still Thinking', 'Interested in Next batch', 'In confusion whether part time or DLP', 'Lateral student',\n",
    "                                     'Shall take in the next coming month', 'University not recognized', 'Recognition issue (DEC approval)','Closed by Horizzon'\n",
    "                                     ], 'Others')\n",
    "\n",
    "leads.Tags.value_counts()"
   ]
  },
  {
   "cell_type": "code",
   "execution_count": 23,
   "id": "5f2bfb76-8526-4d16-afb6-455a776172c7",
   "metadata": {},
   "outputs": [
    {
     "data": {
      "image/png": "[encoded data removed]",
      "text/plain": [
       "<Figure size 432x288 with 1 Axes>"
      ]
     },
     "metadata": {
      "needs_background": "light"
     },
     "output_type": "display_data"
    }
   ],
   "source": [
    "## Checking What matters most to you in choosing a course\n",
    "sns.countplot(leads['What matters most to you in choosing a course'])\n",
    "plt.xticks(rotation = 90)\n",
    "plt.show()"
   ]
  },
  {
   "cell_type": "code",
   "execution_count": 24,
   "id": "a359c374-e8be-4c88-8e18-6f85d2dfdbfd",
   "metadata": {},
   "outputs": [
    {
     "data": {
      "text/plain": [
       "Better Career Prospects      6528\n",
       "Flexibility & Convenience       2\n",
       "Other                           1\n",
       "Name: What matters most to you in choosing a course, dtype: int64"
      ]
     },
     "execution_count": 24,
     "metadata": {},
     "output_type": "execute_result"
    }
   ],
   "source": [
    "leads['What matters most to you in choosing a course'].value_counts()"
   ]
  },
  {
   "cell_type": "code",
   "execution_count": 25,
   "id": "5370fc8c-62db-4471-843f-b5d3e1f6092c",
   "metadata": {},
   "outputs": [],
   "source": [
    "## drop 'What matters most to you in choosing a course' as it is highly skewed\n",
    "leads=leads.drop('What matters most to you in choosing a course',axis=1)"
   ]
  },
  {
   "cell_type": "code",
   "execution_count": 26,
   "id": "466dd786-fb2d-48ae-aedb-7842d6a818fc",
   "metadata": {},
   "outputs": [
    {
     "data": {
      "image/png": "[encoded data removed]",
      "text/plain": [
       "<Figure size 432x288 with 1 Axes>"
      ]
     },
     "metadata": {
      "needs_background": "light"
     },
     "output_type": "display_data"
    }
   ],
   "source": [
    "## Checking What is your current occupation\n",
    "sns.countplot(leads['What is your current occupation'])\n",
    "plt.xticks(rotation = 90)\n",
    "plt.show()"
   ]
  },
  {
   "cell_type": "code",
   "execution_count": 27,
   "id": "6a9feb0b-8625-4c2e-9709-2a9a1bb7f7a0",
   "metadata": {},
   "outputs": [
    {
     "data": {
      "text/plain": [
       "Unemployed              5600\n",
       "Working Professional     706\n",
       "Student                  210\n",
       "Other                     16\n",
       "Housewife                 10\n",
       "Businessman                8\n",
       "Name: What is your current occupation, dtype: int64"
      ]
     },
     "execution_count": 27,
     "metadata": {},
     "output_type": "execute_result"
    }
   ],
   "source": [
    "leads['What is your current occupation'].value_counts()"
   ]
  },
  {
   "cell_type": "code",
   "execution_count": 28,
   "id": "2942054f-5c45-4604-8d49-7c5b9e9ca6c1",
   "metadata": {},
   "outputs": [],
   "source": [
    "# Imputing Null with Others\n",
    "leads['What is your current occupation'] = leads['What is your current occupation'].replace(np.nan, 'Other')"
   ]
  },
  {
   "cell_type": "code",
   "execution_count": 29,
   "id": "9a0147ea-600e-4223-bc6e-c17d45b61f53",
   "metadata": {},
   "outputs": [
    {
     "data": {
      "text/plain": [
       "Unemployed              5600\n",
       "Other                   2706\n",
       "Working Professional     706\n",
       "Student                  210\n",
       "Housewife                 10\n",
       "Businessman                8\n",
       "Name: What is your current occupation, dtype: int64"
      ]
     },
     "execution_count": 29,
     "metadata": {},
     "output_type": "execute_result"
    }
   ],
   "source": [
    "leads['What is your current occupation'].value_counts()"
   ]
  },
  {
   "cell_type": "code",
   "execution_count": 30,
   "id": "6b6c3175-1c58-43b6-8a8a-d1815b4351c5",
   "metadata": {},
   "outputs": [
    {
     "data": {
      "image/png": "[encoded data removed]",
      "text/plain": [
       "<Figure size 432x288 with 1 Axes>"
      ]
     },
     "metadata": {
      "needs_background": "light"
     },
     "output_type": "display_data"
    }
   ],
   "source": [
    "## Checking Country\n",
    "sns.countplot(leads['Country'])\n",
    "plt.xticks(rotation = 90)\n",
    "plt.show()"
   ]
  },
  {
   "cell_type": "code",
   "execution_count": 31,
   "id": "068fbacf-a629-4a5c-905d-0b417eb3cff3",
   "metadata": {},
   "outputs": [
    {
     "data": {
      "text/plain": [
       "India                   6492\n",
       "United States             69\n",
       "United Arab Emirates      53\n",
       "Singapore                 24\n",
       "Saudi Arabia              21\n",
       "United Kingdom            15\n",
       "Australia                 13\n",
       "Qatar                     10\n",
       "Hong Kong                  7\n",
       "Bahrain                    7\n",
       "Oman                       6\n",
       "France                     6\n",
       "unknown                    5\n",
       "South Africa               4\n",
       "Nigeria                    4\n",
       "Germany                    4\n",
       "Kuwait                     4\n",
       "Canada                     4\n",
       "Sweden                     3\n",
       "China                      2\n",
       "Asia/Pacific Region        2\n",
       "Uganda                     2\n",
       "Bangladesh                 2\n",
       "Italy                      2\n",
       "Belgium                    2\n",
       "Netherlands                2\n",
       "Ghana                      2\n",
       "Philippines                2\n",
       "Russia                     1\n",
       "Switzerland                1\n",
       "Vietnam                    1\n",
       "Denmark                    1\n",
       "Tanzania                   1\n",
       "Liberia                    1\n",
       "Malaysia                   1\n",
       "Kenya                      1\n",
       "Sri Lanka                  1\n",
       "Indonesia                  1\n",
       "Name: Country, dtype: int64"
      ]
     },
     "execution_count": 31,
     "metadata": {},
     "output_type": "execute_result"
    }
   ],
   "source": [
    "leads['Country'].value_counts()"
   ]
  },
  {
   "cell_type": "code",
   "execution_count": 32,
   "id": "f2c9688e-777a-4350-94f7-57fd75610a8c",
   "metadata": {},
   "outputs": [],
   "source": [
    "## drop 'Country' as it is highly skewed\n",
    "leads=leads.drop('Country',axis=1)"
   ]
  },
  {
   "cell_type": "code",
   "execution_count": 33,
   "id": "eeda8970-a281-4756-90d2-d82cd31f6a5e",
   "metadata": {},
   "outputs": [
    {
     "data": {
      "text/plain": [
       "Email Opened                    3437\n",
       "SMS Sent                        2745\n",
       "Olark Chat Conversation          973\n",
       "Page Visited on Website          640\n",
       "Converted to Lead                428\n",
       "Email Bounced                    326\n",
       "Email Link Clicked               267\n",
       "Form Submitted on Website        116\n",
       "Unreachable                       93\n",
       "Unsubscribed                      61\n",
       "Had a Phone Conversation          30\n",
       "Approached upfront                 9\n",
       "View in browser link Clicked       6\n",
       "Email Received                     2\n",
       "Email Marked Spam                  2\n",
       "Visited Booth in Tradeshow         1\n",
       "Resubscribed to emails             1\n",
       "Name: Last Activity, dtype: int64"
      ]
     },
     "execution_count": 33,
     "metadata": {},
     "output_type": "execute_result"
    }
   ],
   "source": [
    "## Checking Last Activity\n",
    "leads['Last Activity'].value_counts()"
   ]
  },
  {
   "cell_type": "code",
   "execution_count": 34,
   "id": "6741c4ef-0285-460f-b93b-201f33ae717b",
   "metadata": {},
   "outputs": [],
   "source": [
    "# Imputing Null with Others\n",
    "leads['Last Activity'] = leads['Last Activity'].replace(np.nan, 'Others')\n",
    "\n",
    "# Merging low frequency items to Others\n",
    "leads['Last Activity'] = leads['Last Activity'].replace(['Unreachable','Unsubscribed','Had a Phone Conversation','Approached upfront',\n",
    "                                                   'View in browser link Clicked','Email Received','Email Marked Spam','Resubscribed to emails',\n",
    "                                                  'Visited Booth in Tradeshow'], 'Others')"
   ]
  },
  {
   "cell_type": "code",
   "execution_count": 35,
   "id": "b1453cac-46b9-4b2f-9bea-7b47873eb9c2",
   "metadata": {},
   "outputs": [
    {
     "data": {
      "text/plain": [
       "Email Opened                 3437\n",
       "SMS Sent                     2745\n",
       "Olark Chat Conversation       973\n",
       "Page Visited on Website       640\n",
       "Converted to Lead             428\n",
       "Email Bounced                 326\n",
       "Others                        308\n",
       "Email Link Clicked            267\n",
       "Form Submitted on Website     116\n",
       "Name: Last Activity, dtype: int64"
      ]
     },
     "execution_count": 35,
     "metadata": {},
     "output_type": "execute_result"
    }
   ],
   "source": [
    "## Checking Last Activity\n",
    "leads['Last Activity'].value_counts()"
   ]
  },
  {
   "cell_type": "code",
   "execution_count": 36,
   "id": "7430c55d-fc9f-4b6e-9925-6ffc08c7f144",
   "metadata": {},
   "outputs": [
    {
     "data": {
      "text/plain": [
       "Google               2868\n",
       "Direct Traffic       2543\n",
       "Olark Chat           1755\n",
       "Organic Search       1154\n",
       "Reference             534\n",
       "Welingak Website      142\n",
       "Referral Sites        125\n",
       "Facebook               55\n",
       "bing                    6\n",
       "google                  5\n",
       "Click2call              4\n",
       "Press_Release           2\n",
       "Social Media            2\n",
       "Live Chat               2\n",
       "youtubechannel          1\n",
       "testone                 1\n",
       "Pay per Click Ads       1\n",
       "welearnblog_Home        1\n",
       "WeLearn                 1\n",
       "blog                    1\n",
       "NC_EDM                  1\n",
       "Name: Lead Source, dtype: int64"
      ]
     },
     "execution_count": 36,
     "metadata": {},
     "output_type": "execute_result"
    }
   ],
   "source": [
    "# Checking unique value counts of Lead Source \n",
    "\n",
    "leads['Lead Source'].value_counts()"
   ]
  },
  {
   "cell_type": "code",
   "execution_count": 37,
   "id": "f3803037-51e2-468d-a70d-f518ee3b0a7d",
   "metadata": {},
   "outputs": [],
   "source": [
    "# Merging 2 Google into one category\n",
    "leads['Lead Source'] = leads['Lead Source'].replace('google', 'Google')\n",
    "\n",
    "\n",
    "# Imputing Null with Others\n",
    "leads['Lead Source'] = leads['Lead Source'].replace(np.nan, 'Others')\n",
    "\n",
    "# Merging low frequency items to Others\n",
    "leads['Lead Source'] = leads['Lead Source'].replace(['bing', 'Click2call', 'Press_Release',\n",
    "                                                   'youtubechannel', 'welearnblog_Home',\n",
    "                                                   'WeLearn', 'blog', 'Pay per Click Ads',\n",
    "                                                   'testone', 'NC_EDM', 'Live Chat', 'Facebook', 'Social Media'], 'Others')"
   ]
  },
  {
   "cell_type": "code",
   "execution_count": 38,
   "id": "83f054f6-4a7b-4d33-8085-1b82093249b6",
   "metadata": {},
   "outputs": [
    {
     "data": {
      "text/plain": [
       "Google              2873\n",
       "Direct Traffic      2543\n",
       "Olark Chat          1755\n",
       "Organic Search      1154\n",
       "Reference            534\n",
       "Welingak Website     142\n",
       "Referral Sites       125\n",
       "Others               114\n",
       "Name: Lead Source, dtype: int64"
      ]
     },
     "execution_count": 38,
     "metadata": {},
     "output_type": "execute_result"
    }
   ],
   "source": [
    "# Checking unique value counts \n",
    "leads['Lead Source'].value_counts()"
   ]
  },
  {
   "cell_type": "code",
   "execution_count": 39,
   "id": "6c76578b-8fa2-41b0-bcf8-ca0c4397cddc",
   "metadata": {},
   "outputs": [
    {
     "data": {
      "text/plain": [
       "Modified                        3407\n",
       "Email Opened                    2827\n",
       "SMS Sent                        2172\n",
       "Page Visited on Website          318\n",
       "Olark Chat Conversation          183\n",
       "Email Link Clicked               173\n",
       "Email Bounced                     60\n",
       "Unsubscribed                      47\n",
       "Unreachable                       32\n",
       "Had a Phone Conversation          14\n",
       "Email Marked Spam                  2\n",
       "Approached upfront                 1\n",
       "Resubscribed to emails             1\n",
       "View in browser link Clicked       1\n",
       "Form Submitted on Website          1\n",
       "Email Received                     1\n",
       "Name: Last Notable Activity, dtype: int64"
      ]
     },
     "execution_count": 39,
     "metadata": {},
     "output_type": "execute_result"
    }
   ],
   "source": [
    "## Checking Last Notable Activity\n",
    "leads['Last Notable Activity'].value_counts()"
   ]
  },
  {
   "cell_type": "code",
   "execution_count": 40,
   "id": "893854dc-0ae0-4414-98ef-e2d364107b27",
   "metadata": {},
   "outputs": [],
   "source": [
    "# Merging low frequency items to Others\n",
    "leads['Last Notable Activity'] = leads['Last Notable Activity'].replace(['Email Bounced', 'Unsubscribed', 'Unreachable', \n",
    "                                                                         'Had a Phone Conversation', 'Email Marked Spam', \n",
    "                                                                         'Resubscribed to emails', 'Approached upfront', \n",
    "                                                                         'Email Received', 'Form Submitted on Website', \n",
    "                                                                         'View in browser link Clicked'], 'Others')"
   ]
  },
  {
   "cell_type": "code",
   "execution_count": 41,
   "id": "139c1ed3-2f9a-4ac4-97a0-a0d5e9c8b989",
   "metadata": {},
   "outputs": [
    {
     "data": {
      "text/plain": [
       "count    9103.000000\n",
       "mean        3.445238\n",
       "std         4.854853\n",
       "min         0.000000\n",
       "25%         1.000000\n",
       "50%         3.000000\n",
       "75%         5.000000\n",
       "max       251.000000\n",
       "Name: TotalVisits, dtype: float64"
      ]
     },
     "execution_count": 41,
     "metadata": {},
     "output_type": "execute_result"
    }
   ],
   "source": [
    "# Checking TotalVisits\n",
    "leads.TotalVisits.describe()"
   ]
  },
  {
   "cell_type": "code",
   "execution_count": 42,
   "id": "32f83527-e164-4f6f-afb3-1a347a05deb8",
   "metadata": {},
   "outputs": [],
   "source": [
    "# Impute TotalVisits with the median\n",
    "TotalVisits_med = leads.TotalVisits.median()\n",
    "leads.TotalVisits.fillna(TotalVisits_med, inplace=True)"
   ]
  },
  {
   "cell_type": "code",
   "execution_count": 43,
   "id": "a0a4fd6f-e005-4c0d-8af0-3be39d67aa8b",
   "metadata": {},
   "outputs": [
    {
     "data": {
      "text/plain": [
       "count    9103.000000\n",
       "mean        2.362820\n",
       "std         2.161418\n",
       "min         0.000000\n",
       "25%         1.000000\n",
       "50%         2.000000\n",
       "75%         3.000000\n",
       "max        55.000000\n",
       "Name: Page Views Per Visit, dtype: float64"
      ]
     },
     "execution_count": 43,
     "metadata": {},
     "output_type": "execute_result"
    }
   ],
   "source": [
    "# Checking Page Views Per Visit\n",
    "leads['Page Views Per Visit'].describe()"
   ]
  },
  {
   "cell_type": "code",
   "execution_count": 44,
   "id": "f1a31f03-d06b-47d3-a67a-3af7e6202da1",
   "metadata": {},
   "outputs": [],
   "source": [
    "# Impute Page Views Per Visit with the median\n",
    "pvpv_med = leads['Page Views Per Visit'].median()\n",
    "leads['Page Views Per Visit'].fillna(pvpv_med, inplace=True)"
   ]
  },
  {
   "cell_type": "markdown",
   "id": "34edddb0-9cb9-486f-a792-f511ebf95611",
   "metadata": {},
   "source": [
    "## Finally checking the nulls"
   ]
  },
  {
   "cell_type": "code",
   "execution_count": 45,
   "id": "1b470be9-aaf9-448b-be16-e8e79aacbb7b",
   "metadata": {},
   "outputs": [
    {
     "data": {
      "text/plain": [
       "Prospect ID                                 0.0\n",
       "Lead Number                                 0.0\n",
       "A free copy of Mastering The Interview      0.0\n",
       "I agree to pay the amount through cheque    0.0\n",
       "City                                        0.0\n",
       "Get updates on DM Content                   0.0\n",
       "Update me on Supply Chain Content           0.0\n",
       "Tags                                        0.0\n",
       "Receive More Updates About Our Courses      0.0\n",
       "Through Recommendations                     0.0\n",
       "Digital Advertisement                       0.0\n",
       "Newspaper                                   0.0\n",
       "X Education Forums                          0.0\n",
       "Newspaper Article                           0.0\n",
       "Magazine                                    0.0\n",
       "Search                                      0.0\n",
       "What is your current occupation             0.0\n",
       "Specialization                              0.0\n",
       "Last Activity                               0.0\n",
       "Page Views Per Visit                        0.0\n",
       "Total Time Spent on Website                 0.0\n",
       "TotalVisits                                 0.0\n",
       "Converted                                   0.0\n",
       "Do Not Call                                 0.0\n",
       "Do Not Email                                0.0\n",
       "Lead Source                                 0.0\n",
       "Lead Origin                                 0.0\n",
       "Last Notable Activity                       0.0\n",
       "dtype: float64"
      ]
     },
     "execution_count": 45,
     "metadata": {},
     "output_type": "execute_result"
    }
   ],
   "source": [
    "round((100*leads.isnull().sum()/leads.shape[0]),2).sort_values(ascending=False)"
   ]
  },
  {
   "cell_type": "code",
   "execution_count": 46,
   "id": "a862cf94-baed-4df0-9c70-50b9ee1e2a8a",
   "metadata": {},
   "outputs": [
    {
     "name": "stdout",
     "output_type": "stream",
     "text": [
      "000104b9-23e4-4ddc-8caa-8629fe8ad7f4    1\n",
      "a7a319ea-b6ae-4c6b-afc5-183b933d10b5    1\n",
      "aa27a0af-eeab-4007-a770-fa8a93fa53c8    1\n",
      "aa30ebb2-8476-41ce-9258-37cc025110d3    1\n",
      "aa405742-17ac-4c65-b19e-ab91c241cc53    1\n",
      "                                       ..\n",
      "539eb309-df36-4a89-ac58-6d3651393910    1\n",
      "539ffa32-1be7-4fe1-b04c-faf1bab763cf    1\n",
      "53aabd84-5dcc-4299-bbe3-62f3764b07b1    1\n",
      "53ac14bd-2bb2-4315-a21c-94562d1b6b2d    1\n",
      "fffb0e5e-9f92-4017-9f42-781a69da4154    1\n",
      "Name: Prospect ID, Length: 9240, dtype: int64\n",
      "###################################################\n",
      "Landing Page Submission    4886\n",
      "API                        3580\n",
      "Lead Add Form               718\n",
      "Lead Import                  55\n",
      "Quick Add Form                1\n",
      "Name: Lead Origin, dtype: int64\n",
      "###################################################\n",
      "Google              2873\n",
      "Direct Traffic      2543\n",
      "Olark Chat          1755\n",
      "Organic Search      1154\n",
      "Reference            534\n",
      "Welingak Website     142\n",
      "Referral Sites       125\n",
      "Others               114\n",
      "Name: Lead Source, dtype: int64\n",
      "###################################################\n",
      "No     8506\n",
      "Yes     734\n",
      "Name: Do Not Email, dtype: int64\n",
      "###################################################\n",
      "No     9238\n",
      "Yes       2\n",
      "Name: Do Not Call, dtype: int64\n",
      "###################################################\n",
      "Email Opened                 3437\n",
      "SMS Sent                     2745\n",
      "Olark Chat Conversation       973\n",
      "Page Visited on Website       640\n",
      "Converted to Lead             428\n",
      "Email Bounced                 326\n",
      "Others                        308\n",
      "Email Link Clicked            267\n",
      "Form Submitted on Website     116\n",
      "Name: Last Activity, dtype: int64\n",
      "###################################################\n",
      "Others                               3550\n",
      "Finance Management                    976\n",
      "Human Resource Management             848\n",
      "Marketing Management                  838\n",
      "Operations Management                 503\n",
      "Business Administration               403\n",
      "IT Projects Management                366\n",
      "Supply Chain Management               349\n",
      "Banking, Investment And Insurance     338\n",
      "Media and Advertising                 203\n",
      "Travel and Tourism                    203\n",
      "International Business                178\n",
      "Healthcare Management                 159\n",
      "Hospitality Management                114\n",
      "E-COMMERCE                            112\n",
      "Retail Management                     100\n",
      "Name: Specialization, dtype: int64\n",
      "###################################################\n",
      "Unemployed              5600\n",
      "Other                   2706\n",
      "Working Professional     706\n",
      "Student                  210\n",
      "Housewife                 10\n",
      "Businessman                8\n",
      "Name: What is your current occupation, dtype: int64\n",
      "###################################################\n",
      "No     9226\n",
      "Yes      14\n",
      "Name: Search, dtype: int64\n",
      "###################################################\n",
      "No    9240\n",
      "Name: Magazine, dtype: int64\n",
      "###################################################\n",
      "No     9238\n",
      "Yes       2\n",
      "Name: Newspaper Article, dtype: int64\n",
      "###################################################\n",
      "No     9239\n",
      "Yes       1\n",
      "Name: X Education Forums, dtype: int64\n",
      "###################################################\n",
      "No     9239\n",
      "Yes       1\n",
      "Name: Newspaper, dtype: int64\n",
      "###################################################\n",
      "No     9236\n",
      "Yes       4\n",
      "Name: Digital Advertisement, dtype: int64\n",
      "###################################################\n",
      "No     9233\n",
      "Yes       7\n",
      "Name: Through Recommendations, dtype: int64\n",
      "###################################################\n",
      "No    9240\n",
      "Name: Receive More Updates About Our Courses, dtype: int64\n",
      "###################################################\n",
      "Others                                 4987\n",
      "Will revert after reading the email    2072\n",
      "Ringing                                1203\n",
      "Interested in other courses             513\n",
      "Already a student                       465\n",
      "Name: Tags, dtype: int64\n",
      "###################################################\n",
      "No    9240\n",
      "Name: Update me on Supply Chain Content, dtype: int64\n",
      "###################################################\n",
      "No    9240\n",
      "Name: Get updates on DM Content, dtype: int64\n",
      "###################################################\n",
      "Others               5266\n",
      "Mumbai               3222\n",
      "Thane & Outskirts     752\n",
      "Name: City, dtype: int64\n",
      "###################################################\n",
      "No    9240\n",
      "Name: I agree to pay the amount through cheque, dtype: int64\n",
      "###################################################\n",
      "No     6352\n",
      "Yes    2888\n",
      "Name: A free copy of Mastering The Interview, dtype: int64\n",
      "###################################################\n",
      "Modified                   3407\n",
      "Email Opened               2827\n",
      "SMS Sent                   2172\n",
      "Page Visited on Website     318\n",
      "Olark Chat Conversation     183\n",
      "Email Link Clicked          173\n",
      "Others                      160\n",
      "Name: Last Notable Activity, dtype: int64\n",
      "###################################################\n"
     ]
    }
   ],
   "source": [
    "leads_cat = leads.loc[:, leads.dtypes == 'object']\n",
    "for i in leads_cat:\n",
    "    print(leads[i].astype('category').value_counts())\n",
    "    print('###################################################')"
   ]
  },
  {
   "cell_type": "markdown",
   "id": "c799c708-de6c-4c51-9f84-bad64265f067",
   "metadata": {},
   "source": [
    "### Below columns should be dropped because of high skewness\n",
    "- Do Not Call\n",
    "- Do Not Email\n",
    "- Search\n",
    "- Newspaper Article\n",
    "- X Education Forums\n",
    "- Newspaper\n",
    "- Digital Advertisement\n",
    "- Through Recommendations\n",
    "\n",
    "### Below columns should be dropped because of single category\n",
    "- Magazine\n",
    "- Receive More Updates About Our Courses\n",
    "- Update me on Supply Chain Content\n",
    "- Get updates on DM Content\n",
    "- I agree to pay the amount through cheque\n",
    "`"
   ]
  },
  {
   "cell_type": "code",
   "execution_count": 47,
   "id": "389db455-d934-4c76-ab04-370a4f28837a",
   "metadata": {},
   "outputs": [],
   "source": [
    "to_drop_cols = ['Do Not Call', 'Do Not Email', 'Search', 'Newspaper Article', 'X Education Forums', 'Newspaper', 'Digital Advertisement', \n",
    "                'Through Recommendations', 'Magazine', 'Receive More Updates About Our Courses', 'Update me on Supply Chain Content', \n",
    "                'Get updates on DM Content', 'I agree to pay the amount through cheque']\n",
    "leads.drop(to_drop_cols, axis=1, inplace=True)"
   ]
  },
  {
   "cell_type": "code",
   "execution_count": 48,
   "id": "daf5be7e-7fec-4369-81c4-3a804ebd934c",
   "metadata": {},
   "outputs": [
    {
     "data": {
      "text/plain": [
       "(9240, 15)"
      ]
     },
     "execution_count": 48,
     "metadata": {},
     "output_type": "execute_result"
    }
   ],
   "source": [
    "leads.shape"
   ]
  },
  {
   "cell_type": "code",
   "execution_count": 49,
   "id": "29a026bd-31c1-4b41-9671-b90fd4a8d9de",
   "metadata": {},
   "outputs": [
    {
     "name": "stdout",
     "output_type": "stream",
     "text": [
      "<class 'pandas.core.frame.DataFrame'>\n",
      "RangeIndex: 9240 entries, 0 to 9239\n",
      "Data columns (total 15 columns):\n",
      " #   Column                                  Non-Null Count  Dtype  \n",
      "---  ------                                  --------------  -----  \n",
      " 0   Prospect ID                             9240 non-null   object \n",
      " 1   Lead Number                             9240 non-null   int64  \n",
      " 2   Lead Origin                             9240 non-null   object \n",
      " 3   Lead Source                             9240 non-null   object \n",
      " 4   Converted                               9240 non-null   int64  \n",
      " 5   TotalVisits                             9240 non-null   float64\n",
      " 6   Total Time Spent on Website             9240 non-null   int64  \n",
      " 7   Page Views Per Visit                    9240 non-null   float64\n",
      " 8   Last Activity                           9240 non-null   object \n",
      " 9   Specialization                          9240 non-null   object \n",
      " 10  What is your current occupation         9240 non-null   object \n",
      " 11  Tags                                    9240 non-null   object \n",
      " 12  City                                    9240 non-null   object \n",
      " 13  A free copy of Mastering The Interview  9240 non-null   object \n",
      " 14  Last Notable Activity                   9240 non-null   object \n",
      "dtypes: float64(2), int64(3), object(10)\n",
      "memory usage: 1.1+ MB\n"
     ]
    }
   ],
   "source": [
    "leads.info()"
   ]
  },
  {
   "cell_type": "code",
   "execution_count": 50,
   "id": "e4d18f97-021c-48a8-b657-08fb8ba789a2",
   "metadata": {},
   "outputs": [],
   "source": [
    "## Creating a copy of the dataset excluding unique identifiers:\n",
    "leads_excl = leads.drop(['Prospect ID', 'Lead Number'], axis=1)"
   ]
  },
  {
   "cell_type": "markdown",
   "id": "30688142-953e-4ef2-8a4e-b6a692520815",
   "metadata": {},
   "source": [
    "## Data Visualization"
   ]
  },
  {
   "cell_type": "markdown",
   "id": "35e9b025-74b6-406b-bacc-eda10e7f1e43",
   "metadata": {},
   "source": [
    "### Uni-variate/BI-Variate Analysis"
   ]
  },
  {
   "cell_type": "code",
   "execution_count": 51,
   "id": "76d264e9-88a9-4ad8-a087-c4b4bc1fc156",
   "metadata": {},
   "outputs": [
    {
     "data": {
      "image/png": "[encoded data removed]",
      "text/plain": [
       "<Figure size 432x288 with 1 Axes>"
      ]
     },
     "metadata": {
      "needs_background": "light"
     },
     "output_type": "display_data"
    }
   ],
   "source": [
    "## Percentage of Convered data\n",
    "ax=sns.barplot(x='Converted', y='Converted', data=leads_excl, estimator=lambda x: len(x) / len(leads_excl) * 100)\n",
    "for p in ax.patches:\n",
    "        ax.annotate('{:.2f}%'.format(p.get_height()), (p.get_x()+0.3, p.get_height()))\n",
    "plt.title('Target Variable Ratio')\n",
    "plt.xlabel('0=No 1=Yes')\n",
    "plt.xticks(rotation=0)\n",
    "plt.ylabel('% of Conversion')\n",
    "plt.show()"
   ]
  },
  {
   "cell_type": "code",
   "execution_count": 52,
   "id": "075f366a-2d22-4d28-b38c-7e2f8115cf42",
   "metadata": {},
   "outputs": [
    {
     "data": {
      "image/png": "[encoded data removed]",
      "text/plain": [
       "<Figure size 432x288 with 1 Axes>"
      ]
     },
     "metadata": {
      "needs_background": "light"
     },
     "output_type": "display_data"
    }
   ],
   "source": [
    "## Lead Origin \n",
    "sns.countplot(x = \"Lead Origin\", hue = \"Converted\", data = leads_excl)\n",
    "plt.xticks(rotation = 90)\n",
    "plt.show()"
   ]
  },
  {
   "cell_type": "markdown",
   "id": "45713755-e98f-4733-85ab-aad1e5b0eddb",
   "metadata": {},
   "source": [
    "### Inference from Lead Origin\n",
    "- API and Landing Page Submission have around 35-40% conversion rate but count of lead originated from them are considerable.\n",
    "- Lead Add Form has more than 90% conversion rate but count of lead are not very high.\n",
    "- Lead Import and Quick Add From are very less in count."
   ]
  },
  {
   "cell_type": "code",
   "execution_count": 53,
   "id": "eb235d5a-bdf9-41ae-b6c0-b1855c241214",
   "metadata": {},
   "outputs": [
    {
     "data": {
      "image/png": "[encoded data removed]",
      "text/plain": [
       "<Figure size 432x288 with 1 Axes>"
      ]
     },
     "metadata": {
      "needs_background": "light"
     },
     "output_type": "display_data"
    }
   ],
   "source": [
    "## Lead Source\n",
    "sns.countplot(x = \"Lead Source\", hue = \"Converted\", data = leads_excl)\n",
    "plt.xticks(rotation = 90)\n",
    "plt.show()"
   ]
  },
  {
   "cell_type": "markdown",
   "id": "786e3bfc-d9b6-49e3-8256-950ddeff2dfc",
   "metadata": {},
   "source": [
    "### Inference from Lead Source\n",
    "- Direct Traffic and Google are generating high number of leads; should be focused for their conversion\n",
    "- Welingak and Reference are having more conversion rate hence should be focused to generate more leads\n",
    "- leads from Olark Chat and Organic Search should be focused for conversion"
   ]
  },
  {
   "cell_type": "code",
   "execution_count": 54,
   "id": "7f3bc384-e32d-4ab0-bb36-d01aa73cebf4",
   "metadata": {},
   "outputs": [
    {
     "data": {
      "image/png": "[encoded data removed]",
      "text/plain": [
       "<Figure size 432x288 with 1 Axes>"
      ]
     },
     "metadata": {
      "needs_background": "light"
     },
     "output_type": "display_data"
    }
   ],
   "source": [
    "## Last Activity\n",
    "sns.countplot(x = \"Last Activity\", hue = \"Converted\", data = leads_excl)\n",
    "plt.xticks(rotation = 90)\n",
    "plt.show()"
   ]
  },
  {
   "cell_type": "markdown",
   "id": "b8cea45c-7e9e-44bf-854b-d4c417578561",
   "metadata": {},
   "source": [
    "### Inference from Last Activity\n",
    "- Most of the leads have Email Opened and SMS Sent. More focus should be on leads opening email.\n",
    "- conersion rate for SMS sent is very high and hence they should be targeted for lead conversion"
   ]
  },
  {
   "cell_type": "code",
   "execution_count": 55,
   "id": "2273f89e-0c6a-4ee7-9fd4-9acca00cbd4f",
   "metadata": {},
   "outputs": [
    {
     "data": {
      "image/png": "[encoded data removed]",
      "text/plain": [
       "<Figure size 432x288 with 1 Axes>"
      ]
     },
     "metadata": {
      "needs_background": "light"
     },
     "output_type": "display_data"
    }
   ],
   "source": [
    "## Specialization\n",
    "sns.countplot(x = \"Specialization\", hue = \"Converted\", data = leads_excl)\n",
    "plt.xticks(rotation = 90)\n",
    "plt.show()"
   ]
  },
  {
   "cell_type": "markdown",
   "id": "79602f78-555f-4d31-9008-a85723825fe2",
   "metadata": {},
   "source": [
    "### Inference from Specialization\n",
    "- focus should be on those various specializations with less leads but high conversion rate.\n",
    "- Most of the leads are from 'Others'(Not specified) specialization but the conversion rate is poor"
   ]
  },
  {
   "cell_type": "code",
   "execution_count": 56,
   "id": "717c4e6b-3d1f-4cd3-a054-21de2de4d625",
   "metadata": {},
   "outputs": [
    {
     "data": {
      "image/png": "[encoded data removed]",
      "text/plain": [
       "<Figure size 432x288 with 1 Axes>"
      ]
     },
     "metadata": {
      "needs_background": "light"
     },
     "output_type": "display_data"
    }
   ],
   "source": [
    "## What is your current occupation\n",
    "sns.countplot(x = \"What is your current occupation\", hue = \"Converted\", data = leads_excl)\n",
    "plt.xticks(rotation = 90)\n",
    "plt.show()"
   ]
  },
  {
   "cell_type": "markdown",
   "id": "6e9b1d3b-24b9-4de1-bef6-0a633add4a18",
   "metadata": {},
   "source": [
    "### Inference from What is your current occupation\n",
    "- Working prefessionals have high conversion. focus should be on them for more leads\n",
    "- Most of the leads are from Unemployed section, foucs should be increasing conversion from them"
   ]
  },
  {
   "cell_type": "code",
   "execution_count": 58,
   "id": "9c084ab1-f630-4c0e-bcfa-c918d4be8028",
   "metadata": {},
   "outputs": [
    {
     "data": {
      "image/png": "[encoded data removed]",
      "text/plain": [
       "<Figure size 432x288 with 1 Axes>"
      ]
     },
     "metadata": {
      "needs_background": "light"
     },
     "output_type": "display_data"
    }
   ],
   "source": [
    "## Tags\n",
    "sns.countplot(x = \"Tags\", hue = \"Converted\", data = leads_excl)\n",
    "plt.xticks(rotation = 90)\n",
    "plt.show()"
   ]
  },
  {
   "cell_type": "markdown",
   "id": "eaa9468e-8e7c-45b6-8337-505626679d40",
   "metadata": {},
   "source": [
    "### Inference from Tags\n",
    "- 'Will Revert after reading the email' have high conversion. focus should be on them for more leads\n",
    "- Most of the leads are from 'Others'(Unspecified) section, foucs should be increasing conversion from them"
   ]
  },
  {
   "cell_type": "code",
   "execution_count": 59,
   "id": "980d2ea0-cb07-4493-b923-d735df4223a5",
   "metadata": {},
   "outputs": [
    {
     "data": {
      "image/png": "[encoded data removed]",
      "text/plain": [
       "<Figure size 432x288 with 1 Axes>"
      ]
     },
     "metadata": {
      "needs_background": "light"
     },
     "output_type": "display_data"
    }
   ],
   "source": [
    "## A free copy of Mastering The Interview\n",
    "sns.countplot(x = \"A free copy of Mastering The Interview\", hue = \"Converted\", data = leads_excl)\n",
    "plt.xticks(rotation = 90)\n",
    "plt.show()"
   ]
  },
  {
   "cell_type": "markdown",
   "id": "91d825e4-37f7-4a09-a1d3-69a7f5639c86",
   "metadata": {},
   "source": [
    "### Inference from A free copy of Mastering The Interview\n",
    "- More leads are from those who do not ask for free copy of Mastering Interviews. Can be focused for conversion."
   ]
  },
  {
   "cell_type": "code",
   "execution_count": 60,
   "id": "2ee6018a-341e-4ad1-a4d1-cf2eda9edc20",
   "metadata": {},
   "outputs": [
    {
     "data": {
      "image/png": "[encoded data removed]",
      "text/plain": [
       "<Figure size 432x288 with 1 Axes>"
      ]
     },
     "metadata": {
      "needs_background": "light"
     },
     "output_type": "display_data"
    }
   ],
   "source": [
    "## Last Notable Activity\n",
    "sns.countplot(x = \"Last Notable Activity\", hue = \"Converted\", data = leads_excl)\n",
    "plt.xticks(rotation = 90)\n",
    "plt.show()"
   ]
  },
  {
   "cell_type": "markdown",
   "id": "ea2c08bd-2d99-414c-ad64-effa7a041bb7",
   "metadata": {},
   "source": [
    "### Inference from Last Notable Activity\n",
    "- More leads are from those who have modified their account or opened email. focus should be on their conversion\n",
    "- SMS sent have high converison"
   ]
  },
  {
   "cell_type": "code",
   "execution_count": 61,
   "id": "dbe310bc-9296-42b5-9168-0527ae28ead3",
   "metadata": {},
   "outputs": [
    {
     "data": {
      "image/png": "[encoded data removed]",
      "text/plain": [
       "<Figure size 432x288 with 2 Axes>"
      ]
     },
     "metadata": {
      "needs_background": "light"
     },
     "output_type": "display_data"
    }
   ],
   "source": [
    "## Numerical columns (TotalVisits, Total Time Spent on Website, Page Views Per Visit, Converted)\n",
    "sns.heatmap(leads_excl.corr(),annot=True)\n",
    "plt.show()"
   ]
  },
  {
   "cell_type": "markdown",
   "id": "8cfb7fcc-7b26-4f97-b5f4-5f52ef577512",
   "metadata": {},
   "source": [
    "### Inference from above heat map\n",
    "- Strong correlation between Total Visits and Page Views Per Visits\n",
    "- Converted has good correlation with Total time spent on Website"
   ]
  },
  {
   "cell_type": "markdown",
   "id": "6ca70977-c687-4964-805f-925d658a5083",
   "metadata": {},
   "source": [
    "## Outlier treatment for Numerical columns\n",
    "- TotalVisits\n",
    "- Total Time Spent on Website\n",
    "- Page Views Per Visit"
   ]
  },
  {
   "cell_type": "code",
   "execution_count": 62,
   "id": "ec8deea8-acfd-4ef9-a0f0-a0fb5df6c600",
   "metadata": {},
   "outputs": [],
   "source": [
    "Num_cols = leads_excl[['TotalVisits', 'Total Time Spent on Website', 'Page Views Per Visit']]"
   ]
  },
  {
   "cell_type": "code",
   "execution_count": 63,
   "id": "1b34f3cb-5d6a-424e-9958-b2a431be2257",
   "metadata": {},
   "outputs": [
    {
     "data": {
      "image/png": "[encoded data removed]",
      "text/plain": [
       "<Figure size 720x720 with 3 Axes>"
      ]
     },
     "metadata": {
      "needs_background": "light"
     },
     "output_type": "display_data"
    }
   ],
   "source": [
    "# Checking outliers in all the numerical columns\n",
    "plt.figure(figsize=(10,10))\n",
    "\n",
    "for i in enumerate(Num_cols):\n",
    "    plt.subplot(3,3,i[0]+1)\n",
    "    sns.boxplot(leads_excl[i[1]])\n",
    "    plt.title(\"Plot \"+str(i[0]+1)+\": \"+i[1])\n",
    "plt.subplots_adjust(wspace=1,hspace=0.2)\n",
    "    \n",
    "plt.show()"
   ]
  },
  {
   "cell_type": "code",
   "execution_count": 64,
   "id": "13dbddb1-3c09-4cdf-b0cd-b9a731a88a09",
   "metadata": {},
   "outputs": [
    {
     "name": "stdout",
     "output_type": "stream",
     "text": [
      "TotalVisits                       6.0\n",
      "Total Time Spent on Website    1386.0\n",
      "Page Views Per Visit              3.0\n",
      "dtype: float64\n"
     ]
    }
   ],
   "source": [
    "Q1=Num_cols.quantile(.25)\n",
    "Q3=Num_cols.quantile(.75)\n",
    "IQR=Q3-Q1\n",
    "print(IQR*1.5)"
   ]
  },
  {
   "cell_type": "code",
   "execution_count": 65,
   "id": "d92806dc-97cc-41b6-8bd7-986cfedd0bdf",
   "metadata": {},
   "outputs": [
    {
     "name": "stdout",
     "output_type": "stream",
     "text": [
      "TotalVisits                      11.0\n",
      "Total Time Spent on Website    2322.0\n",
      "Page Views Per Visit              6.0\n",
      "dtype: float64\n"
     ]
    }
   ],
   "source": [
    "print(Q3+IQR*1.5)"
   ]
  },
  {
   "cell_type": "markdown",
   "id": "d705e255-0f7f-40b9-bdcf-1a27acc02a0e",
   "metadata": {},
   "source": [
    "### Imputing the outliers in TotalVisits and Page Views Per Visit with 1.5*IQR"
   ]
  },
  {
   "cell_type": "code",
   "execution_count": 66,
   "id": "900d0961-5bc9-4c13-8a14-1969441d0df0",
   "metadata": {},
   "outputs": [],
   "source": [
    "leads_excl.loc[leads_excl['TotalVisits'] > 11, 'TotalVisits'] = 6\n",
    "leads_excl.loc[leads_excl['Page Views Per Visit'] > 6, 'Page Views Per Visit'] = 3"
   ]
  },
  {
   "cell_type": "code",
   "execution_count": 67,
   "id": "e1cd3574-b538-4710-9a01-6022956e729d",
   "metadata": {},
   "outputs": [
    {
     "data": {
      "text/plain": [
       "(9240, 13)"
      ]
     },
     "execution_count": 67,
     "metadata": {},
     "output_type": "execute_result"
    }
   ],
   "source": [
    "leads_excl.shape"
   ]
  },
  {
   "cell_type": "code",
   "execution_count": 68,
   "id": "612fa341-b5a0-4b22-8c30-38c986030002",
   "metadata": {},
   "outputs": [
    {
     "name": "stdout",
     "output_type": "stream",
     "text": [
      "<class 'pandas.core.frame.DataFrame'>\n",
      "RangeIndex: 9240 entries, 0 to 9239\n",
      "Data columns (total 13 columns):\n",
      " #   Column                                  Non-Null Count  Dtype  \n",
      "---  ------                                  --------------  -----  \n",
      " 0   Lead Origin                             9240 non-null   object \n",
      " 1   Lead Source                             9240 non-null   object \n",
      " 2   Converted                               9240 non-null   int64  \n",
      " 3   TotalVisits                             9240 non-null   float64\n",
      " 4   Total Time Spent on Website             9240 non-null   int64  \n",
      " 5   Page Views Per Visit                    9240 non-null   float64\n",
      " 6   Last Activity                           9240 non-null   object \n",
      " 7   Specialization                          9240 non-null   object \n",
      " 8   What is your current occupation         9240 non-null   object \n",
      " 9   Tags                                    9240 non-null   object \n",
      " 10  City                                    9240 non-null   object \n",
      " 11  A free copy of Mastering The Interview  9240 non-null   object \n",
      " 12  Last Notable Activity                   9240 non-null   object \n",
      "dtypes: float64(2), int64(2), object(9)\n",
      "memory usage: 938.6+ KB\n"
     ]
    }
   ],
   "source": [
    "leads_excl.info()"
   ]
  },
  {
   "cell_type": "code",
   "execution_count": 69,
   "id": "e05484cc-f808-473a-a38c-b00aa3190afa",
   "metadata": {},
   "outputs": [
    {
     "data": {
      "text/html": [
       "<div>\n",
       "<style scoped>\n",
       "    .dataframe tbody tr th:only-of-type {\n",
       "        vertical-align: middle;\n",
       "    }\n",
       "\n",
       "    .dataframe tbody tr th {\n",
       "        vertical-align: top;\n",
       "    }\n",
       "\n",
       "    .dataframe thead th {\n",
       "        text-align: right;\n",
       "    }\n",
       "</style>\n",
       "<table border=\"1\" class=\"dataframe\">\n",
       "  <thead>\n",
       "    <tr style=\"text-align: right;\">\n",
       "      <th></th>\n",
       "      <th>Lead Origin</th>\n",
       "      <th>Lead Source</th>\n",
       "      <th>Converted</th>\n",
       "      <th>TotalVisits</th>\n",
       "      <th>Total Time Spent on Website</th>\n",
       "      <th>Page Views Per Visit</th>\n",
       "      <th>Last Activity</th>\n",
       "      <th>Specialization</th>\n",
       "      <th>What is your current occupation</th>\n",
       "      <th>Tags</th>\n",
       "      <th>City</th>\n",
       "      <th>A free copy of Mastering The Interview</th>\n",
       "      <th>Last Notable Activity</th>\n",
       "    </tr>\n",
       "  </thead>\n",
       "  <tbody>\n",
       "    <tr>\n",
       "      <th>0</th>\n",
       "      <td>API</td>\n",
       "      <td>Olark Chat</td>\n",
       "      <td>0</td>\n",
       "      <td>0.0</td>\n",
       "      <td>0</td>\n",
       "      <td>0.0</td>\n",
       "      <td>Page Visited on Website</td>\n",
       "      <td>Others</td>\n",
       "      <td>Unemployed</td>\n",
       "      <td>Interested in other courses</td>\n",
       "      <td>Others</td>\n",
       "      <td>No</td>\n",
       "      <td>Modified</td>\n",
       "    </tr>\n",
       "    <tr>\n",
       "      <th>1</th>\n",
       "      <td>API</td>\n",
       "      <td>Organic Search</td>\n",
       "      <td>0</td>\n",
       "      <td>5.0</td>\n",
       "      <td>674</td>\n",
       "      <td>2.5</td>\n",
       "      <td>Email Opened</td>\n",
       "      <td>Others</td>\n",
       "      <td>Unemployed</td>\n",
       "      <td>Ringing</td>\n",
       "      <td>Others</td>\n",
       "      <td>No</td>\n",
       "      <td>Email Opened</td>\n",
       "    </tr>\n",
       "    <tr>\n",
       "      <th>2</th>\n",
       "      <td>Landing Page Submission</td>\n",
       "      <td>Direct Traffic</td>\n",
       "      <td>1</td>\n",
       "      <td>2.0</td>\n",
       "      <td>1532</td>\n",
       "      <td>2.0</td>\n",
       "      <td>Email Opened</td>\n",
       "      <td>Business Administration</td>\n",
       "      <td>Student</td>\n",
       "      <td>Will revert after reading the email</td>\n",
       "      <td>Mumbai</td>\n",
       "      <td>Yes</td>\n",
       "      <td>Email Opened</td>\n",
       "    </tr>\n",
       "    <tr>\n",
       "      <th>3</th>\n",
       "      <td>Landing Page Submission</td>\n",
       "      <td>Direct Traffic</td>\n",
       "      <td>0</td>\n",
       "      <td>1.0</td>\n",
       "      <td>305</td>\n",
       "      <td>1.0</td>\n",
       "      <td>Others</td>\n",
       "      <td>Media and Advertising</td>\n",
       "      <td>Unemployed</td>\n",
       "      <td>Ringing</td>\n",
       "      <td>Mumbai</td>\n",
       "      <td>No</td>\n",
       "      <td>Modified</td>\n",
       "    </tr>\n",
       "    <tr>\n",
       "      <th>4</th>\n",
       "      <td>Landing Page Submission</td>\n",
       "      <td>Google</td>\n",
       "      <td>1</td>\n",
       "      <td>2.0</td>\n",
       "      <td>1428</td>\n",
       "      <td>1.0</td>\n",
       "      <td>Converted to Lead</td>\n",
       "      <td>Others</td>\n",
       "      <td>Unemployed</td>\n",
       "      <td>Will revert after reading the email</td>\n",
       "      <td>Mumbai</td>\n",
       "      <td>No</td>\n",
       "      <td>Modified</td>\n",
       "    </tr>\n",
       "  </tbody>\n",
       "</table>\n",
       "</div>"
      ],
      "text/plain": [
       "               Lead Origin     Lead Source  Converted  TotalVisits  \\\n",
       "0                      API      Olark Chat          0          0.0   \n",
       "1                      API  Organic Search          0          5.0   \n",
       "2  Landing Page Submission  Direct Traffic          1          2.0   \n",
       "3  Landing Page Submission  Direct Traffic          0          1.0   \n",
       "4  Landing Page Submission          Google          1          2.0   \n",
       "\n",
       "   Total Time Spent on Website  Page Views Per Visit            Last Activity  \\\n",
       "0                            0                   0.0  Page Visited on Website   \n",
       "1                          674                   2.5             Email Opened   \n",
       "2                         1532                   2.0             Email Opened   \n",
       "3                          305                   1.0                   Others   \n",
       "4                         1428                   1.0        Converted to Lead   \n",
       "\n",
       "            Specialization What is your current occupation  \\\n",
       "0                   Others                      Unemployed   \n",
       "1                   Others                      Unemployed   \n",
       "2  Business Administration                         Student   \n",
       "3    Media and Advertising                      Unemployed   \n",
       "4                   Others                      Unemployed   \n",
       "\n",
       "                                  Tags    City  \\\n",
       "0          Interested in other courses  Others   \n",
       "1                              Ringing  Others   \n",
       "2  Will revert after reading the email  Mumbai   \n",
       "3                              Ringing  Mumbai   \n",
       "4  Will revert after reading the email  Mumbai   \n",
       "\n",
       "  A free copy of Mastering The Interview Last Notable Activity  \n",
       "0                                     No              Modified  \n",
       "1                                     No          Email Opened  \n",
       "2                                    Yes          Email Opened  \n",
       "3                                     No              Modified  \n",
       "4                                     No              Modified  "
      ]
     },
     "execution_count": 69,
     "metadata": {},
     "output_type": "execute_result"
    }
   ],
   "source": [
    "leads_excl.head()"
   ]
  },
  {
   "cell_type": "markdown",
   "id": "e251d6da-f4d8-4ef4-bfa4-40e05124416e",
   "metadata": {},
   "source": [
    "## Dummy creation for 'A free copy of Mastering The Interview'"
   ]
  },
  {
   "cell_type": "code",
   "execution_count": 70,
   "id": "ccb2c213-9cea-4151-8840-3e7a7a747395",
   "metadata": {},
   "outputs": [
    {
     "data": {
      "text/plain": [
       "0    6352\n",
       "1    2888\n",
       "Name: A free copy of Mastering The Interview, dtype: int64"
      ]
     },
     "execution_count": 70,
     "metadata": {},
     "output_type": "execute_result"
    }
   ],
   "source": [
    "leads_excl['A free copy of Mastering The Interview'] = leads_excl['A free copy of Mastering The Interview'].map({'No':0,'Yes':1})\n",
    "leads_excl['A free copy of Mastering The Interview'].value_counts()"
   ]
  },
  {
   "cell_type": "code",
   "execution_count": 71,
   "id": "f23b2b40-aa9e-4986-9cdb-77b9bc2f494a",
   "metadata": {},
   "outputs": [
    {
     "data": {
      "text/html": [
       "<div>\n",
       "<style scoped>\n",
       "    .dataframe tbody tr th:only-of-type {\n",
       "        vertical-align: middle;\n",
       "    }\n",
       "\n",
       "    .dataframe tbody tr th {\n",
       "        vertical-align: top;\n",
       "    }\n",
       "\n",
       "    .dataframe thead th {\n",
       "        text-align: right;\n",
       "    }\n",
       "</style>\n",
       "<table border=\"1\" class=\"dataframe\">\n",
       "  <thead>\n",
       "    <tr style=\"text-align: right;\">\n",
       "      <th></th>\n",
       "      <th>Converted</th>\n",
       "      <th>TotalVisits</th>\n",
       "      <th>Total Time Spent on Website</th>\n",
       "      <th>Page Views Per Visit</th>\n",
       "      <th>A free copy of Mastering The Interview</th>\n",
       "      <th>Lead Origin_Landing Page Submission</th>\n",
       "      <th>Lead Origin_Lead Add Form</th>\n",
       "      <th>Lead Origin_Lead Import</th>\n",
       "      <th>Lead Origin_Quick Add Form</th>\n",
       "      <th>Lead Source_Google</th>\n",
       "      <th>Lead Source_Olark Chat</th>\n",
       "      <th>Lead Source_Organic Search</th>\n",
       "      <th>Lead Source_Others</th>\n",
       "      <th>Lead Source_Reference</th>\n",
       "      <th>Lead Source_Referral Sites</th>\n",
       "      <th>Lead Source_Welingak Website</th>\n",
       "      <th>Last Activity_Email Bounced</th>\n",
       "      <th>Last Activity_Email Link Clicked</th>\n",
       "      <th>Last Activity_Email Opened</th>\n",
       "      <th>Last Activity_Form Submitted on Website</th>\n",
       "      <th>Last Activity_Olark Chat Conversation</th>\n",
       "      <th>Last Activity_Others</th>\n",
       "      <th>Last Activity_Page Visited on Website</th>\n",
       "      <th>Last Activity_SMS Sent</th>\n",
       "      <th>Specialization_Business Administration</th>\n",
       "      <th>Specialization_E-COMMERCE</th>\n",
       "      <th>Specialization_Finance Management</th>\n",
       "      <th>Specialization_Healthcare Management</th>\n",
       "      <th>Specialization_Hospitality Management</th>\n",
       "      <th>Specialization_Human Resource Management</th>\n",
       "      <th>Specialization_IT Projects Management</th>\n",
       "      <th>Specialization_International Business</th>\n",
       "      <th>Specialization_Marketing Management</th>\n",
       "      <th>Specialization_Media and Advertising</th>\n",
       "      <th>Specialization_Operations Management</th>\n",
       "      <th>Specialization_Others</th>\n",
       "      <th>Specialization_Retail Management</th>\n",
       "      <th>Specialization_Supply Chain Management</th>\n",
       "      <th>Specialization_Travel and Tourism</th>\n",
       "      <th>What is your current occupation_Housewife</th>\n",
       "      <th>What is your current occupation_Other</th>\n",
       "      <th>What is your current occupation_Student</th>\n",
       "      <th>What is your current occupation_Unemployed</th>\n",
       "      <th>What is your current occupation_Working Professional</th>\n",
       "      <th>Tags_Interested in other courses</th>\n",
       "      <th>Tags_Others</th>\n",
       "      <th>Tags_Ringing</th>\n",
       "      <th>Tags_Will revert after reading the email</th>\n",
       "      <th>City_Others</th>\n",
       "      <th>City_Thane &amp; Outskirts</th>\n",
       "      <th>Last Notable Activity_Email Opened</th>\n",
       "      <th>Last Notable Activity_Modified</th>\n",
       "      <th>Last Notable Activity_Olark Chat Conversation</th>\n",
       "      <th>Last Notable Activity_Others</th>\n",
       "      <th>Last Notable Activity_Page Visited on Website</th>\n",
       "      <th>Last Notable Activity_SMS Sent</th>\n",
       "    </tr>\n",
       "  </thead>\n",
       "  <tbody>\n",
       "    <tr>\n",
       "      <th>0</th>\n",
       "      <td>0</td>\n",
       "      <td>0.0</td>\n",
       "      <td>0</td>\n",
       "      <td>0.0</td>\n",
       "      <td>0</td>\n",
       "      <td>0</td>\n",
       "      <td>0</td>\n",
       "      <td>0</td>\n",
       "      <td>0</td>\n",
       "      <td>0</td>\n",
       "      <td>1</td>\n",
       "      <td>0</td>\n",
       "      <td>0</td>\n",
       "      <td>0</td>\n",
       "      <td>0</td>\n",
       "      <td>0</td>\n",
       "      <td>0</td>\n",
       "      <td>0</td>\n",
       "      <td>0</td>\n",
       "      <td>0</td>\n",
       "      <td>0</td>\n",
       "      <td>0</td>\n",
       "      <td>1</td>\n",
       "      <td>0</td>\n",
       "      <td>0</td>\n",
       "      <td>0</td>\n",
       "      <td>0</td>\n",
       "      <td>0</td>\n",
       "      <td>0</td>\n",
       "      <td>0</td>\n",
       "      <td>0</td>\n",
       "      <td>0</td>\n",
       "      <td>0</td>\n",
       "      <td>0</td>\n",
       "      <td>0</td>\n",
       "      <td>1</td>\n",
       "      <td>0</td>\n",
       "      <td>0</td>\n",
       "      <td>0</td>\n",
       "      <td>0</td>\n",
       "      <td>0</td>\n",
       "      <td>0</td>\n",
       "      <td>1</td>\n",
       "      <td>0</td>\n",
       "      <td>1</td>\n",
       "      <td>0</td>\n",
       "      <td>0</td>\n",
       "      <td>0</td>\n",
       "      <td>1</td>\n",
       "      <td>0</td>\n",
       "      <td>0</td>\n",
       "      <td>1</td>\n",
       "      <td>0</td>\n",
       "      <td>0</td>\n",
       "      <td>0</td>\n",
       "      <td>0</td>\n",
       "    </tr>\n",
       "    <tr>\n",
       "      <th>1</th>\n",
       "      <td>0</td>\n",
       "      <td>5.0</td>\n",
       "      <td>674</td>\n",
       "      <td>2.5</td>\n",
       "      <td>0</td>\n",
       "      <td>0</td>\n",
       "      <td>0</td>\n",
       "      <td>0</td>\n",
       "      <td>0</td>\n",
       "      <td>0</td>\n",
       "      <td>0</td>\n",
       "      <td>1</td>\n",
       "      <td>0</td>\n",
       "      <td>0</td>\n",
       "      <td>0</td>\n",
       "      <td>0</td>\n",
       "      <td>0</td>\n",
       "      <td>0</td>\n",
       "      <td>1</td>\n",
       "      <td>0</td>\n",
       "      <td>0</td>\n",
       "      <td>0</td>\n",
       "      <td>0</td>\n",
       "      <td>0</td>\n",
       "      <td>0</td>\n",
       "      <td>0</td>\n",
       "      <td>0</td>\n",
       "      <td>0</td>\n",
       "      <td>0</td>\n",
       "      <td>0</td>\n",
       "      <td>0</td>\n",
       "      <td>0</td>\n",
       "      <td>0</td>\n",
       "      <td>0</td>\n",
       "      <td>0</td>\n",
       "      <td>1</td>\n",
       "      <td>0</td>\n",
       "      <td>0</td>\n",
       "      <td>0</td>\n",
       "      <td>0</td>\n",
       "      <td>0</td>\n",
       "      <td>0</td>\n",
       "      <td>1</td>\n",
       "      <td>0</td>\n",
       "      <td>0</td>\n",
       "      <td>0</td>\n",
       "      <td>1</td>\n",
       "      <td>0</td>\n",
       "      <td>1</td>\n",
       "      <td>0</td>\n",
       "      <td>1</td>\n",
       "      <td>0</td>\n",
       "      <td>0</td>\n",
       "      <td>0</td>\n",
       "      <td>0</td>\n",
       "      <td>0</td>\n",
       "    </tr>\n",
       "    <tr>\n",
       "      <th>2</th>\n",
       "      <td>1</td>\n",
       "      <td>2.0</td>\n",
       "      <td>1532</td>\n",
       "      <td>2.0</td>\n",
       "      <td>1</td>\n",
       "      <td>1</td>\n",
       "      <td>0</td>\n",
       "      <td>0</td>\n",
       "      <td>0</td>\n",
       "      <td>0</td>\n",
       "      <td>0</td>\n",
       "      <td>0</td>\n",
       "      <td>0</td>\n",
       "      <td>0</td>\n",
       "      <td>0</td>\n",
       "      <td>0</td>\n",
       "      <td>0</td>\n",
       "      <td>0</td>\n",
       "      <td>1</td>\n",
       "      <td>0</td>\n",
       "      <td>0</td>\n",
       "      <td>0</td>\n",
       "      <td>0</td>\n",
       "      <td>0</td>\n",
       "      <td>1</td>\n",
       "      <td>0</td>\n",
       "      <td>0</td>\n",
       "      <td>0</td>\n",
       "      <td>0</td>\n",
       "      <td>0</td>\n",
       "      <td>0</td>\n",
       "      <td>0</td>\n",
       "      <td>0</td>\n",
       "      <td>0</td>\n",
       "      <td>0</td>\n",
       "      <td>0</td>\n",
       "      <td>0</td>\n",
       "      <td>0</td>\n",
       "      <td>0</td>\n",
       "      <td>0</td>\n",
       "      <td>0</td>\n",
       "      <td>1</td>\n",
       "      <td>0</td>\n",
       "      <td>0</td>\n",
       "      <td>0</td>\n",
       "      <td>0</td>\n",
       "      <td>0</td>\n",
       "      <td>1</td>\n",
       "      <td>0</td>\n",
       "      <td>0</td>\n",
       "      <td>1</td>\n",
       "      <td>0</td>\n",
       "      <td>0</td>\n",
       "      <td>0</td>\n",
       "      <td>0</td>\n",
       "      <td>0</td>\n",
       "    </tr>\n",
       "    <tr>\n",
       "      <th>3</th>\n",
       "      <td>0</td>\n",
       "      <td>1.0</td>\n",
       "      <td>305</td>\n",
       "      <td>1.0</td>\n",
       "      <td>0</td>\n",
       "      <td>1</td>\n",
       "      <td>0</td>\n",
       "      <td>0</td>\n",
       "      <td>0</td>\n",
       "      <td>0</td>\n",
       "      <td>0</td>\n",
       "      <td>0</td>\n",
       "      <td>0</td>\n",
       "      <td>0</td>\n",
       "      <td>0</td>\n",
       "      <td>0</td>\n",
       "      <td>0</td>\n",
       "      <td>0</td>\n",
       "      <td>0</td>\n",
       "      <td>0</td>\n",
       "      <td>0</td>\n",
       "      <td>1</td>\n",
       "      <td>0</td>\n",
       "      <td>0</td>\n",
       "      <td>0</td>\n",
       "      <td>0</td>\n",
       "      <td>0</td>\n",
       "      <td>0</td>\n",
       "      <td>0</td>\n",
       "      <td>0</td>\n",
       "      <td>0</td>\n",
       "      <td>0</td>\n",
       "      <td>0</td>\n",
       "      <td>1</td>\n",
       "      <td>0</td>\n",
       "      <td>0</td>\n",
       "      <td>0</td>\n",
       "      <td>0</td>\n",
       "      <td>0</td>\n",
       "      <td>0</td>\n",
       "      <td>0</td>\n",
       "      <td>0</td>\n",
       "      <td>1</td>\n",
       "      <td>0</td>\n",
       "      <td>0</td>\n",
       "      <td>0</td>\n",
       "      <td>1</td>\n",
       "      <td>0</td>\n",
       "      <td>0</td>\n",
       "      <td>0</td>\n",
       "      <td>0</td>\n",
       "      <td>1</td>\n",
       "      <td>0</td>\n",
       "      <td>0</td>\n",
       "      <td>0</td>\n",
       "      <td>0</td>\n",
       "    </tr>\n",
       "    <tr>\n",
       "      <th>4</th>\n",
       "      <td>1</td>\n",
       "      <td>2.0</td>\n",
       "      <td>1428</td>\n",
       "      <td>1.0</td>\n",
       "      <td>0</td>\n",
       "      <td>1</td>\n",
       "      <td>0</td>\n",
       "      <td>0</td>\n",
       "      <td>0</td>\n",
       "      <td>1</td>\n",
       "      <td>0</td>\n",
       "      <td>0</td>\n",
       "      <td>0</td>\n",
       "      <td>0</td>\n",
       "      <td>0</td>\n",
       "      <td>0</td>\n",
       "      <td>0</td>\n",
       "      <td>0</td>\n",
       "      <td>0</td>\n",
       "      <td>0</td>\n",
       "      <td>0</td>\n",
       "      <td>0</td>\n",
       "      <td>0</td>\n",
       "      <td>0</td>\n",
       "      <td>0</td>\n",
       "      <td>0</td>\n",
       "      <td>0</td>\n",
       "      <td>0</td>\n",
       "      <td>0</td>\n",
       "      <td>0</td>\n",
       "      <td>0</td>\n",
       "      <td>0</td>\n",
       "      <td>0</td>\n",
       "      <td>0</td>\n",
       "      <td>0</td>\n",
       "      <td>1</td>\n",
       "      <td>0</td>\n",
       "      <td>0</td>\n",
       "      <td>0</td>\n",
       "      <td>0</td>\n",
       "      <td>0</td>\n",
       "      <td>0</td>\n",
       "      <td>1</td>\n",
       "      <td>0</td>\n",
       "      <td>0</td>\n",
       "      <td>0</td>\n",
       "      <td>0</td>\n",
       "      <td>1</td>\n",
       "      <td>0</td>\n",
       "      <td>0</td>\n",
       "      <td>0</td>\n",
       "      <td>1</td>\n",
       "      <td>0</td>\n",
       "      <td>0</td>\n",
       "      <td>0</td>\n",
       "      <td>0</td>\n",
       "    </tr>\n",
       "  </tbody>\n",
       "</table>\n",
       "</div>"
      ],
      "text/plain": [
       "   Converted  TotalVisits  Total Time Spent on Website  Page Views Per Visit  \\\n",
       "0          0          0.0                            0                   0.0   \n",
       "1          0          5.0                          674                   2.5   \n",
       "2          1          2.0                         1532                   2.0   \n",
       "3          0          1.0                          305                   1.0   \n",
       "4          1          2.0                         1428                   1.0   \n",
       "\n",
       "   A free copy of Mastering The Interview  \\\n",
       "0                                       0   \n",
       "1                                       0   \n",
       "2                                       1   \n",
       "3                                       0   \n",
       "4                                       0   \n",
       "\n",
       "   Lead Origin_Landing Page Submission  Lead Origin_Lead Add Form  \\\n",
       "0                                    0                          0   \n",
       "1                                    0                          0   \n",
       "2                                    1                          0   \n",
       "3                                    1                          0   \n",
       "4                                    1                          0   \n",
       "\n",
       "   Lead Origin_Lead Import  Lead Origin_Quick Add Form  Lead Source_Google  \\\n",
       "0                        0                           0                   0   \n",
       "1                        0                           0                   0   \n",
       "2                        0                           0                   0   \n",
       "3                        0                           0                   0   \n",
       "4                        0                           0                   1   \n",
       "\n",
       "   Lead Source_Olark Chat  Lead Source_Organic Search  Lead Source_Others  \\\n",
       "0                       1                           0                   0   \n",
       "1                       0                           1                   0   \n",
       "2                       0                           0                   0   \n",
       "3                       0                           0                   0   \n",
       "4                       0                           0                   0   \n",
       "\n",
       "   Lead Source_Reference  Lead Source_Referral Sites  \\\n",
       "0                      0                           0   \n",
       "1                      0                           0   \n",
       "2                      0                           0   \n",
       "3                      0                           0   \n",
       "4                      0                           0   \n",
       "\n",
       "   Lead Source_Welingak Website  Last Activity_Email Bounced  \\\n",
       "0                             0                            0   \n",
       "1                             0                            0   \n",
       "2                             0                            0   \n",
       "3                             0                            0   \n",
       "4                             0                            0   \n",
       "\n",
       "   Last Activity_Email Link Clicked  Last Activity_Email Opened  \\\n",
       "0                                 0                           0   \n",
       "1                                 0                           1   \n",
       "2                                 0                           1   \n",
       "3                                 0                           0   \n",
       "4                                 0                           0   \n",
       "\n",
       "   Last Activity_Form Submitted on Website  \\\n",
       "0                                        0   \n",
       "1                                        0   \n",
       "2                                        0   \n",
       "3                                        0   \n",
       "4                                        0   \n",
       "\n",
       "   Last Activity_Olark Chat Conversation  Last Activity_Others  \\\n",
       "0                                      0                     0   \n",
       "1                                      0                     0   \n",
       "2                                      0                     0   \n",
       "3                                      0                     1   \n",
       "4                                      0                     0   \n",
       "\n",
       "   Last Activity_Page Visited on Website  Last Activity_SMS Sent  \\\n",
       "0                                      1                       0   \n",
       "1                                      0                       0   \n",
       "2                                      0                       0   \n",
       "3                                      0                       0   \n",
       "4                                      0                       0   \n",
       "\n",
       "   Specialization_Business Administration  Specialization_E-COMMERCE  \\\n",
       "0                                       0                          0   \n",
       "1                                       0                          0   \n",
       "2                                       1                          0   \n",
       "3                                       0                          0   \n",
       "4                                       0                          0   \n",
       "\n",
       "   Specialization_Finance Management  Specialization_Healthcare Management  \\\n",
       "0                                  0                                     0   \n",
       "1                                  0                                     0   \n",
       "2                                  0                                     0   \n",
       "3                                  0                                     0   \n",
       "4                                  0                                     0   \n",
       "\n",
       "   Specialization_Hospitality Management  \\\n",
       "0                                      0   \n",
       "1                                      0   \n",
       "2                                      0   \n",
       "3                                      0   \n",
       "4                                      0   \n",
       "\n",
       "   Specialization_Human Resource Management  \\\n",
       "0                                         0   \n",
       "1                                         0   \n",
       "2                                         0   \n",
       "3                                         0   \n",
       "4                                         0   \n",
       "\n",
       "   Specialization_IT Projects Management  \\\n",
       "0                                      0   \n",
       "1                                      0   \n",
       "2                                      0   \n",
       "3                                      0   \n",
       "4                                      0   \n",
       "\n",
       "   Specialization_International Business  Specialization_Marketing Management  \\\n",
       "0                                      0                                    0   \n",
       "1                                      0                                    0   \n",
       "2                                      0                                    0   \n",
       "3                                      0                                    0   \n",
       "4                                      0                                    0   \n",
       "\n",
       "   Specialization_Media and Advertising  Specialization_Operations Management  \\\n",
       "0                                     0                                     0   \n",
       "1                                     0                                     0   \n",
       "2                                     0                                     0   \n",
       "3                                     1                                     0   \n",
       "4                                     0                                     0   \n",
       "\n",
       "   Specialization_Others  Specialization_Retail Management  \\\n",
       "0                      1                                 0   \n",
       "1                      1                                 0   \n",
       "2                      0                                 0   \n",
       "3                      0                                 0   \n",
       "4                      1                                 0   \n",
       "\n",
       "   Specialization_Supply Chain Management  Specialization_Travel and Tourism  \\\n",
       "0                                       0                                  0   \n",
       "1                                       0                                  0   \n",
       "2                                       0                                  0   \n",
       "3                                       0                                  0   \n",
       "4                                       0                                  0   \n",
       "\n",
       "   What is your current occupation_Housewife  \\\n",
       "0                                          0   \n",
       "1                                          0   \n",
       "2                                          0   \n",
       "3                                          0   \n",
       "4                                          0   \n",
       "\n",
       "   What is your current occupation_Other  \\\n",
       "0                                      0   \n",
       "1                                      0   \n",
       "2                                      0   \n",
       "3                                      0   \n",
       "4                                      0   \n",
       "\n",
       "   What is your current occupation_Student  \\\n",
       "0                                        0   \n",
       "1                                        0   \n",
       "2                                        1   \n",
       "3                                        0   \n",
       "4                                        0   \n",
       "\n",
       "   What is your current occupation_Unemployed  \\\n",
       "0                                           1   \n",
       "1                                           1   \n",
       "2                                           0   \n",
       "3                                           1   \n",
       "4                                           1   \n",
       "\n",
       "   What is your current occupation_Working Professional  \\\n",
       "0                                                  0      \n",
       "1                                                  0      \n",
       "2                                                  0      \n",
       "3                                                  0      \n",
       "4                                                  0      \n",
       "\n",
       "   Tags_Interested in other courses  Tags_Others  Tags_Ringing  \\\n",
       "0                                 1            0             0   \n",
       "1                                 0            0             1   \n",
       "2                                 0            0             0   \n",
       "3                                 0            0             1   \n",
       "4                                 0            0             0   \n",
       "\n",
       "   Tags_Will revert after reading the email  City_Others  \\\n",
       "0                                         0            1   \n",
       "1                                         0            1   \n",
       "2                                         1            0   \n",
       "3                                         0            0   \n",
       "4                                         1            0   \n",
       "\n",
       "   City_Thane & Outskirts  Last Notable Activity_Email Opened  \\\n",
       "0                       0                                   0   \n",
       "1                       0                                   1   \n",
       "2                       0                                   1   \n",
       "3                       0                                   0   \n",
       "4                       0                                   0   \n",
       "\n",
       "   Last Notable Activity_Modified  \\\n",
       "0                               1   \n",
       "1                               0   \n",
       "2                               0   \n",
       "3                               1   \n",
       "4                               1   \n",
       "\n",
       "   Last Notable Activity_Olark Chat Conversation  \\\n",
       "0                                              0   \n",
       "1                                              0   \n",
       "2                                              0   \n",
       "3                                              0   \n",
       "4                                              0   \n",
       "\n",
       "   Last Notable Activity_Others  \\\n",
       "0                             0   \n",
       "1                             0   \n",
       "2                             0   \n",
       "3                             0   \n",
       "4                             0   \n",
       "\n",
       "   Last Notable Activity_Page Visited on Website  \\\n",
       "0                                              0   \n",
       "1                                              0   \n",
       "2                                              0   \n",
       "3                                              0   \n",
       "4                                              0   \n",
       "\n",
       "   Last Notable Activity_SMS Sent  \n",
       "0                               0  \n",
       "1                               0  \n",
       "2                               0  \n",
       "3                               0  \n",
       "4                               0  "
      ]
     },
     "execution_count": 71,
     "metadata": {},
     "output_type": "execute_result"
    }
   ],
   "source": [
    "leads_excl = pd.get_dummies(leads_excl, drop_first=True)\n",
    "leads_excl.head()"
   ]
  },
  {
   "cell_type": "code",
   "execution_count": 72,
   "id": "68b2ac7b-7877-4864-a4f3-cb785c70cb66",
   "metadata": {},
   "outputs": [
    {
     "name": "stdout",
     "output_type": "stream",
     "text": [
      "<class 'pandas.core.frame.DataFrame'>\n",
      "RangeIndex: 9240 entries, 0 to 9239\n",
      "Data columns (total 56 columns):\n",
      " #   Column                                                Non-Null Count  Dtype  \n",
      "---  ------                                                --------------  -----  \n",
      " 0   Converted                                             9240 non-null   int64  \n",
      " 1   TotalVisits                                           9240 non-null   float64\n",
      " 2   Total Time Spent on Website                           9240 non-null   int64  \n",
      " 3   Page Views Per Visit                                  9240 non-null   float64\n",
      " 4   A free copy of Mastering The Interview                9240 non-null   int64  \n",
      " 5   Lead Origin_Landing Page Submission                   9240 non-null   uint8  \n",
      " 6   Lead Origin_Lead Add Form                             9240 non-null   uint8  \n",
      " 7   Lead Origin_Lead Import                               9240 non-null   uint8  \n",
      " 8   Lead Origin_Quick Add Form                            9240 non-null   uint8  \n",
      " 9   Lead Source_Google                                    9240 non-null   uint8  \n",
      " 10  Lead Source_Olark Chat                                9240 non-null   uint8  \n",
      " 11  Lead Source_Organic Search                            9240 non-null   uint8  \n",
      " 12  Lead Source_Others                                    9240 non-null   uint8  \n",
      " 13  Lead Source_Reference                                 9240 non-null   uint8  \n",
      " 14  Lead Source_Referral Sites                            9240 non-null   uint8  \n",
      " 15  Lead Source_Welingak Website                          9240 non-null   uint8  \n",
      " 16  Last Activity_Email Bounced                           9240 non-null   uint8  \n",
      " 17  Last Activity_Email Link Clicked                      9240 non-null   uint8  \n",
      " 18  Last Activity_Email Opened                            9240 non-null   uint8  \n",
      " 19  Last Activity_Form Submitted on Website               9240 non-null   uint8  \n",
      " 20  Last Activity_Olark Chat Conversation                 9240 non-null   uint8  \n",
      " 21  Last Activity_Others                                  9240 non-null   uint8  \n",
      " 22  Last Activity_Page Visited on Website                 9240 non-null   uint8  \n",
      " 23  Last Activity_SMS Sent                                9240 non-null   uint8  \n",
      " 24  Specialization_Business Administration                9240 non-null   uint8  \n",
      " 25  Specialization_E-COMMERCE                             9240 non-null   uint8  \n",
      " 26  Specialization_Finance Management                     9240 non-null   uint8  \n",
      " 27  Specialization_Healthcare Management                  9240 non-null   uint8  \n",
      " 28  Specialization_Hospitality Management                 9240 non-null   uint8  \n",
      " 29  Specialization_Human Resource Management              9240 non-null   uint8  \n",
      " 30  Specialization_IT Projects Management                 9240 non-null   uint8  \n",
      " 31  Specialization_International Business                 9240 non-null   uint8  \n",
      " 32  Specialization_Marketing Management                   9240 non-null   uint8  \n",
      " 33  Specialization_Media and Advertising                  9240 non-null   uint8  \n",
      " 34  Specialization_Operations Management                  9240 non-null   uint8  \n",
      " 35  Specialization_Others                                 9240 non-null   uint8  \n",
      " 36  Specialization_Retail Management                      9240 non-null   uint8  \n",
      " 37  Specialization_Supply Chain Management                9240 non-null   uint8  \n",
      " 38  Specialization_Travel and Tourism                     9240 non-null   uint8  \n",
      " 39  What is your current occupation_Housewife             9240 non-null   uint8  \n",
      " 40  What is your current occupation_Other                 9240 non-null   uint8  \n",
      " 41  What is your current occupation_Student               9240 non-null   uint8  \n",
      " 42  What is your current occupation_Unemployed            9240 non-null   uint8  \n",
      " 43  What is your current occupation_Working Professional  9240 non-null   uint8  \n",
      " 44  Tags_Interested in other courses                      9240 non-null   uint8  \n",
      " 45  Tags_Others                                           9240 non-null   uint8  \n",
      " 46  Tags_Ringing                                          9240 non-null   uint8  \n",
      " 47  Tags_Will revert after reading the email              9240 non-null   uint8  \n",
      " 48  City_Others                                           9240 non-null   uint8  \n",
      " 49  City_Thane & Outskirts                                9240 non-null   uint8  \n",
      " 50  Last Notable Activity_Email Opened                    9240 non-null   uint8  \n",
      " 51  Last Notable Activity_Modified                        9240 non-null   uint8  \n",
      " 52  Last Notable Activity_Olark Chat Conversation         9240 non-null   uint8  \n",
      " 53  Last Notable Activity_Others                          9240 non-null   uint8  \n",
      " 54  Last Notable Activity_Page Visited on Website         9240 non-null   uint8  \n",
      " 55  Last Notable Activity_SMS Sent                        9240 non-null   uint8  \n",
      "dtypes: float64(2), int64(3), uint8(51)\n",
      "memory usage: 821.3 KB\n"
     ]
    }
   ],
   "source": [
    "leads_excl.info()"
   ]
  },
  {
   "cell_type": "markdown",
   "id": "c4b6056b-0415-4cd9-85c6-2a65284cf4d1",
   "metadata": {},
   "source": [
    "## Train-Test Split"
   ]
  },
  {
   "cell_type": "code",
   "execution_count": 73,
   "id": "69b8fe3c-55f1-448f-b580-40bb3892f7de",
   "metadata": {},
   "outputs": [],
   "source": [
    "X=leads_excl.drop('Converted',axis=1)\n",
    "y=leads_excl.Converted\n",
    "\n",
    "X_train, X_test, y_train, y_test = train_test_split(X, y, train_size=0.7, test_size=0.3, random_state=100)"
   ]
  },
  {
   "cell_type": "markdown",
   "id": "f00ca621-2267-4922-8562-0abf8c0c00eb",
   "metadata": {},
   "source": [
    "## Scaling"
   ]
  },
  {
   "cell_type": "code",
   "execution_count": 74,
   "id": "25f87636-3fab-4e7e-9788-7b4c42900868",
   "metadata": {},
   "outputs": [],
   "source": [
    "to_scale=['TotalVisits','Total Time Spent on Website']\n",
    "scaler = StandardScaler()\n",
    "X_train[to_scale]=scaler.fit_transform(X_train[to_scale])"
   ]
  },
  {
   "cell_type": "markdown",
   "id": "2f12d0ea-04d0-4239-83bc-c975db83f76a",
   "metadata": {},
   "source": [
    "## Model Building"
   ]
  },
  {
   "cell_type": "markdown",
   "id": "4d179011-6d66-4ab3-b723-5bc7e670c3f5",
   "metadata": {},
   "source": [
    "### Feature Selection using RFE"
   ]
  },
  {
   "cell_type": "code",
   "execution_count": 75,
   "id": "9bd943c0-60f8-4df0-80d3-19ed8e4c066f",
   "metadata": {},
   "outputs": [
    {
     "data": {
      "text/plain": [
       "[('TotalVisits', False, 11),\n",
       " ('Total Time Spent on Website', True, 1),\n",
       " ('Page Views Per Visit', False, 12),\n",
       " ('A free copy of Mastering The Interview', False, 29),\n",
       " ('Lead Origin_Landing Page Submission', False, 4),\n",
       " ('Lead Origin_Lead Add Form', True, 1),\n",
       " ('Lead Origin_Lead Import', False, 21),\n",
       " ('Lead Origin_Quick Add Form', False, 14),\n",
       " ('Lead Source_Google', False, 13),\n",
       " ('Lead Source_Olark Chat', True, 1),\n",
       " ('Lead Source_Organic Search', False, 28),\n",
       " ('Lead Source_Others', False, 24),\n",
       " ('Lead Source_Reference', True, 1),\n",
       " ('Lead Source_Referral Sites', False, 26),\n",
       " ('Lead Source_Welingak Website', True, 1),\n",
       " ('Last Activity_Email Bounced', True, 1),\n",
       " ('Last Activity_Email Link Clicked', False, 10),\n",
       " ('Last Activity_Email Opened', True, 1),\n",
       " ('Last Activity_Form Submitted on Website', False, 8),\n",
       " ('Last Activity_Olark Chat Conversation', False, 3),\n",
       " ('Last Activity_Others', False, 19),\n",
       " ('Last Activity_Page Visited on Website', False, 27),\n",
       " ('Last Activity_SMS Sent', True, 1),\n",
       " ('Specialization_Business Administration', False, 18),\n",
       " ('Specialization_E-COMMERCE', False, 6),\n",
       " ('Specialization_Finance Management', False, 7),\n",
       " ('Specialization_Healthcare Management', False, 25),\n",
       " ('Specialization_Hospitality Management', True, 1),\n",
       " ('Specialization_Human Resource Management', False, 36),\n",
       " ('Specialization_IT Projects Management', False, 9),\n",
       " ('Specialization_International Business', True, 1),\n",
       " ('Specialization_Marketing Management', False, 33),\n",
       " ('Specialization_Media and Advertising', False, 30),\n",
       " ('Specialization_Operations Management', False, 23),\n",
       " ('Specialization_Others', False, 35),\n",
       " ('Specialization_Retail Management', False, 20),\n",
       " ('Specialization_Supply Chain Management', False, 15),\n",
       " ('Specialization_Travel and Tourism', True, 1),\n",
       " ('What is your current occupation_Housewife', True, 1),\n",
       " ('What is your current occupation_Other', True, 1),\n",
       " ('What is your current occupation_Student', False, 17),\n",
       " ('What is your current occupation_Unemployed', False, 34),\n",
       " ('What is your current occupation_Working Professional', True, 1),\n",
       " ('Tags_Interested in other courses', False, 22),\n",
       " ('Tags_Others', True, 1),\n",
       " ('Tags_Ringing', True, 1),\n",
       " ('Tags_Will revert after reading the email', True, 1),\n",
       " ('City_Others', False, 32),\n",
       " ('City_Thane & Outskirts', False, 31),\n",
       " ('Last Notable Activity_Email Opened', True, 1),\n",
       " ('Last Notable Activity_Modified', True, 1),\n",
       " ('Last Notable Activity_Olark Chat Conversation', False, 5),\n",
       " ('Last Notable Activity_Others', True, 1),\n",
       " ('Last Notable Activity_Page Visited on Website', False, 16),\n",
       " ('Last Notable Activity_SMS Sent', False, 2)]"
      ]
     },
     "execution_count": 75,
     "metadata": {},
     "output_type": "execute_result"
    }
   ],
   "source": [
    "logreg=LogisticRegression()\n",
    "rfe=RFE(logreg,20).fit(X_train,y_train)\n",
    "list(zip(X_train.columns, rfe.support_, rfe.ranking_))"
   ]
  },
  {
   "cell_type": "code",
   "execution_count": 76,
   "id": "41efbc69-9e11-46b7-968e-4b2bf415d669",
   "metadata": {},
   "outputs": [
    {
     "data": {
      "text/plain": [
       "Index(['Total Time Spent on Website', 'Lead Origin_Lead Add Form',\n",
       "       'Lead Source_Olark Chat', 'Lead Source_Reference',\n",
       "       'Lead Source_Welingak Website', 'Last Activity_Email Bounced',\n",
       "       'Last Activity_Email Opened', 'Last Activity_SMS Sent',\n",
       "       'Specialization_Hospitality Management',\n",
       "       'Specialization_International Business',\n",
       "       'Specialization_Travel and Tourism',\n",
       "       'What is your current occupation_Housewife',\n",
       "       'What is your current occupation_Other',\n",
       "       'What is your current occupation_Working Professional', 'Tags_Others',\n",
       "       'Tags_Ringing', 'Tags_Will revert after reading the email',\n",
       "       'Last Notable Activity_Email Opened', 'Last Notable Activity_Modified',\n",
       "       'Last Notable Activity_Others'],\n",
       "      dtype='object')"
      ]
     },
     "execution_count": 76,
     "metadata": {},
     "output_type": "execute_result"
    }
   ],
   "source": [
    "col=X_train.columns[rfe.support_]\n",
    "col"
   ]
  },
  {
   "cell_type": "markdown",
   "id": "ab72d92b-3532-4b13-9dab-7ecb5ec6ebca",
   "metadata": {},
   "source": [
    "### Model 1"
   ]
  },
  {
   "cell_type": "code",
   "execution_count": 77,
   "id": "9bfaeffd-89c4-4e19-b20d-768ad69d9135",
   "metadata": {},
   "outputs": [
    {
     "data": {
      "text/html": [
       "<table class=\"simpletable\">\n",
       "<caption>Generalized Linear Model Regression Results</caption>\n",
       "<tr>\n",
       "  <th>Dep. Variable:</th>       <td>Converted</td>    <th>  No. Observations:  </th>  <td>  6468</td> \n",
       "</tr>\n",
       "<tr>\n",
       "  <th>Model:</th>                  <td>GLM</td>       <th>  Df Residuals:      </th>  <td>  6447</td> \n",
       "</tr>\n",
       "<tr>\n",
       "  <th>Model Family:</th>        <td>Binomial</td>     <th>  Df Model:          </th>  <td>    20</td> \n",
       "</tr>\n",
       "<tr>\n",
       "  <th>Link Function:</th>         <td>logit</td>      <th>  Scale:             </th> <td>  1.0000</td>\n",
       "</tr>\n",
       "<tr>\n",
       "  <th>Method:</th>                <td>IRLS</td>       <th>  Log-Likelihood:    </th> <td> -1607.6</td>\n",
       "</tr>\n",
       "<tr>\n",
       "  <th>Date:</th>            <td>Tue, 12 Jul 2022</td> <th>  Deviance:          </th> <td>  3215.2</td>\n",
       "</tr>\n",
       "<tr>\n",
       "  <th>Time:</th>                <td>15:20:53</td>     <th>  Pearson chi2:      </th> <td>1.07e+04</td>\n",
       "</tr>\n",
       "<tr>\n",
       "  <th>No. Iterations:</th>         <td>21</td>        <th>                     </th>     <td> </td>   \n",
       "</tr>\n",
       "<tr>\n",
       "  <th>Covariance Type:</th>     <td>nonrobust</td>    <th>                     </th>     <td> </td>   \n",
       "</tr>\n",
       "</table>\n",
       "<table class=\"simpletable\">\n",
       "<tr>\n",
       "                            <td></td>                              <th>coef</th>     <th>std err</th>      <th>z</th>      <th>P>|z|</th>  <th>[0.025</th>    <th>0.975]</th>  \n",
       "</tr>\n",
       "<tr>\n",
       "  <th>const</th>                                                <td>   -4.5192</td> <td>    0.329</td> <td>  -13.756</td> <td> 0.000</td> <td>   -5.163</td> <td>   -3.875</td>\n",
       "</tr>\n",
       "<tr>\n",
       "  <th>Total Time Spent on Website</th>                          <td>    1.1263</td> <td>    0.053</td> <td>   21.253</td> <td> 0.000</td> <td>    1.022</td> <td>    1.230</td>\n",
       "</tr>\n",
       "<tr>\n",
       "  <th>Lead Origin_Lead Add Form</th>                            <td>    1.8570</td> <td>    0.670</td> <td>    2.771</td> <td> 0.006</td> <td>    0.543</td> <td>    3.171</td>\n",
       "</tr>\n",
       "<tr>\n",
       "  <th>Lead Source_Olark Chat</th>                               <td>    1.2230</td> <td>    0.129</td> <td>    9.485</td> <td> 0.000</td> <td>    0.970</td> <td>    1.476</td>\n",
       "</tr>\n",
       "<tr>\n",
       "  <th>Lead Source_Reference</th>                                <td>    1.7282</td> <td>    0.714</td> <td>    2.422</td> <td> 0.015</td> <td>    0.330</td> <td>    3.127</td>\n",
       "</tr>\n",
       "<tr>\n",
       "  <th>Lead Source_Welingak Website</th>                         <td>    3.2255</td> <td>    0.982</td> <td>    3.284</td> <td> 0.001</td> <td>    1.300</td> <td>    5.151</td>\n",
       "</tr>\n",
       "<tr>\n",
       "  <th>Last Activity_Email Bounced</th>                          <td>   -1.2770</td> <td>    0.394</td> <td>   -3.239</td> <td> 0.001</td> <td>   -2.050</td> <td>   -0.504</td>\n",
       "</tr>\n",
       "<tr>\n",
       "  <th>Last Activity_Email Opened</th>                           <td>    1.3549</td> <td>    0.188</td> <td>    7.192</td> <td> 0.000</td> <td>    0.986</td> <td>    1.724</td>\n",
       "</tr>\n",
       "<tr>\n",
       "  <th>Last Activity_SMS Sent</th>                               <td>    1.7093</td> <td>    0.138</td> <td>   12.372</td> <td> 0.000</td> <td>    1.439</td> <td>    1.980</td>\n",
       "</tr>\n",
       "<tr>\n",
       "  <th>Specialization_Hospitality Management</th>                <td>   -0.8297</td> <td>    0.418</td> <td>   -1.987</td> <td> 0.047</td> <td>   -1.648</td> <td>   -0.011</td>\n",
       "</tr>\n",
       "<tr>\n",
       "  <th>Specialization_International Business</th>                <td>   -0.7825</td> <td>    0.361</td> <td>   -2.165</td> <td> 0.030</td> <td>   -1.491</td> <td>   -0.074</td>\n",
       "</tr>\n",
       "<tr>\n",
       "  <th>Specialization_Travel and Tourism</th>                    <td>   -0.7374</td> <td>    0.338</td> <td>   -2.179</td> <td> 0.029</td> <td>   -1.401</td> <td>   -0.074</td>\n",
       "</tr>\n",
       "<tr>\n",
       "  <th>What is your current occupation_Housewife</th>            <td>   21.1650</td> <td> 1.36e+04</td> <td>    0.002</td> <td> 0.999</td> <td>-2.66e+04</td> <td> 2.66e+04</td>\n",
       "</tr>\n",
       "<tr>\n",
       "  <th>What is your current occupation_Other</th>                <td>   -1.2809</td> <td>    0.103</td> <td>  -12.479</td> <td> 0.000</td> <td>   -1.482</td> <td>   -1.080</td>\n",
       "</tr>\n",
       "<tr>\n",
       "  <th>What is your current occupation_Working Professional</th> <td>    1.2940</td> <td>    0.270</td> <td>    4.795</td> <td> 0.000</td> <td>    0.765</td> <td>    1.823</td>\n",
       "</tr>\n",
       "<tr>\n",
       "  <th>Tags_Others</th>                                          <td>    3.3277</td> <td>    0.304</td> <td>   10.961</td> <td> 0.000</td> <td>    2.733</td> <td>    3.923</td>\n",
       "</tr>\n",
       "<tr>\n",
       "  <th>Tags_Ringing</th>                                         <td>   -0.6583</td> <td>    0.372</td> <td>   -1.769</td> <td> 0.077</td> <td>   -1.388</td> <td>    0.071</td>\n",
       "</tr>\n",
       "<tr>\n",
       "  <th>Tags_Will revert after reading the email</th>             <td>    6.6466</td> <td>    0.341</td> <td>   19.516</td> <td> 0.000</td> <td>    5.979</td> <td>    7.314</td>\n",
       "</tr>\n",
       "<tr>\n",
       "  <th>Last Notable Activity_Email Opened</th>                   <td>   -0.9838</td> <td>    0.220</td> <td>   -4.474</td> <td> 0.000</td> <td>   -1.415</td> <td>   -0.553</td>\n",
       "</tr>\n",
       "<tr>\n",
       "  <th>Last Notable Activity_Modified</th>                       <td>   -0.9617</td> <td>    0.136</td> <td>   -7.088</td> <td> 0.000</td> <td>   -1.228</td> <td>   -0.696</td>\n",
       "</tr>\n",
       "<tr>\n",
       "  <th>Last Notable Activity_Others</th>                         <td>    0.6295</td> <td>    0.385</td> <td>    1.635</td> <td> 0.102</td> <td>   -0.125</td> <td>    1.384</td>\n",
       "</tr>\n",
       "</table>"
      ],
      "text/plain": [
       "<class 'statsmodels.iolib.summary.Summary'>\n",
       "\"\"\"\n",
       "                 Generalized Linear Model Regression Results                  \n",
       "==============================================================================\n",
       "Dep. Variable:              Converted   No. Observations:                 6468\n",
       "Model:                            GLM   Df Residuals:                     6447\n",
       "Model Family:                Binomial   Df Model:                           20\n",
       "Link Function:                  logit   Scale:                          1.0000\n",
       "Method:                          IRLS   Log-Likelihood:                -1607.6\n",
       "Date:                Tue, 12 Jul 2022   Deviance:                       3215.2\n",
       "Time:                        15:20:53   Pearson chi2:                 1.07e+04\n",
       "No. Iterations:                    21                                         \n",
       "Covariance Type:            nonrobust                                         \n",
       "========================================================================================================================\n",
       "                                                           coef    std err          z      P>|z|      [0.025      0.975]\n",
       "------------------------------------------------------------------------------------------------------------------------\n",
       "const                                                   -4.5192      0.329    -13.756      0.000      -5.163      -3.875\n",
       "Total Time Spent on Website                              1.1263      0.053     21.253      0.000       1.022       1.230\n",
       "Lead Origin_Lead Add Form                                1.8570      0.670      2.771      0.006       0.543       3.171\n",
       "Lead Source_Olark Chat                                   1.2230      0.129      9.485      0.000       0.970       1.476\n",
       "Lead Source_Reference                                    1.7282      0.714      2.422      0.015       0.330       3.127\n",
       "Lead Source_Welingak Website                             3.2255      0.982      3.284      0.001       1.300       5.151\n",
       "Last Activity_Email Bounced                             -1.2770      0.394     -3.239      0.001      -2.050      -0.504\n",
       "Last Activity_Email Opened                               1.3549      0.188      7.192      0.000       0.986       1.724\n",
       "Last Activity_SMS Sent                                   1.7093      0.138     12.372      0.000       1.439       1.980\n",
       "Specialization_Hospitality Management                   -0.8297      0.418     -1.987      0.047      -1.648      -0.011\n",
       "Specialization_International Business                   -0.7825      0.361     -2.165      0.030      -1.491      -0.074\n",
       "Specialization_Travel and Tourism                       -0.7374      0.338     -2.179      0.029      -1.401      -0.074\n",
       "What is your current occupation_Housewife               21.1650   1.36e+04      0.002      0.999   -2.66e+04    2.66e+04\n",
       "What is your current occupation_Other                   -1.2809      0.103    -12.479      0.000      -1.482      -1.080\n",
       "What is your current occupation_Working Professional     1.2940      0.270      4.795      0.000       0.765       1.823\n",
       "Tags_Others                                              3.3277      0.304     10.961      0.000       2.733       3.923\n",
       "Tags_Ringing                                            -0.6583      0.372     -1.769      0.077      -1.388       0.071\n",
       "Tags_Will revert after reading the email                 6.6466      0.341     19.516      0.000       5.979       7.314\n",
       "Last Notable Activity_Email Opened                      -0.9838      0.220     -4.474      0.000      -1.415      -0.553\n",
       "Last Notable Activity_Modified                          -0.9617      0.136     -7.088      0.000      -1.228      -0.696\n",
       "Last Notable Activity_Others                             0.6295      0.385      1.635      0.102      -0.125       1.384\n",
       "========================================================================================================================\n",
       "\"\"\""
      ]
     },
     "execution_count": 77,
     "metadata": {},
     "output_type": "execute_result"
    }
   ],
   "source": [
    "X_train_1 = sm.add_constant(X_train[col])\n",
    "log_m1 = sm.GLM(y_train,X_train_1,family=sm.families.Binomial())\n",
    "log_model_1 = log_m1.fit()\n",
    "log_model_1.summary()"
   ]
  },
  {
   "cell_type": "markdown",
   "id": "aae7e500-b45c-42c1-84f8-6ce6114a9764",
   "metadata": {},
   "source": [
    "### Dropping 'What is your current occupation_Housewife' because of high p-Value and rebuilding model"
   ]
  },
  {
   "cell_type": "code",
   "execution_count": 78,
   "id": "5e6e6525-d058-40e1-a1eb-cbb1c8f8d987",
   "metadata": {},
   "outputs": [
    {
     "data": {
      "text/html": [
       "<table class=\"simpletable\">\n",
       "<caption>Generalized Linear Model Regression Results</caption>\n",
       "<tr>\n",
       "  <th>Dep. Variable:</th>       <td>Converted</td>    <th>  No. Observations:  </th>  <td>  6468</td> \n",
       "</tr>\n",
       "<tr>\n",
       "  <th>Model:</th>                  <td>GLM</td>       <th>  Df Residuals:      </th>  <td>  6448</td> \n",
       "</tr>\n",
       "<tr>\n",
       "  <th>Model Family:</th>        <td>Binomial</td>     <th>  Df Model:          </th>  <td>    19</td> \n",
       "</tr>\n",
       "<tr>\n",
       "  <th>Link Function:</th>         <td>logit</td>      <th>  Scale:             </th> <td>  1.0000</td>\n",
       "</tr>\n",
       "<tr>\n",
       "  <th>Method:</th>                <td>IRLS</td>       <th>  Log-Likelihood:    </th> <td> -1609.8</td>\n",
       "</tr>\n",
       "<tr>\n",
       "  <th>Date:</th>            <td>Tue, 12 Jul 2022</td> <th>  Deviance:          </th> <td>  3219.7</td>\n",
       "</tr>\n",
       "<tr>\n",
       "  <th>Time:</th>                <td>15:21:16</td>     <th>  Pearson chi2:      </th> <td>1.08e+04</td>\n",
       "</tr>\n",
       "<tr>\n",
       "  <th>No. Iterations:</th>          <td>7</td>        <th>                     </th>     <td> </td>   \n",
       "</tr>\n",
       "<tr>\n",
       "  <th>Covariance Type:</th>     <td>nonrobust</td>    <th>                     </th>     <td> </td>   \n",
       "</tr>\n",
       "</table>\n",
       "<table class=\"simpletable\">\n",
       "<tr>\n",
       "                            <td></td>                              <th>coef</th>     <th>std err</th>      <th>z</th>      <th>P>|z|</th>  <th>[0.025</th>    <th>0.975]</th>  \n",
       "</tr>\n",
       "<tr>\n",
       "  <th>const</th>                                                <td>   -4.5228</td> <td>    0.329</td> <td>  -13.765</td> <td> 0.000</td> <td>   -5.167</td> <td>   -3.879</td>\n",
       "</tr>\n",
       "<tr>\n",
       "  <th>Total Time Spent on Website</th>                          <td>    1.1270</td> <td>    0.053</td> <td>   21.264</td> <td> 0.000</td> <td>    1.023</td> <td>    1.231</td>\n",
       "</tr>\n",
       "<tr>\n",
       "  <th>Lead Origin_Lead Add Form</th>                            <td>    1.8517</td> <td>    0.670</td> <td>    2.763</td> <td> 0.006</td> <td>    0.538</td> <td>    3.165</td>\n",
       "</tr>\n",
       "<tr>\n",
       "  <th>Lead Source_Olark Chat</th>                               <td>    1.2196</td> <td>    0.129</td> <td>    9.461</td> <td> 0.000</td> <td>    0.967</td> <td>    1.472</td>\n",
       "</tr>\n",
       "<tr>\n",
       "  <th>Lead Source_Reference</th>                                <td>    1.7474</td> <td>    0.713</td> <td>    2.449</td> <td> 0.014</td> <td>    0.349</td> <td>    3.146</td>\n",
       "</tr>\n",
       "<tr>\n",
       "  <th>Lead Source_Welingak Website</th>                         <td>    3.2259</td> <td>    0.982</td> <td>    3.284</td> <td> 0.001</td> <td>    1.301</td> <td>    5.151</td>\n",
       "</tr>\n",
       "<tr>\n",
       "  <th>Last Activity_Email Bounced</th>                          <td>   -1.2800</td> <td>    0.395</td> <td>   -3.244</td> <td> 0.001</td> <td>   -2.053</td> <td>   -0.507</td>\n",
       "</tr>\n",
       "<tr>\n",
       "  <th>Last Activity_Email Opened</th>                           <td>    1.3681</td> <td>    0.188</td> <td>    7.287</td> <td> 0.000</td> <td>    1.000</td> <td>    1.736</td>\n",
       "</tr>\n",
       "<tr>\n",
       "  <th>Last Activity_SMS Sent</th>                               <td>    1.7077</td> <td>    0.138</td> <td>   12.357</td> <td> 0.000</td> <td>    1.437</td> <td>    1.979</td>\n",
       "</tr>\n",
       "<tr>\n",
       "  <th>Specialization_Hospitality Management</th>                <td>   -0.8370</td> <td>    0.418</td> <td>   -2.002</td> <td> 0.045</td> <td>   -1.657</td> <td>   -0.017</td>\n",
       "</tr>\n",
       "<tr>\n",
       "  <th>Specialization_International Business</th>                <td>   -0.7880</td> <td>    0.362</td> <td>   -2.178</td> <td> 0.029</td> <td>   -1.497</td> <td>   -0.079</td>\n",
       "</tr>\n",
       "<tr>\n",
       "  <th>Specialization_Travel and Tourism</th>                    <td>   -0.7421</td> <td>    0.339</td> <td>   -2.192</td> <td> 0.028</td> <td>   -1.406</td> <td>   -0.078</td>\n",
       "</tr>\n",
       "<tr>\n",
       "  <th>What is your current occupation_Other</th>                <td>   -1.2860</td> <td>    0.103</td> <td>  -12.535</td> <td> 0.000</td> <td>   -1.487</td> <td>   -1.085</td>\n",
       "</tr>\n",
       "<tr>\n",
       "  <th>What is your current occupation_Working Professional</th> <td>    1.2846</td> <td>    0.270</td> <td>    4.758</td> <td> 0.000</td> <td>    0.755</td> <td>    1.814</td>\n",
       "</tr>\n",
       "<tr>\n",
       "  <th>Tags_Others</th>                                          <td>    3.3354</td> <td>    0.304</td> <td>   10.986</td> <td> 0.000</td> <td>    2.740</td> <td>    3.930</td>\n",
       "</tr>\n",
       "<tr>\n",
       "  <th>Tags_Ringing</th>                                         <td>   -0.6563</td> <td>    0.372</td> <td>   -1.763</td> <td> 0.078</td> <td>   -1.386</td> <td>    0.073</td>\n",
       "</tr>\n",
       "<tr>\n",
       "  <th>Tags_Will revert after reading the email</th>             <td>    6.6593</td> <td>    0.341</td> <td>   19.552</td> <td> 0.000</td> <td>    5.992</td> <td>    7.327</td>\n",
       "</tr>\n",
       "<tr>\n",
       "  <th>Last Notable Activity_Email Opened</th>                   <td>   -0.9939</td> <td>    0.219</td> <td>   -4.531</td> <td> 0.000</td> <td>   -1.424</td> <td>   -0.564</td>\n",
       "</tr>\n",
       "<tr>\n",
       "  <th>Last Notable Activity_Modified</th>                       <td>   -0.9603</td> <td>    0.136</td> <td>   -7.076</td> <td> 0.000</td> <td>   -1.226</td> <td>   -0.694</td>\n",
       "</tr>\n",
       "<tr>\n",
       "  <th>Last Notable Activity_Others</th>                         <td>    0.6288</td> <td>    0.385</td> <td>    1.632</td> <td> 0.103</td> <td>   -0.126</td> <td>    1.384</td>\n",
       "</tr>\n",
       "</table>"
      ],
      "text/plain": [
       "<class 'statsmodels.iolib.summary.Summary'>\n",
       "\"\"\"\n",
       "                 Generalized Linear Model Regression Results                  \n",
       "==============================================================================\n",
       "Dep. Variable:              Converted   No. Observations:                 6468\n",
       "Model:                            GLM   Df Residuals:                     6448\n",
       "Model Family:                Binomial   Df Model:                           19\n",
       "Link Function:                  logit   Scale:                          1.0000\n",
       "Method:                          IRLS   Log-Likelihood:                -1609.8\n",
       "Date:                Tue, 12 Jul 2022   Deviance:                       3219.7\n",
       "Time:                        15:21:16   Pearson chi2:                 1.08e+04\n",
       "No. Iterations:                     7                                         \n",
       "Covariance Type:            nonrobust                                         \n",
       "========================================================================================================================\n",
       "                                                           coef    std err          z      P>|z|      [0.025      0.975]\n",
       "------------------------------------------------------------------------------------------------------------------------\n",
       "const                                                   -4.5228      0.329    -13.765      0.000      -5.167      -3.879\n",
       "Total Time Spent on Website                              1.1270      0.053     21.264      0.000       1.023       1.231\n",
       "Lead Origin_Lead Add Form                                1.8517      0.670      2.763      0.006       0.538       3.165\n",
       "Lead Source_Olark Chat                                   1.2196      0.129      9.461      0.000       0.967       1.472\n",
       "Lead Source_Reference                                    1.7474      0.713      2.449      0.014       0.349       3.146\n",
       "Lead Source_Welingak Website                             3.2259      0.982      3.284      0.001       1.301       5.151\n",
       "Last Activity_Email Bounced                             -1.2800      0.395     -3.244      0.001      -2.053      -0.507\n",
       "Last Activity_Email Opened                               1.3681      0.188      7.287      0.000       1.000       1.736\n",
       "Last Activity_SMS Sent                                   1.7077      0.138     12.357      0.000       1.437       1.979\n",
       "Specialization_Hospitality Management                   -0.8370      0.418     -2.002      0.045      -1.657      -0.017\n",
       "Specialization_International Business                   -0.7880      0.362     -2.178      0.029      -1.497      -0.079\n",
       "Specialization_Travel and Tourism                       -0.7421      0.339     -2.192      0.028      -1.406      -0.078\n",
       "What is your current occupation_Other                   -1.2860      0.103    -12.535      0.000      -1.487      -1.085\n",
       "What is your current occupation_Working Professional     1.2846      0.270      4.758      0.000       0.755       1.814\n",
       "Tags_Others                                              3.3354      0.304     10.986      0.000       2.740       3.930\n",
       "Tags_Ringing                                            -0.6563      0.372     -1.763      0.078      -1.386       0.073\n",
       "Tags_Will revert after reading the email                 6.6593      0.341     19.552      0.000       5.992       7.327\n",
       "Last Notable Activity_Email Opened                      -0.9939      0.219     -4.531      0.000      -1.424      -0.564\n",
       "Last Notable Activity_Modified                          -0.9603      0.136     -7.076      0.000      -1.226      -0.694\n",
       "Last Notable Activity_Others                             0.6288      0.385      1.632      0.103      -0.126       1.384\n",
       "========================================================================================================================\n",
       "\"\"\""
      ]
     },
     "execution_count": 78,
     "metadata": {},
     "output_type": "execute_result"
    }
   ],
   "source": [
    "col = col.drop('What is your current occupation_Housewife', 1)\n",
    "\n",
    "X_train_2 = sm.add_constant(X_train[col])\n",
    "log_m2 = sm.GLM(y_train,X_train_2,family=sm.families.Binomial())\n",
    "log_model_2 = log_m2.fit()\n",
    "log_model_2.summary()"
   ]
  },
  {
   "cell_type": "markdown",
   "id": "e0ceb46b-ff3b-4459-a736-41d284b2954e",
   "metadata": {},
   "source": [
    "### Dropping 'Last Notable Activity_Others' because of high p-Value and rebuilding model"
   ]
  },
  {
   "cell_type": "code",
   "execution_count": 79,
   "id": "603a8790-6775-4ab6-9793-17878afd3d4a",
   "metadata": {},
   "outputs": [
    {
     "data": {
      "text/html": [
       "<table class=\"simpletable\">\n",
       "<caption>Generalized Linear Model Regression Results</caption>\n",
       "<tr>\n",
       "  <th>Dep. Variable:</th>       <td>Converted</td>    <th>  No. Observations:  </th>  <td>  6468</td> \n",
       "</tr>\n",
       "<tr>\n",
       "  <th>Model:</th>                  <td>GLM</td>       <th>  Df Residuals:      </th>  <td>  6449</td> \n",
       "</tr>\n",
       "<tr>\n",
       "  <th>Model Family:</th>        <td>Binomial</td>     <th>  Df Model:          </th>  <td>    18</td> \n",
       "</tr>\n",
       "<tr>\n",
       "  <th>Link Function:</th>         <td>logit</td>      <th>  Scale:             </th> <td>  1.0000</td>\n",
       "</tr>\n",
       "<tr>\n",
       "  <th>Method:</th>                <td>IRLS</td>       <th>  Log-Likelihood:    </th> <td> -1611.1</td>\n",
       "</tr>\n",
       "<tr>\n",
       "  <th>Date:</th>            <td>Tue, 12 Jul 2022</td> <th>  Deviance:          </th> <td>  3222.3</td>\n",
       "</tr>\n",
       "<tr>\n",
       "  <th>Time:</th>                <td>15:21:39</td>     <th>  Pearson chi2:      </th> <td>1.08e+04</td>\n",
       "</tr>\n",
       "<tr>\n",
       "  <th>No. Iterations:</th>          <td>7</td>        <th>                     </th>     <td> </td>   \n",
       "</tr>\n",
       "<tr>\n",
       "  <th>Covariance Type:</th>     <td>nonrobust</td>    <th>                     </th>     <td> </td>   \n",
       "</tr>\n",
       "</table>\n",
       "<table class=\"simpletable\">\n",
       "<tr>\n",
       "                            <td></td>                              <th>coef</th>     <th>std err</th>      <th>z</th>      <th>P>|z|</th>  <th>[0.025</th>    <th>0.975]</th>  \n",
       "</tr>\n",
       "<tr>\n",
       "  <th>const</th>                                                <td>   -4.4540</td> <td>    0.325</td> <td>  -13.701</td> <td> 0.000</td> <td>   -5.091</td> <td>   -3.817</td>\n",
       "</tr>\n",
       "<tr>\n",
       "  <th>Total Time Spent on Website</th>                          <td>    1.1223</td> <td>    0.053</td> <td>   21.233</td> <td> 0.000</td> <td>    1.019</td> <td>    1.226</td>\n",
       "</tr>\n",
       "<tr>\n",
       "  <th>Lead Origin_Lead Add Form</th>                            <td>    1.8239</td> <td>    0.662</td> <td>    2.755</td> <td> 0.006</td> <td>    0.526</td> <td>    3.121</td>\n",
       "</tr>\n",
       "<tr>\n",
       "  <th>Lead Source_Olark Chat</th>                               <td>    1.2079</td> <td>    0.129</td> <td>    9.390</td> <td> 0.000</td> <td>    0.956</td> <td>    1.460</td>\n",
       "</tr>\n",
       "<tr>\n",
       "  <th>Lead Source_Reference</th>                                <td>    1.7607</td> <td>    0.706</td> <td>    2.494</td> <td> 0.013</td> <td>    0.377</td> <td>    3.144</td>\n",
       "</tr>\n",
       "<tr>\n",
       "  <th>Lead Source_Welingak Website</th>                         <td>    3.2640</td> <td>    0.977</td> <td>    3.341</td> <td> 0.001</td> <td>    1.349</td> <td>    5.179</td>\n",
       "</tr>\n",
       "<tr>\n",
       "  <th>Last Activity_Email Bounced</th>                          <td>   -1.0699</td> <td>    0.369</td> <td>   -2.896</td> <td> 0.004</td> <td>   -1.794</td> <td>   -0.346</td>\n",
       "</tr>\n",
       "<tr>\n",
       "  <th>Last Activity_Email Opened</th>                           <td>    1.3604</td> <td>    0.188</td> <td>    7.254</td> <td> 0.000</td> <td>    0.993</td> <td>    1.728</td>\n",
       "</tr>\n",
       "<tr>\n",
       "  <th>Last Activity_SMS Sent</th>                               <td>    1.6578</td> <td>    0.134</td> <td>   12.342</td> <td> 0.000</td> <td>    1.395</td> <td>    1.921</td>\n",
       "</tr>\n",
       "<tr>\n",
       "  <th>Specialization_Hospitality Management</th>                <td>   -0.8304</td> <td>    0.416</td> <td>   -1.998</td> <td> 0.046</td> <td>   -1.645</td> <td>   -0.016</td>\n",
       "</tr>\n",
       "<tr>\n",
       "  <th>Specialization_International Business</th>                <td>   -0.7727</td> <td>    0.361</td> <td>   -2.138</td> <td> 0.033</td> <td>   -1.481</td> <td>   -0.064</td>\n",
       "</tr>\n",
       "<tr>\n",
       "  <th>Specialization_Travel and Tourism</th>                    <td>   -0.7508</td> <td>    0.338</td> <td>   -2.221</td> <td> 0.026</td> <td>   -1.413</td> <td>   -0.088</td>\n",
       "</tr>\n",
       "<tr>\n",
       "  <th>What is your current occupation_Other</th>                <td>   -1.2823</td> <td>    0.103</td> <td>  -12.509</td> <td> 0.000</td> <td>   -1.483</td> <td>   -1.081</td>\n",
       "</tr>\n",
       "<tr>\n",
       "  <th>What is your current occupation_Working Professional</th> <td>    1.2788</td> <td>    0.270</td> <td>    4.739</td> <td> 0.000</td> <td>    0.750</td> <td>    1.808</td>\n",
       "</tr>\n",
       "<tr>\n",
       "  <th>Tags_Others</th>                                          <td>    3.3308</td> <td>    0.303</td> <td>   10.979</td> <td> 0.000</td> <td>    2.736</td> <td>    3.925</td>\n",
       "</tr>\n",
       "<tr>\n",
       "  <th>Tags_Ringing</th>                                         <td>   -0.6629</td> <td>    0.372</td> <td>   -1.781</td> <td> 0.075</td> <td>   -1.392</td> <td>    0.067</td>\n",
       "</tr>\n",
       "<tr>\n",
       "  <th>Tags_Will revert after reading the email</th>             <td>    6.6689</td> <td>    0.340</td> <td>   19.590</td> <td> 0.000</td> <td>    6.002</td> <td>    7.336</td>\n",
       "</tr>\n",
       "<tr>\n",
       "  <th>Last Notable Activity_Email Opened</th>                   <td>   -1.0495</td> <td>    0.216</td> <td>   -4.848</td> <td> 0.000</td> <td>   -1.474</td> <td>   -0.625</td>\n",
       "</tr>\n",
       "<tr>\n",
       "  <th>Last Notable Activity_Modified</th>                       <td>   -1.0141</td> <td>    0.132</td> <td>   -7.711</td> <td> 0.000</td> <td>   -1.272</td> <td>   -0.756</td>\n",
       "</tr>\n",
       "</table>"
      ],
      "text/plain": [
       "<class 'statsmodels.iolib.summary.Summary'>\n",
       "\"\"\"\n",
       "                 Generalized Linear Model Regression Results                  \n",
       "==============================================================================\n",
       "Dep. Variable:              Converted   No. Observations:                 6468\n",
       "Model:                            GLM   Df Residuals:                     6449\n",
       "Model Family:                Binomial   Df Model:                           18\n",
       "Link Function:                  logit   Scale:                          1.0000\n",
       "Method:                          IRLS   Log-Likelihood:                -1611.1\n",
       "Date:                Tue, 12 Jul 2022   Deviance:                       3222.3\n",
       "Time:                        15:21:39   Pearson chi2:                 1.08e+04\n",
       "No. Iterations:                     7                                         \n",
       "Covariance Type:            nonrobust                                         \n",
       "========================================================================================================================\n",
       "                                                           coef    std err          z      P>|z|      [0.025      0.975]\n",
       "------------------------------------------------------------------------------------------------------------------------\n",
       "const                                                   -4.4540      0.325    -13.701      0.000      -5.091      -3.817\n",
       "Total Time Spent on Website                              1.1223      0.053     21.233      0.000       1.019       1.226\n",
       "Lead Origin_Lead Add Form                                1.8239      0.662      2.755      0.006       0.526       3.121\n",
       "Lead Source_Olark Chat                                   1.2079      0.129      9.390      0.000       0.956       1.460\n",
       "Lead Source_Reference                                    1.7607      0.706      2.494      0.013       0.377       3.144\n",
       "Lead Source_Welingak Website                             3.2640      0.977      3.341      0.001       1.349       5.179\n",
       "Last Activity_Email Bounced                             -1.0699      0.369     -2.896      0.004      -1.794      -0.346\n",
       "Last Activity_Email Opened                               1.3604      0.188      7.254      0.000       0.993       1.728\n",
       "Last Activity_SMS Sent                                   1.6578      0.134     12.342      0.000       1.395       1.921\n",
       "Specialization_Hospitality Management                   -0.8304      0.416     -1.998      0.046      -1.645      -0.016\n",
       "Specialization_International Business                   -0.7727      0.361     -2.138      0.033      -1.481      -0.064\n",
       "Specialization_Travel and Tourism                       -0.7508      0.338     -2.221      0.026      -1.413      -0.088\n",
       "What is your current occupation_Other                   -1.2823      0.103    -12.509      0.000      -1.483      -1.081\n",
       "What is your current occupation_Working Professional     1.2788      0.270      4.739      0.000       0.750       1.808\n",
       "Tags_Others                                              3.3308      0.303     10.979      0.000       2.736       3.925\n",
       "Tags_Ringing                                            -0.6629      0.372     -1.781      0.075      -1.392       0.067\n",
       "Tags_Will revert after reading the email                 6.6689      0.340     19.590      0.000       6.002       7.336\n",
       "Last Notable Activity_Email Opened                      -1.0495      0.216     -4.848      0.000      -1.474      -0.625\n",
       "Last Notable Activity_Modified                          -1.0141      0.132     -7.711      0.000      -1.272      -0.756\n",
       "========================================================================================================================\n",
       "\"\"\""
      ]
     },
     "execution_count": 79,
     "metadata": {},
     "output_type": "execute_result"
    }
   ],
   "source": [
    "col = col.drop('Last Notable Activity_Others', 1)\n",
    "\n",
    "X_train_3 = sm.add_constant(X_train[col])\n",
    "log_m3 = sm.GLM(y_train,X_train_3,family=sm.families.Binomial())\n",
    "log_model_3 = log_m3.fit()\n",
    "log_model_3.summary()"
   ]
  },
  {
   "cell_type": "markdown",
   "id": "f89abf39-4bcd-4385-a8df-61ab80271b34",
   "metadata": {},
   "source": [
    "### Dropping 'Tags_Ringing' because of high p-Value and rebuilding model"
   ]
  },
  {
   "cell_type": "code",
   "execution_count": 80,
   "id": "7610f60b-95d5-42ea-80f7-33907498ad92",
   "metadata": {},
   "outputs": [
    {
     "data": {
      "text/html": [
       "<table class=\"simpletable\">\n",
       "<caption>Generalized Linear Model Regression Results</caption>\n",
       "<tr>\n",
       "  <th>Dep. Variable:</th>       <td>Converted</td>    <th>  No. Observations:  </th>  <td>  6468</td> \n",
       "</tr>\n",
       "<tr>\n",
       "  <th>Model:</th>                  <td>GLM</td>       <th>  Df Residuals:      </th>  <td>  6450</td> \n",
       "</tr>\n",
       "<tr>\n",
       "  <th>Model Family:</th>        <td>Binomial</td>     <th>  Df Model:          </th>  <td>    17</td> \n",
       "</tr>\n",
       "<tr>\n",
       "  <th>Link Function:</th>         <td>logit</td>      <th>  Scale:             </th> <td>  1.0000</td>\n",
       "</tr>\n",
       "<tr>\n",
       "  <th>Method:</th>                <td>IRLS</td>       <th>  Log-Likelihood:    </th> <td> -1612.6</td>\n",
       "</tr>\n",
       "<tr>\n",
       "  <th>Date:</th>            <td>Tue, 12 Jul 2022</td> <th>  Deviance:          </th> <td>  3225.3</td>\n",
       "</tr>\n",
       "<tr>\n",
       "  <th>Time:</th>                <td>15:22:03</td>     <th>  Pearson chi2:      </th> <td>1.05e+04</td>\n",
       "</tr>\n",
       "<tr>\n",
       "  <th>No. Iterations:</th>          <td>7</td>        <th>                     </th>     <td> </td>   \n",
       "</tr>\n",
       "<tr>\n",
       "  <th>Covariance Type:</th>     <td>nonrobust</td>    <th>                     </th>     <td> </td>   \n",
       "</tr>\n",
       "</table>\n",
       "<table class=\"simpletable\">\n",
       "<tr>\n",
       "                            <td></td>                              <th>coef</th>     <th>std err</th>      <th>z</th>      <th>P>|z|</th>  <th>[0.025</th>    <th>0.975]</th>  \n",
       "</tr>\n",
       "<tr>\n",
       "  <th>const</th>                                                <td>   -4.9123</td> <td>    0.225</td> <td>  -21.842</td> <td> 0.000</td> <td>   -5.353</td> <td>   -4.471</td>\n",
       "</tr>\n",
       "<tr>\n",
       "  <th>Total Time Spent on Website</th>                          <td>    1.1210</td> <td>    0.053</td> <td>   21.220</td> <td> 0.000</td> <td>    1.017</td> <td>    1.225</td>\n",
       "</tr>\n",
       "<tr>\n",
       "  <th>Lead Origin_Lead Add Form</th>                            <td>    1.8168</td> <td>    0.659</td> <td>    2.759</td> <td> 0.006</td> <td>    0.526</td> <td>    3.108</td>\n",
       "</tr>\n",
       "<tr>\n",
       "  <th>Lead Source_Olark Chat</th>                               <td>    1.2107</td> <td>    0.129</td> <td>    9.417</td> <td> 0.000</td> <td>    0.959</td> <td>    1.463</td>\n",
       "</tr>\n",
       "<tr>\n",
       "  <th>Lead Source_Reference</th>                                <td>    1.7362</td> <td>    0.702</td> <td>    2.473</td> <td> 0.013</td> <td>    0.360</td> <td>    3.112</td>\n",
       "</tr>\n",
       "<tr>\n",
       "  <th>Lead Source_Welingak Website</th>                         <td>    3.2706</td> <td>    0.975</td> <td>    3.356</td> <td> 0.001</td> <td>    1.360</td> <td>    5.181</td>\n",
       "</tr>\n",
       "<tr>\n",
       "  <th>Last Activity_Email Bounced</th>                          <td>   -1.0706</td> <td>    0.370</td> <td>   -2.896</td> <td> 0.004</td> <td>   -1.795</td> <td>   -0.346</td>\n",
       "</tr>\n",
       "<tr>\n",
       "  <th>Last Activity_Email Opened</th>                           <td>    1.3674</td> <td>    0.188</td> <td>    7.270</td> <td> 0.000</td> <td>    0.999</td> <td>    1.736</td>\n",
       "</tr>\n",
       "<tr>\n",
       "  <th>Last Activity_SMS Sent</th>                               <td>    1.6391</td> <td>    0.134</td> <td>   12.244</td> <td> 0.000</td> <td>    1.377</td> <td>    1.902</td>\n",
       "</tr>\n",
       "<tr>\n",
       "  <th>Specialization_Hospitality Management</th>                <td>   -0.8011</td> <td>    0.416</td> <td>   -1.926</td> <td> 0.054</td> <td>   -1.616</td> <td>    0.014</td>\n",
       "</tr>\n",
       "<tr>\n",
       "  <th>Specialization_International Business</th>                <td>   -0.7668</td> <td>    0.361</td> <td>   -2.123</td> <td> 0.034</td> <td>   -1.475</td> <td>   -0.059</td>\n",
       "</tr>\n",
       "<tr>\n",
       "  <th>Specialization_Travel and Tourism</th>                    <td>   -0.7462</td> <td>    0.338</td> <td>   -2.208</td> <td> 0.027</td> <td>   -1.409</td> <td>   -0.084</td>\n",
       "</tr>\n",
       "<tr>\n",
       "  <th>What is your current occupation_Other</th>                <td>   -1.2824</td> <td>    0.102</td> <td>  -12.526</td> <td> 0.000</td> <td>   -1.483</td> <td>   -1.082</td>\n",
       "</tr>\n",
       "<tr>\n",
       "  <th>What is your current occupation_Working Professional</th> <td>    1.3012</td> <td>    0.273</td> <td>    4.775</td> <td> 0.000</td> <td>    0.767</td> <td>    1.835</td>\n",
       "</tr>\n",
       "<tr>\n",
       "  <th>Tags_Others</th>                                          <td>    3.7872</td> <td>    0.193</td> <td>   19.595</td> <td> 0.000</td> <td>    3.408</td> <td>    4.166</td>\n",
       "</tr>\n",
       "<tr>\n",
       "  <th>Tags_Will revert after reading the email</th>             <td>    7.1200</td> <td>    0.251</td> <td>   28.383</td> <td> 0.000</td> <td>    6.628</td> <td>    7.612</td>\n",
       "</tr>\n",
       "<tr>\n",
       "  <th>Last Notable Activity_Email Opened</th>                   <td>   -1.0490</td> <td>    0.217</td> <td>   -4.834</td> <td> 0.000</td> <td>   -1.474</td> <td>   -0.624</td>\n",
       "</tr>\n",
       "<tr>\n",
       "  <th>Last Notable Activity_Modified</th>                       <td>   -1.0005</td> <td>    0.131</td> <td>   -7.623</td> <td> 0.000</td> <td>   -1.258</td> <td>   -0.743</td>\n",
       "</tr>\n",
       "</table>"
      ],
      "text/plain": [
       "<class 'statsmodels.iolib.summary.Summary'>\n",
       "\"\"\"\n",
       "                 Generalized Linear Model Regression Results                  \n",
       "==============================================================================\n",
       "Dep. Variable:              Converted   No. Observations:                 6468\n",
       "Model:                            GLM   Df Residuals:                     6450\n",
       "Model Family:                Binomial   Df Model:                           17\n",
       "Link Function:                  logit   Scale:                          1.0000\n",
       "Method:                          IRLS   Log-Likelihood:                -1612.6\n",
       "Date:                Tue, 12 Jul 2022   Deviance:                       3225.3\n",
       "Time:                        15:22:03   Pearson chi2:                 1.05e+04\n",
       "No. Iterations:                     7                                         \n",
       "Covariance Type:            nonrobust                                         \n",
       "========================================================================================================================\n",
       "                                                           coef    std err          z      P>|z|      [0.025      0.975]\n",
       "------------------------------------------------------------------------------------------------------------------------\n",
       "const                                                   -4.9123      0.225    -21.842      0.000      -5.353      -4.471\n",
       "Total Time Spent on Website                              1.1210      0.053     21.220      0.000       1.017       1.225\n",
       "Lead Origin_Lead Add Form                                1.8168      0.659      2.759      0.006       0.526       3.108\n",
       "Lead Source_Olark Chat                                   1.2107      0.129      9.417      0.000       0.959       1.463\n",
       "Lead Source_Reference                                    1.7362      0.702      2.473      0.013       0.360       3.112\n",
       "Lead Source_Welingak Website                             3.2706      0.975      3.356      0.001       1.360       5.181\n",
       "Last Activity_Email Bounced                             -1.0706      0.370     -2.896      0.004      -1.795      -0.346\n",
       "Last Activity_Email Opened                               1.3674      0.188      7.270      0.000       0.999       1.736\n",
       "Last Activity_SMS Sent                                   1.6391      0.134     12.244      0.000       1.377       1.902\n",
       "Specialization_Hospitality Management                   -0.8011      0.416     -1.926      0.054      -1.616       0.014\n",
       "Specialization_International Business                   -0.7668      0.361     -2.123      0.034      -1.475      -0.059\n",
       "Specialization_Travel and Tourism                       -0.7462      0.338     -2.208      0.027      -1.409      -0.084\n",
       "What is your current occupation_Other                   -1.2824      0.102    -12.526      0.000      -1.483      -1.082\n",
       "What is your current occupation_Working Professional     1.3012      0.273      4.775      0.000       0.767       1.835\n",
       "Tags_Others                                              3.7872      0.193     19.595      0.000       3.408       4.166\n",
       "Tags_Will revert after reading the email                 7.1200      0.251     28.383      0.000       6.628       7.612\n",
       "Last Notable Activity_Email Opened                      -1.0490      0.217     -4.834      0.000      -1.474      -0.624\n",
       "Last Notable Activity_Modified                          -1.0005      0.131     -7.623      0.000      -1.258      -0.743\n",
       "========================================================================================================================\n",
       "\"\"\""
      ]
     },
     "execution_count": 80,
     "metadata": {},
     "output_type": "execute_result"
    }
   ],
   "source": [
    "col = col.drop('Tags_Ringing', 1)\n",
    "\n",
    "X_train_4 = sm.add_constant(X_train[col])\n",
    "log_m4 = sm.GLM(y_train,X_train_4,family=sm.families.Binomial())\n",
    "log_model_4 = log_m4.fit()\n",
    "log_model_4.summary()"
   ]
  },
  {
   "cell_type": "markdown",
   "id": "d363f563-0d14-4e60-ac27-36367e033eb9",
   "metadata": {},
   "source": [
    "### Dropping 'Specialization_Hospitality Management' because of high p-Value and rebuilding model"
   ]
  },
  {
   "cell_type": "code",
   "execution_count": 81,
   "id": "2caddeec-53d2-4bf2-9ad7-2708fd0be081",
   "metadata": {},
   "outputs": [
    {
     "data": {
      "text/html": [
       "<table class=\"simpletable\">\n",
       "<caption>Generalized Linear Model Regression Results</caption>\n",
       "<tr>\n",
       "  <th>Dep. Variable:</th>       <td>Converted</td>    <th>  No. Observations:  </th>  <td>  6468</td> \n",
       "</tr>\n",
       "<tr>\n",
       "  <th>Model:</th>                  <td>GLM</td>       <th>  Df Residuals:      </th>  <td>  6451</td> \n",
       "</tr>\n",
       "<tr>\n",
       "  <th>Model Family:</th>        <td>Binomial</td>     <th>  Df Model:          </th>  <td>    16</td> \n",
       "</tr>\n",
       "<tr>\n",
       "  <th>Link Function:</th>         <td>logit</td>      <th>  Scale:             </th> <td>  1.0000</td>\n",
       "</tr>\n",
       "<tr>\n",
       "  <th>Method:</th>                <td>IRLS</td>       <th>  Log-Likelihood:    </th> <td> -1614.6</td>\n",
       "</tr>\n",
       "<tr>\n",
       "  <th>Date:</th>            <td>Tue, 12 Jul 2022</td> <th>  Deviance:          </th> <td>  3229.1</td>\n",
       "</tr>\n",
       "<tr>\n",
       "  <th>Time:</th>                <td>15:22:35</td>     <th>  Pearson chi2:      </th> <td>1.04e+04</td>\n",
       "</tr>\n",
       "<tr>\n",
       "  <th>No. Iterations:</th>          <td>7</td>        <th>                     </th>     <td> </td>   \n",
       "</tr>\n",
       "<tr>\n",
       "  <th>Covariance Type:</th>     <td>nonrobust</td>    <th>                     </th>     <td> </td>   \n",
       "</tr>\n",
       "</table>\n",
       "<table class=\"simpletable\">\n",
       "<tr>\n",
       "                            <td></td>                              <th>coef</th>     <th>std err</th>      <th>z</th>      <th>P>|z|</th>  <th>[0.025</th>    <th>0.975]</th>  \n",
       "</tr>\n",
       "<tr>\n",
       "  <th>const</th>                                                <td>   -4.9266</td> <td>    0.225</td> <td>  -21.907</td> <td> 0.000</td> <td>   -5.367</td> <td>   -4.486</td>\n",
       "</tr>\n",
       "<tr>\n",
       "  <th>Total Time Spent on Website</th>                          <td>    1.1168</td> <td>    0.053</td> <td>   21.196</td> <td> 0.000</td> <td>    1.014</td> <td>    1.220</td>\n",
       "</tr>\n",
       "<tr>\n",
       "  <th>Lead Origin_Lead Add Form</th>                            <td>    1.8325</td> <td>    0.659</td> <td>    2.779</td> <td> 0.005</td> <td>    0.540</td> <td>    3.125</td>\n",
       "</tr>\n",
       "<tr>\n",
       "  <th>Lead Source_Olark Chat</th>                               <td>    1.2173</td> <td>    0.129</td> <td>    9.473</td> <td> 0.000</td> <td>    0.965</td> <td>    1.469</td>\n",
       "</tr>\n",
       "<tr>\n",
       "  <th>Lead Source_Reference</th>                                <td>    1.6861</td> <td>    0.702</td> <td>    2.402</td> <td> 0.016</td> <td>    0.310</td> <td>    3.062</td>\n",
       "</tr>\n",
       "<tr>\n",
       "  <th>Lead Source_Welingak Website</th>                         <td>    3.2625</td> <td>    0.975</td> <td>    3.345</td> <td> 0.001</td> <td>    1.351</td> <td>    5.174</td>\n",
       "</tr>\n",
       "<tr>\n",
       "  <th>Last Activity_Email Bounced</th>                          <td>   -1.1086</td> <td>    0.371</td> <td>   -2.989</td> <td> 0.003</td> <td>   -1.836</td> <td>   -0.382</td>\n",
       "</tr>\n",
       "<tr>\n",
       "  <th>Last Activity_Email Opened</th>                           <td>    1.3635</td> <td>    0.188</td> <td>    7.247</td> <td> 0.000</td> <td>    0.995</td> <td>    1.732</td>\n",
       "</tr>\n",
       "<tr>\n",
       "  <th>Last Activity_SMS Sent</th>                               <td>    1.6360</td> <td>    0.134</td> <td>   12.236</td> <td> 0.000</td> <td>    1.374</td> <td>    1.898</td>\n",
       "</tr>\n",
       "<tr>\n",
       "  <th>Specialization_International Business</th>                <td>   -0.7524</td> <td>    0.361</td> <td>   -2.086</td> <td> 0.037</td> <td>   -1.459</td> <td>   -0.046</td>\n",
       "</tr>\n",
       "<tr>\n",
       "  <th>Specialization_Travel and Tourism</th>                    <td>   -0.7330</td> <td>    0.338</td> <td>   -2.171</td> <td> 0.030</td> <td>   -1.395</td> <td>   -0.071</td>\n",
       "</tr>\n",
       "<tr>\n",
       "  <th>What is your current occupation_Other</th>                <td>   -1.2841</td> <td>    0.102</td> <td>  -12.549</td> <td> 0.000</td> <td>   -1.485</td> <td>   -1.084</td>\n",
       "</tr>\n",
       "<tr>\n",
       "  <th>What is your current occupation_Working Professional</th> <td>    1.3035</td> <td>    0.272</td> <td>    4.797</td> <td> 0.000</td> <td>    0.771</td> <td>    1.836</td>\n",
       "</tr>\n",
       "<tr>\n",
       "  <th>Tags_Others</th>                                          <td>    3.7959</td> <td>    0.193</td> <td>   19.630</td> <td> 0.000</td> <td>    3.417</td> <td>    4.175</td>\n",
       "</tr>\n",
       "<tr>\n",
       "  <th>Tags_Will revert after reading the email</th>             <td>    7.1201</td> <td>    0.251</td> <td>   28.413</td> <td> 0.000</td> <td>    6.629</td> <td>    7.611</td>\n",
       "</tr>\n",
       "<tr>\n",
       "  <th>Last Notable Activity_Email Opened</th>                   <td>   -1.0472</td> <td>    0.217</td> <td>   -4.825</td> <td> 0.000</td> <td>   -1.473</td> <td>   -0.622</td>\n",
       "</tr>\n",
       "<tr>\n",
       "  <th>Last Notable Activity_Modified</th>                       <td>   -1.0028</td> <td>    0.131</td> <td>   -7.644</td> <td> 0.000</td> <td>   -1.260</td> <td>   -0.746</td>\n",
       "</tr>\n",
       "</table>"
      ],
      "text/plain": [
       "<class 'statsmodels.iolib.summary.Summary'>\n",
       "\"\"\"\n",
       "                 Generalized Linear Model Regression Results                  \n",
       "==============================================================================\n",
       "Dep. Variable:              Converted   No. Observations:                 6468\n",
       "Model:                            GLM   Df Residuals:                     6451\n",
       "Model Family:                Binomial   Df Model:                           16\n",
       "Link Function:                  logit   Scale:                          1.0000\n",
       "Method:                          IRLS   Log-Likelihood:                -1614.6\n",
       "Date:                Tue, 12 Jul 2022   Deviance:                       3229.1\n",
       "Time:                        15:22:35   Pearson chi2:                 1.04e+04\n",
       "No. Iterations:                     7                                         \n",
       "Covariance Type:            nonrobust                                         \n",
       "========================================================================================================================\n",
       "                                                           coef    std err          z      P>|z|      [0.025      0.975]\n",
       "------------------------------------------------------------------------------------------------------------------------\n",
       "const                                                   -4.9266      0.225    -21.907      0.000      -5.367      -4.486\n",
       "Total Time Spent on Website                              1.1168      0.053     21.196      0.000       1.014       1.220\n",
       "Lead Origin_Lead Add Form                                1.8325      0.659      2.779      0.005       0.540       3.125\n",
       "Lead Source_Olark Chat                                   1.2173      0.129      9.473      0.000       0.965       1.469\n",
       "Lead Source_Reference                                    1.6861      0.702      2.402      0.016       0.310       3.062\n",
       "Lead Source_Welingak Website                             3.2625      0.975      3.345      0.001       1.351       5.174\n",
       "Last Activity_Email Bounced                             -1.1086      0.371     -2.989      0.003      -1.836      -0.382\n",
       "Last Activity_Email Opened                               1.3635      0.188      7.247      0.000       0.995       1.732\n",
       "Last Activity_SMS Sent                                   1.6360      0.134     12.236      0.000       1.374       1.898\n",
       "Specialization_International Business                   -0.7524      0.361     -2.086      0.037      -1.459      -0.046\n",
       "Specialization_Travel and Tourism                       -0.7330      0.338     -2.171      0.030      -1.395      -0.071\n",
       "What is your current occupation_Other                   -1.2841      0.102    -12.549      0.000      -1.485      -1.084\n",
       "What is your current occupation_Working Professional     1.3035      0.272      4.797      0.000       0.771       1.836\n",
       "Tags_Others                                              3.7959      0.193     19.630      0.000       3.417       4.175\n",
       "Tags_Will revert after reading the email                 7.1201      0.251     28.413      0.000       6.629       7.611\n",
       "Last Notable Activity_Email Opened                      -1.0472      0.217     -4.825      0.000      -1.473      -0.622\n",
       "Last Notable Activity_Modified                          -1.0028      0.131     -7.644      0.000      -1.260      -0.746\n",
       "========================================================================================================================\n",
       "\"\"\""
      ]
     },
     "execution_count": 81,
     "metadata": {},
     "output_type": "execute_result"
    }
   ],
   "source": [
    "col = col.drop('Specialization_Hospitality Management', 1)\n",
    "\n",
    "X_train_5 = sm.add_constant(X_train[col])\n",
    "log_m5 = sm.GLM(y_train,X_train_5,family=sm.families.Binomial())\n",
    "log_model_5 = log_m5.fit()\n",
    "log_model_5.summary()"
   ]
  },
  {
   "cell_type": "markdown",
   "id": "fe93c3a7-1f9f-4e68-8e93-56636b265774",
   "metadata": {},
   "source": [
    "## Checking VIF"
   ]
  },
  {
   "cell_type": "code",
   "execution_count": 82,
   "id": "e9e17617-4555-4b3a-b743-8fd2da662486",
   "metadata": {},
   "outputs": [
    {
     "data": {
      "text/html": [
       "<div>\n",
       "<style scoped>\n",
       "    .dataframe tbody tr th:only-of-type {\n",
       "        vertical-align: middle;\n",
       "    }\n",
       "\n",
       "    .dataframe tbody tr th {\n",
       "        vertical-align: top;\n",
       "    }\n",
       "\n",
       "    .dataframe thead th {\n",
       "        text-align: right;\n",
       "    }\n",
       "</style>\n",
       "<table border=\"1\" class=\"dataframe\">\n",
       "  <thead>\n",
       "    <tr style=\"text-align: right;\">\n",
       "      <th></th>\n",
       "      <th>Features</th>\n",
       "      <th>VIF</th>\n",
       "    </tr>\n",
       "  </thead>\n",
       "  <tbody>\n",
       "    <tr>\n",
       "      <th>1</th>\n",
       "      <td>Lead Origin_Lead Add Form</td>\n",
       "      <td>15.97</td>\n",
       "    </tr>\n",
       "    <tr>\n",
       "      <th>3</th>\n",
       "      <td>Lead Source_Reference</td>\n",
       "      <td>12.95</td>\n",
       "    </tr>\n",
       "    <tr>\n",
       "      <th>14</th>\n",
       "      <td>Last Notable Activity_Email Opened</td>\n",
       "      <td>7.33</td>\n",
       "    </tr>\n",
       "    <tr>\n",
       "      <th>6</th>\n",
       "      <td>Last Activity_Email Opened</td>\n",
       "      <td>7.22</td>\n",
       "    </tr>\n",
       "    <tr>\n",
       "      <th>12</th>\n",
       "      <td>Tags_Others</td>\n",
       "      <td>3.83</td>\n",
       "    </tr>\n",
       "    <tr>\n",
       "      <th>4</th>\n",
       "      <td>Lead Source_Welingak Website</td>\n",
       "      <td>3.81</td>\n",
       "    </tr>\n",
       "    <tr>\n",
       "      <th>10</th>\n",
       "      <td>What is your current occupation_Other</td>\n",
       "      <td>2.31</td>\n",
       "    </tr>\n",
       "    <tr>\n",
       "      <th>13</th>\n",
       "      <td>Tags_Will revert after reading the email</td>\n",
       "      <td>2.22</td>\n",
       "    </tr>\n",
       "    <tr>\n",
       "      <th>15</th>\n",
       "      <td>Last Notable Activity_Modified</td>\n",
       "      <td>2.00</td>\n",
       "    </tr>\n",
       "    <tr>\n",
       "      <th>7</th>\n",
       "      <td>Last Activity_SMS Sent</td>\n",
       "      <td>1.74</td>\n",
       "    </tr>\n",
       "    <tr>\n",
       "      <th>2</th>\n",
       "      <td>Lead Source_Olark Chat</td>\n",
       "      <td>1.53</td>\n",
       "    </tr>\n",
       "    <tr>\n",
       "      <th>0</th>\n",
       "      <td>Total Time Spent on Website</td>\n",
       "      <td>1.34</td>\n",
       "    </tr>\n",
       "    <tr>\n",
       "      <th>11</th>\n",
       "      <td>What is your current occupation_Working Profes...</td>\n",
       "      <td>1.33</td>\n",
       "    </tr>\n",
       "    <tr>\n",
       "      <th>5</th>\n",
       "      <td>Last Activity_Email Bounced</td>\n",
       "      <td>1.12</td>\n",
       "    </tr>\n",
       "    <tr>\n",
       "      <th>9</th>\n",
       "      <td>Specialization_Travel and Tourism</td>\n",
       "      <td>1.03</td>\n",
       "    </tr>\n",
       "    <tr>\n",
       "      <th>8</th>\n",
       "      <td>Specialization_International Business</td>\n",
       "      <td>1.02</td>\n",
       "    </tr>\n",
       "  </tbody>\n",
       "</table>\n",
       "</div>"
      ],
      "text/plain": [
       "                                             Features    VIF\n",
       "1                           Lead Origin_Lead Add Form  15.97\n",
       "3                               Lead Source_Reference  12.95\n",
       "14                 Last Notable Activity_Email Opened   7.33\n",
       "6                          Last Activity_Email Opened   7.22\n",
       "12                                        Tags_Others   3.83\n",
       "4                        Lead Source_Welingak Website   3.81\n",
       "10              What is your current occupation_Other   2.31\n",
       "13           Tags_Will revert after reading the email   2.22\n",
       "15                     Last Notable Activity_Modified   2.00\n",
       "7                              Last Activity_SMS Sent   1.74\n",
       "2                              Lead Source_Olark Chat   1.53\n",
       "0                         Total Time Spent on Website   1.34\n",
       "11  What is your current occupation_Working Profes...   1.33\n",
       "5                         Last Activity_Email Bounced   1.12\n",
       "9                   Specialization_Travel and Tourism   1.03\n",
       "8               Specialization_International Business   1.02"
      ]
     },
     "execution_count": 82,
     "metadata": {},
     "output_type": "execute_result"
    }
   ],
   "source": [
    "# Create a dataframe that will contain the names of all the feature variables and their respective VIFs\n",
    "vif = pd.DataFrame()\n",
    "vif['Features'] = X_train[col].columns\n",
    "vif['VIF'] = [variance_inflation_factor(X_train[col].values, i) for i in range(X_train[col].shape[1])]\n",
    "vif['VIF'] = round(vif['VIF'], 2)\n",
    "vif = vif.sort_values(by = \"VIF\", ascending = False)\n",
    "vif"
   ]
  },
  {
   "cell_type": "markdown",
   "id": "fb5d15f8-0e53-450c-8fbc-64de004379a0",
   "metadata": {},
   "source": [
    "### Dropping 'Lead Source_Reference' because of high VIF"
   ]
  },
  {
   "cell_type": "code",
   "execution_count": 83,
   "id": "dab95b6f-67fc-4485-b678-7d90db91469e",
   "metadata": {},
   "outputs": [
    {
     "data": {
      "text/html": [
       "<table class=\"simpletable\">\n",
       "<caption>Generalized Linear Model Regression Results</caption>\n",
       "<tr>\n",
       "  <th>Dep. Variable:</th>       <td>Converted</td>    <th>  No. Observations:  </th>  <td>  6468</td> \n",
       "</tr>\n",
       "<tr>\n",
       "  <th>Model:</th>                  <td>GLM</td>       <th>  Df Residuals:      </th>  <td>  6452</td> \n",
       "</tr>\n",
       "<tr>\n",
       "  <th>Model Family:</th>        <td>Binomial</td>     <th>  Df Model:          </th>  <td>    15</td> \n",
       "</tr>\n",
       "<tr>\n",
       "  <th>Link Function:</th>         <td>logit</td>      <th>  Scale:             </th> <td>  1.0000</td>\n",
       "</tr>\n",
       "<tr>\n",
       "  <th>Method:</th>                <td>IRLS</td>       <th>  Log-Likelihood:    </th> <td> -1617.2</td>\n",
       "</tr>\n",
       "<tr>\n",
       "  <th>Date:</th>            <td>Tue, 12 Jul 2022</td> <th>  Deviance:          </th> <td>  3234.3</td>\n",
       "</tr>\n",
       "<tr>\n",
       "  <th>Time:</th>                <td>15:23:22</td>     <th>  Pearson chi2:      </th> <td>9.99e+03</td>\n",
       "</tr>\n",
       "<tr>\n",
       "  <th>No. Iterations:</th>          <td>7</td>        <th>                     </th>     <td> </td>   \n",
       "</tr>\n",
       "<tr>\n",
       "  <th>Covariance Type:</th>     <td>nonrobust</td>    <th>                     </th>     <td> </td>   \n",
       "</tr>\n",
       "</table>\n",
       "<table class=\"simpletable\">\n",
       "<tr>\n",
       "                            <td></td>                              <th>coef</th>     <th>std err</th>      <th>z</th>      <th>P>|z|</th>  <th>[0.025</th>    <th>0.975]</th>  \n",
       "</tr>\n",
       "<tr>\n",
       "  <th>const</th>                                                <td>   -4.9036</td> <td>    0.224</td> <td>  -21.914</td> <td> 0.000</td> <td>   -5.342</td> <td>   -4.465</td>\n",
       "</tr>\n",
       "<tr>\n",
       "  <th>Total Time Spent on Website</th>                          <td>    1.1147</td> <td>    0.053</td> <td>   21.177</td> <td> 0.000</td> <td>    1.012</td> <td>    1.218</td>\n",
       "</tr>\n",
       "<tr>\n",
       "  <th>Lead Origin_Lead Add Form</th>                            <td>    3.3420</td> <td>    0.247</td> <td>   13.531</td> <td> 0.000</td> <td>    2.858</td> <td>    3.826</td>\n",
       "</tr>\n",
       "<tr>\n",
       "  <th>Lead Source_Olark Chat</th>                               <td>    1.2116</td> <td>    0.129</td> <td>    9.426</td> <td> 0.000</td> <td>    0.960</td> <td>    1.463</td>\n",
       "</tr>\n",
       "<tr>\n",
       "  <th>Lead Source_Welingak Website</th>                         <td>    1.7569</td> <td>    0.760</td> <td>    2.311</td> <td> 0.021</td> <td>    0.267</td> <td>    3.247</td>\n",
       "</tr>\n",
       "<tr>\n",
       "  <th>Last Activity_Email Bounced</th>                          <td>   -1.2059</td> <td>    0.374</td> <td>   -3.229</td> <td> 0.001</td> <td>   -1.938</td> <td>   -0.474</td>\n",
       "</tr>\n",
       "<tr>\n",
       "  <th>Last Activity_Email Opened</th>                           <td>    1.3636</td> <td>    0.188</td> <td>    7.268</td> <td> 0.000</td> <td>    0.996</td> <td>    1.731</td>\n",
       "</tr>\n",
       "<tr>\n",
       "  <th>Last Activity_SMS Sent</th>                               <td>    1.6253</td> <td>    0.133</td> <td>   12.181</td> <td> 0.000</td> <td>    1.364</td> <td>    1.887</td>\n",
       "</tr>\n",
       "<tr>\n",
       "  <th>Specialization_International Business</th>                <td>   -0.7430</td> <td>    0.359</td> <td>   -2.068</td> <td> 0.039</td> <td>   -1.447</td> <td>   -0.039</td>\n",
       "</tr>\n",
       "<tr>\n",
       "  <th>Specialization_Travel and Tourism</th>                    <td>   -0.7309</td> <td>    0.338</td> <td>   -2.164</td> <td> 0.030</td> <td>   -1.393</td> <td>   -0.069</td>\n",
       "</tr>\n",
       "<tr>\n",
       "  <th>What is your current occupation_Other</th>                <td>   -1.2818</td> <td>    0.102</td> <td>  -12.530</td> <td> 0.000</td> <td>   -1.482</td> <td>   -1.081</td>\n",
       "</tr>\n",
       "<tr>\n",
       "  <th>What is your current occupation_Working Professional</th> <td>    1.3368</td> <td>    0.271</td> <td>    4.940</td> <td> 0.000</td> <td>    0.806</td> <td>    1.867</td>\n",
       "</tr>\n",
       "<tr>\n",
       "  <th>Tags_Others</th>                                          <td>    3.7810</td> <td>    0.193</td> <td>   19.641</td> <td> 0.000</td> <td>    3.404</td> <td>    4.158</td>\n",
       "</tr>\n",
       "<tr>\n",
       "  <th>Tags_Will revert after reading the email</th>             <td>    7.0994</td> <td>    0.250</td> <td>   28.424</td> <td> 0.000</td> <td>    6.610</td> <td>    7.589</td>\n",
       "</tr>\n",
       "<tr>\n",
       "  <th>Last Notable Activity_Email Opened</th>                   <td>   -1.0542</td> <td>    0.217</td> <td>   -4.866</td> <td> 0.000</td> <td>   -1.479</td> <td>   -0.630</td>\n",
       "</tr>\n",
       "<tr>\n",
       "  <th>Last Notable Activity_Modified</th>                       <td>   -1.0075</td> <td>    0.131</td> <td>   -7.679</td> <td> 0.000</td> <td>   -1.265</td> <td>   -0.750</td>\n",
       "</tr>\n",
       "</table>"
      ],
      "text/plain": [
       "<class 'statsmodels.iolib.summary.Summary'>\n",
       "\"\"\"\n",
       "                 Generalized Linear Model Regression Results                  \n",
       "==============================================================================\n",
       "Dep. Variable:              Converted   No. Observations:                 6468\n",
       "Model:                            GLM   Df Residuals:                     6452\n",
       "Model Family:                Binomial   Df Model:                           15\n",
       "Link Function:                  logit   Scale:                          1.0000\n",
       "Method:                          IRLS   Log-Likelihood:                -1617.2\n",
       "Date:                Tue, 12 Jul 2022   Deviance:                       3234.3\n",
       "Time:                        15:23:22   Pearson chi2:                 9.99e+03\n",
       "No. Iterations:                     7                                         \n",
       "Covariance Type:            nonrobust                                         \n",
       "========================================================================================================================\n",
       "                                                           coef    std err          z      P>|z|      [0.025      0.975]\n",
       "------------------------------------------------------------------------------------------------------------------------\n",
       "const                                                   -4.9036      0.224    -21.914      0.000      -5.342      -4.465\n",
       "Total Time Spent on Website                              1.1147      0.053     21.177      0.000       1.012       1.218\n",
       "Lead Origin_Lead Add Form                                3.3420      0.247     13.531      0.000       2.858       3.826\n",
       "Lead Source_Olark Chat                                   1.2116      0.129      9.426      0.000       0.960       1.463\n",
       "Lead Source_Welingak Website                             1.7569      0.760      2.311      0.021       0.267       3.247\n",
       "Last Activity_Email Bounced                             -1.2059      0.374     -3.229      0.001      -1.938      -0.474\n",
       "Last Activity_Email Opened                               1.3636      0.188      7.268      0.000       0.996       1.731\n",
       "Last Activity_SMS Sent                                   1.6253      0.133     12.181      0.000       1.364       1.887\n",
       "Specialization_International Business                   -0.7430      0.359     -2.068      0.039      -1.447      -0.039\n",
       "Specialization_Travel and Tourism                       -0.7309      0.338     -2.164      0.030      -1.393      -0.069\n",
       "What is your current occupation_Other                   -1.2818      0.102    -12.530      0.000      -1.482      -1.081\n",
       "What is your current occupation_Working Professional     1.3368      0.271      4.940      0.000       0.806       1.867\n",
       "Tags_Others                                              3.7810      0.193     19.641      0.000       3.404       4.158\n",
       "Tags_Will revert after reading the email                 7.0994      0.250     28.424      0.000       6.610       7.589\n",
       "Last Notable Activity_Email Opened                      -1.0542      0.217     -4.866      0.000      -1.479      -0.630\n",
       "Last Notable Activity_Modified                          -1.0075      0.131     -7.679      0.000      -1.265      -0.750\n",
       "========================================================================================================================\n",
       "\"\"\""
      ]
     },
     "execution_count": 83,
     "metadata": {},
     "output_type": "execute_result"
    }
   ],
   "source": [
    "col = col.drop('Lead Source_Reference', 1)\n",
    "\n",
    "X_train_6 = sm.add_constant(X_train[col])\n",
    "log_m6 = sm.GLM(y_train,X_train_6,family=sm.families.Binomial())\n",
    "log_model_6 = log_m6.fit()\n",
    "log_model_6.summary()"
   ]
  },
  {
   "cell_type": "markdown",
   "id": "0a41b3c2-09a5-4baf-97f7-9b7b828314ae",
   "metadata": {},
   "source": [
    "## Checking VIF"
   ]
  },
  {
   "cell_type": "code",
   "execution_count": 84,
   "id": "f08d7e0a-2958-4bdb-b0cb-1297f6faab41",
   "metadata": {},
   "outputs": [
    {
     "data": {
      "text/html": [
       "<div>\n",
       "<style scoped>\n",
       "    .dataframe tbody tr th:only-of-type {\n",
       "        vertical-align: middle;\n",
       "    }\n",
       "\n",
       "    .dataframe tbody tr th {\n",
       "        vertical-align: top;\n",
       "    }\n",
       "\n",
       "    .dataframe thead th {\n",
       "        text-align: right;\n",
       "    }\n",
       "</style>\n",
       "<table border=\"1\" class=\"dataframe\">\n",
       "  <thead>\n",
       "    <tr style=\"text-align: right;\">\n",
       "      <th></th>\n",
       "      <th>Features</th>\n",
       "      <th>VIF</th>\n",
       "    </tr>\n",
       "  </thead>\n",
       "  <tbody>\n",
       "    <tr>\n",
       "      <th>13</th>\n",
       "      <td>Last Notable Activity_Email Opened</td>\n",
       "      <td>7.33</td>\n",
       "    </tr>\n",
       "    <tr>\n",
       "      <th>5</th>\n",
       "      <td>Last Activity_Email Opened</td>\n",
       "      <td>7.22</td>\n",
       "    </tr>\n",
       "    <tr>\n",
       "      <th>11</th>\n",
       "      <td>Tags_Others</td>\n",
       "      <td>3.83</td>\n",
       "    </tr>\n",
       "    <tr>\n",
       "      <th>9</th>\n",
       "      <td>What is your current occupation_Other</td>\n",
       "      <td>2.31</td>\n",
       "    </tr>\n",
       "    <tr>\n",
       "      <th>12</th>\n",
       "      <td>Tags_Will revert after reading the email</td>\n",
       "      <td>2.22</td>\n",
       "    </tr>\n",
       "    <tr>\n",
       "      <th>14</th>\n",
       "      <td>Last Notable Activity_Modified</td>\n",
       "      <td>2.00</td>\n",
       "    </tr>\n",
       "    <tr>\n",
       "      <th>6</th>\n",
       "      <td>Last Activity_SMS Sent</td>\n",
       "      <td>1.74</td>\n",
       "    </tr>\n",
       "    <tr>\n",
       "      <th>1</th>\n",
       "      <td>Lead Origin_Lead Add Form</td>\n",
       "      <td>1.56</td>\n",
       "    </tr>\n",
       "    <tr>\n",
       "      <th>2</th>\n",
       "      <td>Lead Source_Olark Chat</td>\n",
       "      <td>1.53</td>\n",
       "    </tr>\n",
       "    <tr>\n",
       "      <th>0</th>\n",
       "      <td>Total Time Spent on Website</td>\n",
       "      <td>1.34</td>\n",
       "    </tr>\n",
       "    <tr>\n",
       "      <th>10</th>\n",
       "      <td>What is your current occupation_Working Profes...</td>\n",
       "      <td>1.32</td>\n",
       "    </tr>\n",
       "    <tr>\n",
       "      <th>3</th>\n",
       "      <td>Lead Source_Welingak Website</td>\n",
       "      <td>1.27</td>\n",
       "    </tr>\n",
       "    <tr>\n",
       "      <th>4</th>\n",
       "      <td>Last Activity_Email Bounced</td>\n",
       "      <td>1.11</td>\n",
       "    </tr>\n",
       "    <tr>\n",
       "      <th>8</th>\n",
       "      <td>Specialization_Travel and Tourism</td>\n",
       "      <td>1.03</td>\n",
       "    </tr>\n",
       "    <tr>\n",
       "      <th>7</th>\n",
       "      <td>Specialization_International Business</td>\n",
       "      <td>1.02</td>\n",
       "    </tr>\n",
       "  </tbody>\n",
       "</table>\n",
       "</div>"
      ],
      "text/plain": [
       "                                             Features   VIF\n",
       "13                 Last Notable Activity_Email Opened  7.33\n",
       "5                          Last Activity_Email Opened  7.22\n",
       "11                                        Tags_Others  3.83\n",
       "9               What is your current occupation_Other  2.31\n",
       "12           Tags_Will revert after reading the email  2.22\n",
       "14                     Last Notable Activity_Modified  2.00\n",
       "6                              Last Activity_SMS Sent  1.74\n",
       "1                           Lead Origin_Lead Add Form  1.56\n",
       "2                              Lead Source_Olark Chat  1.53\n",
       "0                         Total Time Spent on Website  1.34\n",
       "10  What is your current occupation_Working Profes...  1.32\n",
       "3                        Lead Source_Welingak Website  1.27\n",
       "4                         Last Activity_Email Bounced  1.11\n",
       "8                   Specialization_Travel and Tourism  1.03\n",
       "7               Specialization_International Business  1.02"
      ]
     },
     "execution_count": 84,
     "metadata": {},
     "output_type": "execute_result"
    }
   ],
   "source": [
    "# Create a dataframe that will contain the names of all the feature variables and their respective VIFs\n",
    "vif = pd.DataFrame()\n",
    "vif['Features'] = X_train[col].columns\n",
    "vif['VIF'] = [variance_inflation_factor(X_train[col].values, i) for i in range(X_train[col].shape[1])]\n",
    "vif['VIF'] = round(vif['VIF'], 2)\n",
    "vif = vif.sort_values(by = \"VIF\", ascending = False)\n",
    "vif"
   ]
  },
  {
   "cell_type": "markdown",
   "id": "497e783d-c679-48b9-9eee-f41a262e9a62",
   "metadata": {},
   "source": [
    "### Dropping 'Last Notable Activity_Email Opened' because of high VIF"
   ]
  },
  {
   "cell_type": "code",
   "execution_count": 85,
   "id": "01d6d0f1-516b-45c1-a123-95d642905fd7",
   "metadata": {},
   "outputs": [
    {
     "data": {
      "text/html": [
       "<table class=\"simpletable\">\n",
       "<caption>Generalized Linear Model Regression Results</caption>\n",
       "<tr>\n",
       "  <th>Dep. Variable:</th>       <td>Converted</td>    <th>  No. Observations:  </th>  <td>  6468</td> \n",
       "</tr>\n",
       "<tr>\n",
       "  <th>Model:</th>                  <td>GLM</td>       <th>  Df Residuals:      </th>  <td>  6453</td> \n",
       "</tr>\n",
       "<tr>\n",
       "  <th>Model Family:</th>        <td>Binomial</td>     <th>  Df Model:          </th>  <td>    14</td> \n",
       "</tr>\n",
       "<tr>\n",
       "  <th>Link Function:</th>         <td>logit</td>      <th>  Scale:             </th> <td>  1.0000</td>\n",
       "</tr>\n",
       "<tr>\n",
       "  <th>Method:</th>                <td>IRLS</td>       <th>  Log-Likelihood:    </th> <td> -1628.8</td>\n",
       "</tr>\n",
       "<tr>\n",
       "  <th>Date:</th>            <td>Tue, 12 Jul 2022</td> <th>  Deviance:          </th> <td>  3257.7</td>\n",
       "</tr>\n",
       "<tr>\n",
       "  <th>Time:</th>                <td>15:24:29</td>     <th>  Pearson chi2:      </th> <td>9.76e+03</td>\n",
       "</tr>\n",
       "<tr>\n",
       "  <th>No. Iterations:</th>          <td>7</td>        <th>                     </th>     <td> </td>   \n",
       "</tr>\n",
       "<tr>\n",
       "  <th>Covariance Type:</th>     <td>nonrobust</td>    <th>                     </th>     <td> </td>   \n",
       "</tr>\n",
       "</table>\n",
       "<table class=\"simpletable\">\n",
       "<tr>\n",
       "                            <td></td>                              <th>coef</th>     <th>std err</th>      <th>z</th>      <th>P>|z|</th>  <th>[0.025</th>    <th>0.975]</th>  \n",
       "</tr>\n",
       "<tr>\n",
       "  <th>const</th>                                                <td>   -5.1295</td> <td>    0.220</td> <td>  -23.286</td> <td> 0.000</td> <td>   -5.561</td> <td>   -4.698</td>\n",
       "</tr>\n",
       "<tr>\n",
       "  <th>Total Time Spent on Website</th>                          <td>    1.1194</td> <td>    0.052</td> <td>   21.335</td> <td> 0.000</td> <td>    1.017</td> <td>    1.222</td>\n",
       "</tr>\n",
       "<tr>\n",
       "  <th>Lead Origin_Lead Add Form</th>                            <td>    3.3802</td> <td>    0.247</td> <td>   13.662</td> <td> 0.000</td> <td>    2.895</td> <td>    3.865</td>\n",
       "</tr>\n",
       "<tr>\n",
       "  <th>Lead Source_Olark Chat</th>                               <td>    1.2322</td> <td>    0.128</td> <td>    9.613</td> <td> 0.000</td> <td>    0.981</td> <td>    1.483</td>\n",
       "</tr>\n",
       "<tr>\n",
       "  <th>Lead Source_Welingak Website</th>                         <td>    1.7005</td> <td>    0.762</td> <td>    2.231</td> <td> 0.026</td> <td>    0.207</td> <td>    3.194</td>\n",
       "</tr>\n",
       "<tr>\n",
       "  <th>Last Activity_Email Bounced</th>                          <td>   -1.2411</td> <td>    0.374</td> <td>   -3.318</td> <td> 0.001</td> <td>   -1.974</td> <td>   -0.508</td>\n",
       "</tr>\n",
       "<tr>\n",
       "  <th>Last Activity_Email Opened</th>                           <td>    0.6759</td> <td>    0.127</td> <td>    5.337</td> <td> 0.000</td> <td>    0.428</td> <td>    0.924</td>\n",
       "</tr>\n",
       "<tr>\n",
       "  <th>Last Activity_SMS Sent</th>                               <td>    1.7639</td> <td>    0.131</td> <td>   13.488</td> <td> 0.000</td> <td>    1.508</td> <td>    2.020</td>\n",
       "</tr>\n",
       "<tr>\n",
       "  <th>Specialization_International Business</th>                <td>   -0.7259</td> <td>    0.357</td> <td>   -2.034</td> <td> 0.042</td> <td>   -1.425</td> <td>   -0.026</td>\n",
       "</tr>\n",
       "<tr>\n",
       "  <th>Specialization_Travel and Tourism</th>                    <td>   -0.7362</td> <td>    0.336</td> <td>   -2.194</td> <td> 0.028</td> <td>   -1.394</td> <td>   -0.078</td>\n",
       "</tr>\n",
       "<tr>\n",
       "  <th>What is your current occupation_Other</th>                <td>   -1.3177</td> <td>    0.102</td> <td>  -12.953</td> <td> 0.000</td> <td>   -1.517</td> <td>   -1.118</td>\n",
       "</tr>\n",
       "<tr>\n",
       "  <th>What is your current occupation_Working Professional</th> <td>    1.3387</td> <td>    0.271</td> <td>    4.937</td> <td> 0.000</td> <td>    0.807</td> <td>    1.870</td>\n",
       "</tr>\n",
       "<tr>\n",
       "  <th>Tags_Others</th>                                          <td>    3.7875</td> <td>    0.192</td> <td>   19.722</td> <td> 0.000</td> <td>    3.411</td> <td>    4.164</td>\n",
       "</tr>\n",
       "<tr>\n",
       "  <th>Tags_Will revert after reading the email</th>             <td>    7.0642</td> <td>    0.249</td> <td>   28.404</td> <td> 0.000</td> <td>    6.577</td> <td>    7.552</td>\n",
       "</tr>\n",
       "<tr>\n",
       "  <th>Last Notable Activity_Modified</th>                       <td>   -0.6388</td> <td>    0.106</td> <td>   -6.012</td> <td> 0.000</td> <td>   -0.847</td> <td>   -0.431</td>\n",
       "</tr>\n",
       "</table>"
      ],
      "text/plain": [
       "<class 'statsmodels.iolib.summary.Summary'>\n",
       "\"\"\"\n",
       "                 Generalized Linear Model Regression Results                  \n",
       "==============================================================================\n",
       "Dep. Variable:              Converted   No. Observations:                 6468\n",
       "Model:                            GLM   Df Residuals:                     6453\n",
       "Model Family:                Binomial   Df Model:                           14\n",
       "Link Function:                  logit   Scale:                          1.0000\n",
       "Method:                          IRLS   Log-Likelihood:                -1628.8\n",
       "Date:                Tue, 12 Jul 2022   Deviance:                       3257.7\n",
       "Time:                        15:24:29   Pearson chi2:                 9.76e+03\n",
       "No. Iterations:                     7                                         \n",
       "Covariance Type:            nonrobust                                         \n",
       "========================================================================================================================\n",
       "                                                           coef    std err          z      P>|z|      [0.025      0.975]\n",
       "------------------------------------------------------------------------------------------------------------------------\n",
       "const                                                   -5.1295      0.220    -23.286      0.000      -5.561      -4.698\n",
       "Total Time Spent on Website                              1.1194      0.052     21.335      0.000       1.017       1.222\n",
       "Lead Origin_Lead Add Form                                3.3802      0.247     13.662      0.000       2.895       3.865\n",
       "Lead Source_Olark Chat                                   1.2322      0.128      9.613      0.000       0.981       1.483\n",
       "Lead Source_Welingak Website                             1.7005      0.762      2.231      0.026       0.207       3.194\n",
       "Last Activity_Email Bounced                             -1.2411      0.374     -3.318      0.001      -1.974      -0.508\n",
       "Last Activity_Email Opened                               0.6759      0.127      5.337      0.000       0.428       0.924\n",
       "Last Activity_SMS Sent                                   1.7639      0.131     13.488      0.000       1.508       2.020\n",
       "Specialization_International Business                   -0.7259      0.357     -2.034      0.042      -1.425      -0.026\n",
       "Specialization_Travel and Tourism                       -0.7362      0.336     -2.194      0.028      -1.394      -0.078\n",
       "What is your current occupation_Other                   -1.3177      0.102    -12.953      0.000      -1.517      -1.118\n",
       "What is your current occupation_Working Professional     1.3387      0.271      4.937      0.000       0.807       1.870\n",
       "Tags_Others                                              3.7875      0.192     19.722      0.000       3.411       4.164\n",
       "Tags_Will revert after reading the email                 7.0642      0.249     28.404      0.000       6.577       7.552\n",
       "Last Notable Activity_Modified                          -0.6388      0.106     -6.012      0.000      -0.847      -0.431\n",
       "========================================================================================================================\n",
       "\"\"\""
      ]
     },
     "execution_count": 85,
     "metadata": {},
     "output_type": "execute_result"
    }
   ],
   "source": [
    "col = col.drop('Last Notable Activity_Email Opened', 1)\n",
    "\n",
    "X_train_7 = sm.add_constant(X_train[col])\n",
    "log_m7 = sm.GLM(y_train,X_train_7,family=sm.families.Binomial())\n",
    "log_model_7 = log_m7.fit()\n",
    "log_model_7.summary()"
   ]
  },
  {
   "cell_type": "markdown",
   "id": "5bf9dc70-eaca-413b-b580-8dca1fc35246",
   "metadata": {},
   "source": [
    "## Checking VIF"
   ]
  },
  {
   "cell_type": "code",
   "execution_count": 86,
   "id": "e15405f7-ea8c-4904-b757-ebbdfa924871",
   "metadata": {},
   "outputs": [
    {
     "data": {
      "text/html": [
       "<div>\n",
       "<style scoped>\n",
       "    .dataframe tbody tr th:only-of-type {\n",
       "        vertical-align: middle;\n",
       "    }\n",
       "\n",
       "    .dataframe tbody tr th {\n",
       "        vertical-align: top;\n",
       "    }\n",
       "\n",
       "    .dataframe thead th {\n",
       "        text-align: right;\n",
       "    }\n",
       "</style>\n",
       "<table border=\"1\" class=\"dataframe\">\n",
       "  <thead>\n",
       "    <tr style=\"text-align: right;\">\n",
       "      <th></th>\n",
       "      <th>Features</th>\n",
       "      <th>VIF</th>\n",
       "    </tr>\n",
       "  </thead>\n",
       "  <tbody>\n",
       "    <tr>\n",
       "      <th>11</th>\n",
       "      <td>Tags_Others</td>\n",
       "      <td>3.76</td>\n",
       "    </tr>\n",
       "    <tr>\n",
       "      <th>9</th>\n",
       "      <td>What is your current occupation_Other</td>\n",
       "      <td>2.31</td>\n",
       "    </tr>\n",
       "    <tr>\n",
       "      <th>12</th>\n",
       "      <td>Tags_Will revert after reading the email</td>\n",
       "      <td>2.17</td>\n",
       "    </tr>\n",
       "    <tr>\n",
       "      <th>6</th>\n",
       "      <td>Last Activity_SMS Sent</td>\n",
       "      <td>1.74</td>\n",
       "    </tr>\n",
       "    <tr>\n",
       "      <th>5</th>\n",
       "      <td>Last Activity_Email Opened</td>\n",
       "      <td>1.64</td>\n",
       "    </tr>\n",
       "    <tr>\n",
       "      <th>13</th>\n",
       "      <td>Last Notable Activity_Modified</td>\n",
       "      <td>1.58</td>\n",
       "    </tr>\n",
       "    <tr>\n",
       "      <th>1</th>\n",
       "      <td>Lead Origin_Lead Add Form</td>\n",
       "      <td>1.56</td>\n",
       "    </tr>\n",
       "    <tr>\n",
       "      <th>2</th>\n",
       "      <td>Lead Source_Olark Chat</td>\n",
       "      <td>1.53</td>\n",
       "    </tr>\n",
       "    <tr>\n",
       "      <th>0</th>\n",
       "      <td>Total Time Spent on Website</td>\n",
       "      <td>1.34</td>\n",
       "    </tr>\n",
       "    <tr>\n",
       "      <th>10</th>\n",
       "      <td>What is your current occupation_Working Profes...</td>\n",
       "      <td>1.32</td>\n",
       "    </tr>\n",
       "    <tr>\n",
       "      <th>3</th>\n",
       "      <td>Lead Source_Welingak Website</td>\n",
       "      <td>1.27</td>\n",
       "    </tr>\n",
       "    <tr>\n",
       "      <th>4</th>\n",
       "      <td>Last Activity_Email Bounced</td>\n",
       "      <td>1.10</td>\n",
       "    </tr>\n",
       "    <tr>\n",
       "      <th>8</th>\n",
       "      <td>Specialization_Travel and Tourism</td>\n",
       "      <td>1.03</td>\n",
       "    </tr>\n",
       "    <tr>\n",
       "      <th>7</th>\n",
       "      <td>Specialization_International Business</td>\n",
       "      <td>1.02</td>\n",
       "    </tr>\n",
       "  </tbody>\n",
       "</table>\n",
       "</div>"
      ],
      "text/plain": [
       "                                             Features   VIF\n",
       "11                                        Tags_Others  3.76\n",
       "9               What is your current occupation_Other  2.31\n",
       "12           Tags_Will revert after reading the email  2.17\n",
       "6                              Last Activity_SMS Sent  1.74\n",
       "5                          Last Activity_Email Opened  1.64\n",
       "13                     Last Notable Activity_Modified  1.58\n",
       "1                           Lead Origin_Lead Add Form  1.56\n",
       "2                              Lead Source_Olark Chat  1.53\n",
       "0                         Total Time Spent on Website  1.34\n",
       "10  What is your current occupation_Working Profes...  1.32\n",
       "3                        Lead Source_Welingak Website  1.27\n",
       "4                         Last Activity_Email Bounced  1.10\n",
       "8                   Specialization_Travel and Tourism  1.03\n",
       "7               Specialization_International Business  1.02"
      ]
     },
     "execution_count": 86,
     "metadata": {},
     "output_type": "execute_result"
    }
   ],
   "source": [
    "# Create a dataframe that will contain the names of all the feature variables and their respective VIFs\n",
    "vif = pd.DataFrame()\n",
    "vif['Features'] = X_train[col].columns\n",
    "vif['VIF'] = [variance_inflation_factor(X_train[col].values, i) for i in range(X_train[col].shape[1])]\n",
    "vif['VIF'] = round(vif['VIF'], 2)\n",
    "vif = vif.sort_values(by = \"VIF\", ascending = False)\n",
    "vif"
   ]
  },
  {
   "cell_type": "markdown",
   "id": "af11ebc9-415d-4438-871a-61354431c814",
   "metadata": {},
   "source": [
    "### Dropping 'Tags_Others' because of high VIF"
   ]
  },
  {
   "cell_type": "code",
   "execution_count": 87,
   "id": "f06ca92d-989b-424e-8785-f039944e84fc",
   "metadata": {},
   "outputs": [
    {
     "data": {
      "text/html": [
       "<table class=\"simpletable\">\n",
       "<caption>Generalized Linear Model Regression Results</caption>\n",
       "<tr>\n",
       "  <th>Dep. Variable:</th>       <td>Converted</td>    <th>  No. Observations:  </th>  <td>  6468</td> \n",
       "</tr>\n",
       "<tr>\n",
       "  <th>Model:</th>                  <td>GLM</td>       <th>  Df Residuals:      </th>  <td>  6454</td> \n",
       "</tr>\n",
       "<tr>\n",
       "  <th>Model Family:</th>        <td>Binomial</td>     <th>  Df Model:          </th>  <td>    13</td> \n",
       "</tr>\n",
       "<tr>\n",
       "  <th>Link Function:</th>         <td>logit</td>      <th>  Scale:             </th> <td>  1.0000</td>\n",
       "</tr>\n",
       "<tr>\n",
       "  <th>Method:</th>                <td>IRLS</td>       <th>  Log-Likelihood:    </th> <td> -1999.1</td>\n",
       "</tr>\n",
       "<tr>\n",
       "  <th>Date:</th>            <td>Tue, 12 Jul 2022</td> <th>  Deviance:          </th> <td>  3998.1</td>\n",
       "</tr>\n",
       "<tr>\n",
       "  <th>Time:</th>                <td>15:25:22</td>     <th>  Pearson chi2:      </th> <td>9.16e+03</td>\n",
       "</tr>\n",
       "<tr>\n",
       "  <th>No. Iterations:</th>          <td>7</td>        <th>                     </th>     <td> </td>   \n",
       "</tr>\n",
       "<tr>\n",
       "  <th>Covariance Type:</th>     <td>nonrobust</td>    <th>                     </th>     <td> </td>   \n",
       "</tr>\n",
       "</table>\n",
       "<table class=\"simpletable\">\n",
       "<tr>\n",
       "                            <td></td>                              <th>coef</th>     <th>std err</th>      <th>z</th>      <th>P>|z|</th>  <th>[0.025</th>    <th>0.975]</th>  \n",
       "</tr>\n",
       "<tr>\n",
       "  <th>const</th>                                                <td>   -2.3496</td> <td>    0.122</td> <td>  -19.323</td> <td> 0.000</td> <td>   -2.588</td> <td>   -2.111</td>\n",
       "</tr>\n",
       "<tr>\n",
       "  <th>Total Time Spent on Website</th>                          <td>    1.0409</td> <td>    0.045</td> <td>   23.111</td> <td> 0.000</td> <td>    0.953</td> <td>    1.129</td>\n",
       "</tr>\n",
       "<tr>\n",
       "  <th>Lead Origin_Lead Add Form</th>                            <td>    3.4413</td> <td>    0.212</td> <td>   16.248</td> <td> 0.000</td> <td>    3.026</td> <td>    3.856</td>\n",
       "</tr>\n",
       "<tr>\n",
       "  <th>Lead Source_Olark Chat</th>                               <td>    1.2770</td> <td>    0.117</td> <td>   10.872</td> <td> 0.000</td> <td>    1.047</td> <td>    1.507</td>\n",
       "</tr>\n",
       "<tr>\n",
       "  <th>Lead Source_Welingak Website</th>                         <td>    2.6073</td> <td>    0.749</td> <td>    3.481</td> <td> 0.000</td> <td>    1.139</td> <td>    4.075</td>\n",
       "</tr>\n",
       "<tr>\n",
       "  <th>Last Activity_Email Bounced</th>                          <td>   -1.0223</td> <td>    0.360</td> <td>   -2.843</td> <td> 0.004</td> <td>   -1.727</td> <td>   -0.318</td>\n",
       "</tr>\n",
       "<tr>\n",
       "  <th>Last Activity_Email Opened</th>                           <td>    0.5832</td> <td>    0.118</td> <td>    4.951</td> <td> 0.000</td> <td>    0.352</td> <td>    0.814</td>\n",
       "</tr>\n",
       "<tr>\n",
       "  <th>Last Activity_SMS Sent</th>                               <td>    1.5820</td> <td>    0.120</td> <td>   13.194</td> <td> 0.000</td> <td>    1.347</td> <td>    1.817</td>\n",
       "</tr>\n",
       "<tr>\n",
       "  <th>Specialization_International Business</th>                <td>   -0.5674</td> <td>    0.329</td> <td>   -1.727</td> <td> 0.084</td> <td>   -1.211</td> <td>    0.077</td>\n",
       "</tr>\n",
       "<tr>\n",
       "  <th>Specialization_Travel and Tourism</th>                    <td>   -0.4717</td> <td>    0.323</td> <td>   -1.460</td> <td> 0.144</td> <td>   -1.105</td> <td>    0.162</td>\n",
       "</tr>\n",
       "<tr>\n",
       "  <th>What is your current occupation_Other</th>                <td>   -0.2842</td> <td>    0.093</td> <td>   -3.066</td> <td> 0.002</td> <td>   -0.466</td> <td>   -0.102</td>\n",
       "</tr>\n",
       "<tr>\n",
       "  <th>What is your current occupation_Working Professional</th> <td>    1.5988</td> <td>    0.239</td> <td>    6.699</td> <td> 0.000</td> <td>    1.131</td> <td>    2.067</td>\n",
       "</tr>\n",
       "<tr>\n",
       "  <th>Tags_Will revert after reading the email</th>             <td>    4.2517</td> <td>    0.170</td> <td>   24.961</td> <td> 0.000</td> <td>    3.918</td> <td>    4.586</td>\n",
       "</tr>\n",
       "<tr>\n",
       "  <th>Last Notable Activity_Modified</th>                       <td>   -0.4775</td> <td>    0.098</td> <td>   -4.866</td> <td> 0.000</td> <td>   -0.670</td> <td>   -0.285</td>\n",
       "</tr>\n",
       "</table>"
      ],
      "text/plain": [
       "<class 'statsmodels.iolib.summary.Summary'>\n",
       "\"\"\"\n",
       "                 Generalized Linear Model Regression Results                  \n",
       "==============================================================================\n",
       "Dep. Variable:              Converted   No. Observations:                 6468\n",
       "Model:                            GLM   Df Residuals:                     6454\n",
       "Model Family:                Binomial   Df Model:                           13\n",
       "Link Function:                  logit   Scale:                          1.0000\n",
       "Method:                          IRLS   Log-Likelihood:                -1999.1\n",
       "Date:                Tue, 12 Jul 2022   Deviance:                       3998.1\n",
       "Time:                        15:25:22   Pearson chi2:                 9.16e+03\n",
       "No. Iterations:                     7                                         \n",
       "Covariance Type:            nonrobust                                         \n",
       "========================================================================================================================\n",
       "                                                           coef    std err          z      P>|z|      [0.025      0.975]\n",
       "------------------------------------------------------------------------------------------------------------------------\n",
       "const                                                   -2.3496      0.122    -19.323      0.000      -2.588      -2.111\n",
       "Total Time Spent on Website                              1.0409      0.045     23.111      0.000       0.953       1.129\n",
       "Lead Origin_Lead Add Form                                3.4413      0.212     16.248      0.000       3.026       3.856\n",
       "Lead Source_Olark Chat                                   1.2770      0.117     10.872      0.000       1.047       1.507\n",
       "Lead Source_Welingak Website                             2.6073      0.749      3.481      0.000       1.139       4.075\n",
       "Last Activity_Email Bounced                             -1.0223      0.360     -2.843      0.004      -1.727      -0.318\n",
       "Last Activity_Email Opened                               0.5832      0.118      4.951      0.000       0.352       0.814\n",
       "Last Activity_SMS Sent                                   1.5820      0.120     13.194      0.000       1.347       1.817\n",
       "Specialization_International Business                   -0.5674      0.329     -1.727      0.084      -1.211       0.077\n",
       "Specialization_Travel and Tourism                       -0.4717      0.323     -1.460      0.144      -1.105       0.162\n",
       "What is your current occupation_Other                   -0.2842      0.093     -3.066      0.002      -0.466      -0.102\n",
       "What is your current occupation_Working Professional     1.5988      0.239      6.699      0.000       1.131       2.067\n",
       "Tags_Will revert after reading the email                 4.2517      0.170     24.961      0.000       3.918       4.586\n",
       "Last Notable Activity_Modified                          -0.4775      0.098     -4.866      0.000      -0.670      -0.285\n",
       "========================================================================================================================\n",
       "\"\"\""
      ]
     },
     "execution_count": 87,
     "metadata": {},
     "output_type": "execute_result"
    }
   ],
   "source": [
    "col = col.drop('Tags_Others', 1)\n",
    "\n",
    "X_train_8 = sm.add_constant(X_train[col])\n",
    "log_m8 = sm.GLM(y_train,X_train_8,family=sm.families.Binomial())\n",
    "log_model_8 = log_m8.fit()\n",
    "log_model_8.summary()"
   ]
  },
  {
   "cell_type": "markdown",
   "id": "f6091119-8ac1-4f23-8539-052828a6e510",
   "metadata": {},
   "source": [
    "### Dropping 'Specialization_Travel and Tourism' because of high p-Value and rebuilding model"
   ]
  },
  {
   "cell_type": "code",
   "execution_count": 88,
   "id": "559ac67c-1225-4258-bbac-ec72bf9e6b3e",
   "metadata": {},
   "outputs": [
    {
     "data": {
      "text/html": [
       "<table class=\"simpletable\">\n",
       "<caption>Generalized Linear Model Regression Results</caption>\n",
       "<tr>\n",
       "  <th>Dep. Variable:</th>       <td>Converted</td>    <th>  No. Observations:  </th>  <td>  6468</td> \n",
       "</tr>\n",
       "<tr>\n",
       "  <th>Model:</th>                  <td>GLM</td>       <th>  Df Residuals:      </th>  <td>  6455</td> \n",
       "</tr>\n",
       "<tr>\n",
       "  <th>Model Family:</th>        <td>Binomial</td>     <th>  Df Model:          </th>  <td>    12</td> \n",
       "</tr>\n",
       "<tr>\n",
       "  <th>Link Function:</th>         <td>logit</td>      <th>  Scale:             </th> <td>  1.0000</td>\n",
       "</tr>\n",
       "<tr>\n",
       "  <th>Method:</th>                <td>IRLS</td>       <th>  Log-Likelihood:    </th> <td> -2000.2</td>\n",
       "</tr>\n",
       "<tr>\n",
       "  <th>Date:</th>            <td>Tue, 12 Jul 2022</td> <th>  Deviance:          </th> <td>  4000.4</td>\n",
       "</tr>\n",
       "<tr>\n",
       "  <th>Time:</th>                <td>15:25:44</td>     <th>  Pearson chi2:      </th> <td>9.10e+03</td>\n",
       "</tr>\n",
       "<tr>\n",
       "  <th>No. Iterations:</th>          <td>7</td>        <th>                     </th>     <td> </td>   \n",
       "</tr>\n",
       "<tr>\n",
       "  <th>Covariance Type:</th>     <td>nonrobust</td>    <th>                     </th>     <td> </td>   \n",
       "</tr>\n",
       "</table>\n",
       "<table class=\"simpletable\">\n",
       "<tr>\n",
       "                            <td></td>                              <th>coef</th>     <th>std err</th>      <th>z</th>      <th>P>|z|</th>  <th>[0.025</th>    <th>0.975]</th>  \n",
       "</tr>\n",
       "<tr>\n",
       "  <th>const</th>                                                <td>   -2.3569</td> <td>    0.121</td> <td>  -19.402</td> <td> 0.000</td> <td>   -2.595</td> <td>   -2.119</td>\n",
       "</tr>\n",
       "<tr>\n",
       "  <th>Total Time Spent on Website</th>                          <td>    1.0415</td> <td>    0.045</td> <td>   23.131</td> <td> 0.000</td> <td>    0.953</td> <td>    1.130</td>\n",
       "</tr>\n",
       "<tr>\n",
       "  <th>Lead Origin_Lead Add Form</th>                            <td>    3.4533</td> <td>    0.212</td> <td>   16.313</td> <td> 0.000</td> <td>    3.038</td> <td>    3.868</td>\n",
       "</tr>\n",
       "<tr>\n",
       "  <th>Lead Source_Olark Chat</th>                               <td>    1.2870</td> <td>    0.117</td> <td>   10.970</td> <td> 0.000</td> <td>    1.057</td> <td>    1.517</td>\n",
       "</tr>\n",
       "<tr>\n",
       "  <th>Lead Source_Welingak Website</th>                         <td>    2.6065</td> <td>    0.749</td> <td>    3.480</td> <td> 0.001</td> <td>    1.138</td> <td>    4.075</td>\n",
       "</tr>\n",
       "<tr>\n",
       "  <th>Last Activity_Email Bounced</th>                          <td>   -1.0352</td> <td>    0.358</td> <td>   -2.889</td> <td> 0.004</td> <td>   -1.738</td> <td>   -0.333</td>\n",
       "</tr>\n",
       "<tr>\n",
       "  <th>Last Activity_Email Opened</th>                           <td>    0.5837</td> <td>    0.118</td> <td>    4.957</td> <td> 0.000</td> <td>    0.353</td> <td>    0.815</td>\n",
       "</tr>\n",
       "<tr>\n",
       "  <th>Last Activity_SMS Sent</th>                               <td>    1.5791</td> <td>    0.120</td> <td>   13.180</td> <td> 0.000</td> <td>    1.344</td> <td>    1.814</td>\n",
       "</tr>\n",
       "<tr>\n",
       "  <th>Specialization_International Business</th>                <td>   -0.5566</td> <td>    0.328</td> <td>   -1.695</td> <td> 0.090</td> <td>   -1.200</td> <td>    0.087</td>\n",
       "</tr>\n",
       "<tr>\n",
       "  <th>What is your current occupation_Other</th>                <td>   -0.2861</td> <td>    0.093</td> <td>   -3.087</td> <td> 0.002</td> <td>   -0.468</td> <td>   -0.104</td>\n",
       "</tr>\n",
       "<tr>\n",
       "  <th>What is your current occupation_Working Professional</th> <td>    1.5953</td> <td>    0.239</td> <td>    6.688</td> <td> 0.000</td> <td>    1.128</td> <td>    2.063</td>\n",
       "</tr>\n",
       "<tr>\n",
       "  <th>Tags_Will revert after reading the email</th>             <td>    4.2410</td> <td>    0.170</td> <td>   24.957</td> <td> 0.000</td> <td>    3.908</td> <td>    4.574</td>\n",
       "</tr>\n",
       "<tr>\n",
       "  <th>Last Notable Activity_Modified</th>                       <td>   -0.4828</td> <td>    0.098</td> <td>   -4.924</td> <td> 0.000</td> <td>   -0.675</td> <td>   -0.291</td>\n",
       "</tr>\n",
       "</table>"
      ],
      "text/plain": [
       "<class 'statsmodels.iolib.summary.Summary'>\n",
       "\"\"\"\n",
       "                 Generalized Linear Model Regression Results                  \n",
       "==============================================================================\n",
       "Dep. Variable:              Converted   No. Observations:                 6468\n",
       "Model:                            GLM   Df Residuals:                     6455\n",
       "Model Family:                Binomial   Df Model:                           12\n",
       "Link Function:                  logit   Scale:                          1.0000\n",
       "Method:                          IRLS   Log-Likelihood:                -2000.2\n",
       "Date:                Tue, 12 Jul 2022   Deviance:                       4000.4\n",
       "Time:                        15:25:44   Pearson chi2:                 9.10e+03\n",
       "No. Iterations:                     7                                         \n",
       "Covariance Type:            nonrobust                                         \n",
       "========================================================================================================================\n",
       "                                                           coef    std err          z      P>|z|      [0.025      0.975]\n",
       "------------------------------------------------------------------------------------------------------------------------\n",
       "const                                                   -2.3569      0.121    -19.402      0.000      -2.595      -2.119\n",
       "Total Time Spent on Website                              1.0415      0.045     23.131      0.000       0.953       1.130\n",
       "Lead Origin_Lead Add Form                                3.4533      0.212     16.313      0.000       3.038       3.868\n",
       "Lead Source_Olark Chat                                   1.2870      0.117     10.970      0.000       1.057       1.517\n",
       "Lead Source_Welingak Website                             2.6065      0.749      3.480      0.001       1.138       4.075\n",
       "Last Activity_Email Bounced                             -1.0352      0.358     -2.889      0.004      -1.738      -0.333\n",
       "Last Activity_Email Opened                               0.5837      0.118      4.957      0.000       0.353       0.815\n",
       "Last Activity_SMS Sent                                   1.5791      0.120     13.180      0.000       1.344       1.814\n",
       "Specialization_International Business                   -0.5566      0.328     -1.695      0.090      -1.200       0.087\n",
       "What is your current occupation_Other                   -0.2861      0.093     -3.087      0.002      -0.468      -0.104\n",
       "What is your current occupation_Working Professional     1.5953      0.239      6.688      0.000       1.128       2.063\n",
       "Tags_Will revert after reading the email                 4.2410      0.170     24.957      0.000       3.908       4.574\n",
       "Last Notable Activity_Modified                          -0.4828      0.098     -4.924      0.000      -0.675      -0.291\n",
       "========================================================================================================================\n",
       "\"\"\""
      ]
     },
     "execution_count": 88,
     "metadata": {},
     "output_type": "execute_result"
    }
   ],
   "source": [
    "col = col.drop('Specialization_Travel and Tourism', 1)\n",
    "\n",
    "X_train_9 = sm.add_constant(X_train[col])\n",
    "log_m9 = sm.GLM(y_train,X_train_9,family=sm.families.Binomial())\n",
    "log_model_9 = log_m9.fit()\n",
    "log_model_9.summary()"
   ]
  },
  {
   "cell_type": "markdown",
   "id": "e68cd498-ab6f-40f8-ac83-2747da07fcd9",
   "metadata": {},
   "source": [
    "### Dropping 'Specialization_International Business' because of high p-Value and rebuilding model"
   ]
  },
  {
   "cell_type": "code",
   "execution_count": 89,
   "id": "06f37dc2-1265-42a7-a07a-9c2558108757",
   "metadata": {},
   "outputs": [
    {
     "data": {
      "text/html": [
       "<table class=\"simpletable\">\n",
       "<caption>Generalized Linear Model Regression Results</caption>\n",
       "<tr>\n",
       "  <th>Dep. Variable:</th>       <td>Converted</td>    <th>  No. Observations:  </th>  <td>  6468</td> \n",
       "</tr>\n",
       "<tr>\n",
       "  <th>Model:</th>                  <td>GLM</td>       <th>  Df Residuals:      </th>  <td>  6456</td> \n",
       "</tr>\n",
       "<tr>\n",
       "  <th>Model Family:</th>        <td>Binomial</td>     <th>  Df Model:          </th>  <td>    11</td> \n",
       "</tr>\n",
       "<tr>\n",
       "  <th>Link Function:</th>         <td>logit</td>      <th>  Scale:             </th> <td>  1.0000</td>\n",
       "</tr>\n",
       "<tr>\n",
       "  <th>Method:</th>                <td>IRLS</td>       <th>  Log-Likelihood:    </th> <td> -2001.7</td>\n",
       "</tr>\n",
       "<tr>\n",
       "  <th>Date:</th>            <td>Tue, 12 Jul 2022</td> <th>  Deviance:          </th> <td>  4003.4</td>\n",
       "</tr>\n",
       "<tr>\n",
       "  <th>Time:</th>                <td>15:26:04</td>     <th>  Pearson chi2:      </th> <td>9.06e+03</td>\n",
       "</tr>\n",
       "<tr>\n",
       "  <th>No. Iterations:</th>          <td>7</td>        <th>                     </th>     <td> </td>   \n",
       "</tr>\n",
       "<tr>\n",
       "  <th>Covariance Type:</th>     <td>nonrobust</td>    <th>                     </th>     <td> </td>   \n",
       "</tr>\n",
       "</table>\n",
       "<table class=\"simpletable\">\n",
       "<tr>\n",
       "                            <td></td>                              <th>coef</th>     <th>std err</th>      <th>z</th>      <th>P>|z|</th>  <th>[0.025</th>    <th>0.975]</th>  \n",
       "</tr>\n",
       "<tr>\n",
       "  <th>const</th>                                                <td>   -2.3683</td> <td>    0.121</td> <td>  -19.520</td> <td> 0.000</td> <td>   -2.606</td> <td>   -2.131</td>\n",
       "</tr>\n",
       "<tr>\n",
       "  <th>Total Time Spent on Website</th>                          <td>    1.0419</td> <td>    0.045</td> <td>   23.150</td> <td> 0.000</td> <td>    0.954</td> <td>    1.130</td>\n",
       "</tr>\n",
       "<tr>\n",
       "  <th>Lead Origin_Lead Add Form</th>                            <td>    3.4579</td> <td>    0.212</td> <td>   16.347</td> <td> 0.000</td> <td>    3.043</td> <td>    3.872</td>\n",
       "</tr>\n",
       "<tr>\n",
       "  <th>Lead Source_Olark Chat</th>                               <td>    1.2982</td> <td>    0.117</td> <td>   11.076</td> <td> 0.000</td> <td>    1.068</td> <td>    1.528</td>\n",
       "</tr>\n",
       "<tr>\n",
       "  <th>Lead Source_Welingak Website</th>                         <td>    2.6146</td> <td>    0.749</td> <td>    3.491</td> <td> 0.000</td> <td>    1.147</td> <td>    4.083</td>\n",
       "</tr>\n",
       "<tr>\n",
       "  <th>Last Activity_Email Bounced</th>                          <td>   -1.0412</td> <td>    0.358</td> <td>   -2.904</td> <td> 0.004</td> <td>   -1.744</td> <td>   -0.339</td>\n",
       "</tr>\n",
       "<tr>\n",
       "  <th>Last Activity_Email Opened</th>                           <td>    0.5819</td> <td>    0.118</td> <td>    4.942</td> <td> 0.000</td> <td>    0.351</td> <td>    0.813</td>\n",
       "</tr>\n",
       "<tr>\n",
       "  <th>Last Activity_SMS Sent</th>                               <td>    1.5777</td> <td>    0.120</td> <td>   13.174</td> <td> 0.000</td> <td>    1.343</td> <td>    1.812</td>\n",
       "</tr>\n",
       "<tr>\n",
       "  <th>What is your current occupation_Other</th>                <td>   -0.2854</td> <td>    0.093</td> <td>   -3.081</td> <td> 0.002</td> <td>   -0.467</td> <td>   -0.104</td>\n",
       "</tr>\n",
       "<tr>\n",
       "  <th>What is your current occupation_Working Professional</th> <td>    1.6005</td> <td>    0.238</td> <td>    6.718</td> <td> 0.000</td> <td>    1.134</td> <td>    2.067</td>\n",
       "</tr>\n",
       "<tr>\n",
       "  <th>Tags_Will revert after reading the email</th>             <td>    4.2359</td> <td>    0.170</td> <td>   24.946</td> <td> 0.000</td> <td>    3.903</td> <td>    4.569</td>\n",
       "</tr>\n",
       "<tr>\n",
       "  <th>Last Notable Activity_Modified</th>                       <td>   -0.4812</td> <td>    0.098</td> <td>   -4.909</td> <td> 0.000</td> <td>   -0.673</td> <td>   -0.289</td>\n",
       "</tr>\n",
       "</table>"
      ],
      "text/plain": [
       "<class 'statsmodels.iolib.summary.Summary'>\n",
       "\"\"\"\n",
       "                 Generalized Linear Model Regression Results                  \n",
       "==============================================================================\n",
       "Dep. Variable:              Converted   No. Observations:                 6468\n",
       "Model:                            GLM   Df Residuals:                     6456\n",
       "Model Family:                Binomial   Df Model:                           11\n",
       "Link Function:                  logit   Scale:                          1.0000\n",
       "Method:                          IRLS   Log-Likelihood:                -2001.7\n",
       "Date:                Tue, 12 Jul 2022   Deviance:                       4003.4\n",
       "Time:                        15:26:04   Pearson chi2:                 9.06e+03\n",
       "No. Iterations:                     7                                         \n",
       "Covariance Type:            nonrobust                                         \n",
       "========================================================================================================================\n",
       "                                                           coef    std err          z      P>|z|      [0.025      0.975]\n",
       "------------------------------------------------------------------------------------------------------------------------\n",
       "const                                                   -2.3683      0.121    -19.520      0.000      -2.606      -2.131\n",
       "Total Time Spent on Website                              1.0419      0.045     23.150      0.000       0.954       1.130\n",
       "Lead Origin_Lead Add Form                                3.4579      0.212     16.347      0.000       3.043       3.872\n",
       "Lead Source_Olark Chat                                   1.2982      0.117     11.076      0.000       1.068       1.528\n",
       "Lead Source_Welingak Website                             2.6146      0.749      3.491      0.000       1.147       4.083\n",
       "Last Activity_Email Bounced                             -1.0412      0.358     -2.904      0.004      -1.744      -0.339\n",
       "Last Activity_Email Opened                               0.5819      0.118      4.942      0.000       0.351       0.813\n",
       "Last Activity_SMS Sent                                   1.5777      0.120     13.174      0.000       1.343       1.812\n",
       "What is your current occupation_Other                   -0.2854      0.093     -3.081      0.002      -0.467      -0.104\n",
       "What is your current occupation_Working Professional     1.6005      0.238      6.718      0.000       1.134       2.067\n",
       "Tags_Will revert after reading the email                 4.2359      0.170     24.946      0.000       3.903       4.569\n",
       "Last Notable Activity_Modified                          -0.4812      0.098     -4.909      0.000      -0.673      -0.289\n",
       "========================================================================================================================\n",
       "\"\"\""
      ]
     },
     "execution_count": 89,
     "metadata": {},
     "output_type": "execute_result"
    }
   ],
   "source": [
    "col = col.drop('Specialization_International Business', 1)\n",
    "\n",
    "X_train_10 = sm.add_constant(X_train[col])\n",
    "log_m10 = sm.GLM(y_train,X_train_10,family=sm.families.Binomial())\n",
    "log_model_10 = log_m10.fit()\n",
    "log_model_10.summary()"
   ]
  },
  {
   "cell_type": "markdown",
   "id": "031e4035-46b4-4ce8-a483-ffe510b8fd37",
   "metadata": {},
   "source": [
    "### P-Value is under control, lets check VIF"
   ]
  },
  {
   "cell_type": "code",
   "execution_count": 90,
   "id": "0401fec5-58d1-43aa-b659-893375c42c75",
   "metadata": {},
   "outputs": [
    {
     "data": {
      "text/html": [
       "<div>\n",
       "<style scoped>\n",
       "    .dataframe tbody tr th:only-of-type {\n",
       "        vertical-align: middle;\n",
       "    }\n",
       "\n",
       "    .dataframe tbody tr th {\n",
       "        vertical-align: top;\n",
       "    }\n",
       "\n",
       "    .dataframe thead th {\n",
       "        text-align: right;\n",
       "    }\n",
       "</style>\n",
       "<table border=\"1\" class=\"dataframe\">\n",
       "  <thead>\n",
       "    <tr style=\"text-align: right;\">\n",
       "      <th></th>\n",
       "      <th>Features</th>\n",
       "      <th>VIF</th>\n",
       "    </tr>\n",
       "  </thead>\n",
       "  <tbody>\n",
       "    <tr>\n",
       "      <th>9</th>\n",
       "      <td>Tags_Will revert after reading the email</td>\n",
       "      <td>1.81</td>\n",
       "    </tr>\n",
       "    <tr>\n",
       "      <th>7</th>\n",
       "      <td>What is your current occupation_Other</td>\n",
       "      <td>1.57</td>\n",
       "    </tr>\n",
       "    <tr>\n",
       "      <th>1</th>\n",
       "      <td>Lead Origin_Lead Add Form</td>\n",
       "      <td>1.52</td>\n",
       "    </tr>\n",
       "    <tr>\n",
       "      <th>2</th>\n",
       "      <td>Lead Source_Olark Chat</td>\n",
       "      <td>1.47</td>\n",
       "    </tr>\n",
       "    <tr>\n",
       "      <th>6</th>\n",
       "      <td>Last Activity_SMS Sent</td>\n",
       "      <td>1.45</td>\n",
       "    </tr>\n",
       "    <tr>\n",
       "      <th>10</th>\n",
       "      <td>Last Notable Activity_Modified</td>\n",
       "      <td>1.42</td>\n",
       "    </tr>\n",
       "    <tr>\n",
       "      <th>5</th>\n",
       "      <td>Last Activity_Email Opened</td>\n",
       "      <td>1.32</td>\n",
       "    </tr>\n",
       "    <tr>\n",
       "      <th>0</th>\n",
       "      <td>Total Time Spent on Website</td>\n",
       "      <td>1.31</td>\n",
       "    </tr>\n",
       "    <tr>\n",
       "      <th>8</th>\n",
       "      <td>What is your current occupation_Working Profes...</td>\n",
       "      <td>1.31</td>\n",
       "    </tr>\n",
       "    <tr>\n",
       "      <th>3</th>\n",
       "      <td>Lead Source_Welingak Website</td>\n",
       "      <td>1.26</td>\n",
       "    </tr>\n",
       "    <tr>\n",
       "      <th>4</th>\n",
       "      <td>Last Activity_Email Bounced</td>\n",
       "      <td>1.08</td>\n",
       "    </tr>\n",
       "  </tbody>\n",
       "</table>\n",
       "</div>"
      ],
      "text/plain": [
       "                                             Features   VIF\n",
       "9            Tags_Will revert after reading the email  1.81\n",
       "7               What is your current occupation_Other  1.57\n",
       "1                           Lead Origin_Lead Add Form  1.52\n",
       "2                              Lead Source_Olark Chat  1.47\n",
       "6                              Last Activity_SMS Sent  1.45\n",
       "10                     Last Notable Activity_Modified  1.42\n",
       "5                          Last Activity_Email Opened  1.32\n",
       "0                         Total Time Spent on Website  1.31\n",
       "8   What is your current occupation_Working Profes...  1.31\n",
       "3                        Lead Source_Welingak Website  1.26\n",
       "4                         Last Activity_Email Bounced  1.08"
      ]
     },
     "execution_count": 90,
     "metadata": {},
     "output_type": "execute_result"
    }
   ],
   "source": [
    "# Create a dataframe that will contain the names of all the feature variables and their respective VIFs\n",
    "vif = pd.DataFrame()\n",
    "vif['Features'] = X_train[col].columns\n",
    "vif['VIF'] = [variance_inflation_factor(X_train[col].values, i) for i in range(X_train[col].shape[1])]\n",
    "vif['VIF'] = round(vif['VIF'], 2)\n",
    "vif = vif.sort_values(by = \"VIF\", ascending = False)\n",
    "vif"
   ]
  },
  {
   "cell_type": "markdown",
   "id": "f419faed-881c-4376-b419-3eb4111174d3",
   "metadata": {},
   "source": [
    "### VIF is also under control as none have more than 5 VIF value"
   ]
  },
  {
   "cell_type": "markdown",
   "id": "ed5f4d98-540a-4161-bf1b-764429c09752",
   "metadata": {},
   "source": [
    "## Probability prediction"
   ]
  },
  {
   "cell_type": "code",
   "execution_count": 91,
   "id": "8b3aeb02-3c0f-446f-98a9-870ee0eb84fd",
   "metadata": {},
   "outputs": [
    {
     "data": {
      "text/plain": [
       "array([0.19612936, 0.14424799, 0.22995056, 0.65288555, 0.13103269,\n",
       "       0.99907668, 0.0726417 , 0.87396105, 0.07559976, 0.99593963])"
      ]
     },
     "execution_count": 91,
     "metadata": {},
     "output_type": "execute_result"
    }
   ],
   "source": [
    "y_train_pred = log_model_10.predict(X_train_10).values.reshape(-1)\n",
    "y_train_pred[:10]"
   ]
  },
  {
   "cell_type": "code",
   "execution_count": 92,
   "id": "aa664664-4066-4582-86ac-50fa5628b752",
   "metadata": {},
   "outputs": [
    {
     "data": {
      "text/plain": [
       "array([0.19612936, 0.14424799, 0.22995056, ..., 0.19612936, 0.03495016,\n",
       "       0.10181121])"
      ]
     },
     "execution_count": 92,
     "metadata": {},
     "output_type": "execute_result"
    }
   ],
   "source": [
    "y_train_pred"
   ]
  },
  {
   "cell_type": "code",
   "execution_count": 93,
   "id": "24a7ba8e-5ffc-4301-8a96-c7e3dbeb7656",
   "metadata": {},
   "outputs": [
    {
     "data": {
      "text/plain": [
       "1871    0\n",
       "6795    0\n",
       "3516    0\n",
       "8105    0\n",
       "3934    0\n",
       "       ..\n",
       "350     1\n",
       "79      1\n",
       "8039    1\n",
       "6936    0\n",
       "5640    0\n",
       "Name: Converted, Length: 6468, dtype: int64"
      ]
     },
     "execution_count": 93,
     "metadata": {},
     "output_type": "execute_result"
    }
   ],
   "source": [
    "y_train"
   ]
  },
  {
   "cell_type": "code",
   "execution_count": 94,
   "id": "f860725c-15b0-4377-8732-167b71906b8d",
   "metadata": {},
   "outputs": [
    {
     "data": {
      "text/html": [
       "<div>\n",
       "<style scoped>\n",
       "    .dataframe tbody tr th:only-of-type {\n",
       "        vertical-align: middle;\n",
       "    }\n",
       "\n",
       "    .dataframe tbody tr th {\n",
       "        vertical-align: top;\n",
       "    }\n",
       "\n",
       "    .dataframe thead th {\n",
       "        text-align: right;\n",
       "    }\n",
       "</style>\n",
       "<table border=\"1\" class=\"dataframe\">\n",
       "  <thead>\n",
       "    <tr style=\"text-align: right;\">\n",
       "      <th></th>\n",
       "      <th>Converted_Ind</th>\n",
       "      <th>Converted_Prob</th>\n",
       "      <th>Prospect_Id</th>\n",
       "    </tr>\n",
       "  </thead>\n",
       "  <tbody>\n",
       "    <tr>\n",
       "      <th>0</th>\n",
       "      <td>0</td>\n",
       "      <td>0.196129</td>\n",
       "      <td>1871</td>\n",
       "    </tr>\n",
       "    <tr>\n",
       "      <th>1</th>\n",
       "      <td>0</td>\n",
       "      <td>0.144248</td>\n",
       "      <td>6795</td>\n",
       "    </tr>\n",
       "    <tr>\n",
       "      <th>2</th>\n",
       "      <td>0</td>\n",
       "      <td>0.229951</td>\n",
       "      <td>3516</td>\n",
       "    </tr>\n",
       "    <tr>\n",
       "      <th>3</th>\n",
       "      <td>0</td>\n",
       "      <td>0.652886</td>\n",
       "      <td>8105</td>\n",
       "    </tr>\n",
       "    <tr>\n",
       "      <th>4</th>\n",
       "      <td>0</td>\n",
       "      <td>0.131033</td>\n",
       "      <td>3934</td>\n",
       "    </tr>\n",
       "  </tbody>\n",
       "</table>\n",
       "</div>"
      ],
      "text/plain": [
       "   Converted_Ind  Converted_Prob  Prospect_Id\n",
       "0              0        0.196129         1871\n",
       "1              0        0.144248         6795\n",
       "2              0        0.229951         3516\n",
       "3              0        0.652886         8105\n",
       "4              0        0.131033         3934"
      ]
     },
     "execution_count": 94,
     "metadata": {},
     "output_type": "execute_result"
    }
   ],
   "source": [
    "y_train_pred_final = pd.DataFrame({'Converted_Ind':y_train.values, 'Converted_Prob': y_train_pred})\n",
    "y_train_pred_final['Prospect_Id'] = y_train.index\n",
    "y_train_pred_final.head()"
   ]
  },
  {
   "cell_type": "code",
   "execution_count": 95,
   "id": "2bf4ef26-af55-4440-85a5-bec565dc1d0f",
   "metadata": {},
   "outputs": [
    {
     "data": {
      "text/html": [
       "<div>\n",
       "<style scoped>\n",
       "    .dataframe tbody tr th:only-of-type {\n",
       "        vertical-align: middle;\n",
       "    }\n",
       "\n",
       "    .dataframe tbody tr th {\n",
       "        vertical-align: top;\n",
       "    }\n",
       "\n",
       "    .dataframe thead th {\n",
       "        text-align: right;\n",
       "    }\n",
       "</style>\n",
       "<table border=\"1\" class=\"dataframe\">\n",
       "  <thead>\n",
       "    <tr style=\"text-align: right;\">\n",
       "      <th></th>\n",
       "      <th>Converted_Ind</th>\n",
       "      <th>Converted_Prob</th>\n",
       "      <th>Prospect_Id</th>\n",
       "      <th>Predicted</th>\n",
       "    </tr>\n",
       "  </thead>\n",
       "  <tbody>\n",
       "    <tr>\n",
       "      <th>0</th>\n",
       "      <td>0</td>\n",
       "      <td>0.196129</td>\n",
       "      <td>1871</td>\n",
       "      <td>0</td>\n",
       "    </tr>\n",
       "    <tr>\n",
       "      <th>1</th>\n",
       "      <td>0</td>\n",
       "      <td>0.144248</td>\n",
       "      <td>6795</td>\n",
       "      <td>0</td>\n",
       "    </tr>\n",
       "    <tr>\n",
       "      <th>2</th>\n",
       "      <td>0</td>\n",
       "      <td>0.229951</td>\n",
       "      <td>3516</td>\n",
       "      <td>0</td>\n",
       "    </tr>\n",
       "    <tr>\n",
       "      <th>3</th>\n",
       "      <td>0</td>\n",
       "      <td>0.652886</td>\n",
       "      <td>8105</td>\n",
       "      <td>1</td>\n",
       "    </tr>\n",
       "    <tr>\n",
       "      <th>4</th>\n",
       "      <td>0</td>\n",
       "      <td>0.131033</td>\n",
       "      <td>3934</td>\n",
       "      <td>0</td>\n",
       "    </tr>\n",
       "  </tbody>\n",
       "</table>\n",
       "</div>"
      ],
      "text/plain": [
       "   Converted_Ind  Converted_Prob  Prospect_Id  Predicted\n",
       "0              0        0.196129         1871          0\n",
       "1              0        0.144248         6795          0\n",
       "2              0        0.229951         3516          0\n",
       "3              0        0.652886         8105          1\n",
       "4              0        0.131033         3934          0"
      ]
     },
     "execution_count": 95,
     "metadata": {},
     "output_type": "execute_result"
    }
   ],
   "source": [
    "y_train_pred_final['Predicted'] = y_train_pred_final.Converted_Prob.map(lambda x: 1 if x>0.5 else 0)\n",
    "y_train_pred_final.head()"
   ]
  },
  {
   "cell_type": "markdown",
   "id": "aabcf58a-973d-4581-a801-9ec7555a8dfe",
   "metadata": {},
   "source": [
    "## Creating Confusion Matrix"
   ]
  },
  {
   "cell_type": "code",
   "execution_count": 96,
   "id": "a612c065-7076-4257-8c89-c1985ed5af19",
   "metadata": {},
   "outputs": [
    {
     "data": {
      "text/plain": [
       "array([[3745,  257],\n",
       "       [ 617, 1849]], dtype=int64)"
      ]
     },
     "execution_count": 96,
     "metadata": {},
     "output_type": "execute_result"
    }
   ],
   "source": [
    "confusion = confusion_matrix(y_train_pred_final.Converted_Ind, y_train_pred_final.Predicted )\n",
    "confusion"
   ]
  },
  {
   "cell_type": "markdown",
   "id": "ef65a970-1698-4bc3-aabb-8e0569e92f69",
   "metadata": {},
   "source": [
    "##      Actual/Predicted             \n",
    "                                    not_converted    converted\n",
    "                    not_converted          3558           444\n",
    "                    converted              880            1586  "
   ]
  },
  {
   "cell_type": "code",
   "execution_count": 97,
   "id": "173ac9e1-83e7-4875-9613-8dfa7f93043b",
   "metadata": {},
   "outputs": [
    {
     "data": {
      "text/plain": [
       "0.8648732220160792"
      ]
     },
     "execution_count": 97,
     "metadata": {},
     "output_type": "execute_result"
    }
   ],
   "source": [
    "# Let's check the overall accuracy.\n",
    "accuracy_score(y_train_pred_final.Converted_Ind, y_train_pred_final.Predicted)"
   ]
  },
  {
   "cell_type": "code",
   "execution_count": 98,
   "id": "cfe3972b-aaef-4b9c-b525-74ce5720e497",
   "metadata": {},
   "outputs": [
    {
     "name": "stdout",
     "output_type": "stream",
     "text": [
      "              precision    recall  f1-score   support\n",
      "\n",
      "           0       0.86      0.94      0.90      4002\n",
      "           1       0.88      0.75      0.81      2466\n",
      "\n",
      "    accuracy                           0.86      6468\n",
      "   macro avg       0.87      0.84      0.85      6468\n",
      "weighted avg       0.87      0.86      0.86      6468\n",
      "\n"
     ]
    }
   ],
   "source": [
    "print(classification_report( y_train_pred_final.Converted_Ind, y_train_pred_final.Predicted ))"
   ]
  },
  {
   "cell_type": "markdown",
   "id": "041445b1-86cd-4c9a-8e19-722be2527e54",
   "metadata": {},
   "source": [
    "## Metrics beyond Accuracy"
   ]
  },
  {
   "cell_type": "code",
   "execution_count": 99,
   "id": "506dbf12-4782-4b5d-8073-81fb88710295",
   "metadata": {},
   "outputs": [],
   "source": [
    "TP = confusion[1,1] # true positive \n",
    "TN = confusion[0,0] # true negatives\n",
    "FP = confusion[0,1] # false positives\n",
    "FN = confusion[1,0] # false negatives"
   ]
  },
  {
   "cell_type": "code",
   "execution_count": 100,
   "id": "1be08d46-1091-4a71-9725-21cec4aa8789",
   "metadata": {},
   "outputs": [
    {
     "data": {
      "text/plain": [
       "0.7497972424979724"
      ]
     },
     "execution_count": 100,
     "metadata": {},
     "output_type": "execute_result"
    }
   ],
   "source": [
    "# Let's see the sensitivity/recall of our logistic regression model -- True Positive Rate\n",
    "TP / float(TP+FN)"
   ]
  },
  {
   "cell_type": "code",
   "execution_count": 101,
   "id": "862e5866-bd31-461c-8c95-39fbac967a2d",
   "metadata": {},
   "outputs": [
    {
     "data": {
      "text/plain": [
       "0.9357821089455273"
      ]
     },
     "execution_count": 101,
     "metadata": {},
     "output_type": "execute_result"
    }
   ],
   "source": [
    "# Let us calculate specificity\n",
    "TN / float(TN+FP)"
   ]
  },
  {
   "cell_type": "code",
   "execution_count": 103,
   "id": "a3a43c88-4415-4d0c-baa6-88db38044c52",
   "metadata": {},
   "outputs": [
    {
     "name": "stdout",
     "output_type": "stream",
     "text": [
      "0.06421789105447276\n"
     ]
    }
   ],
   "source": [
    "# Calculate false postive rate - predicting converted when customer does have not converted -- 1-Specificity\n",
    "print(FP/ float(TN+FP))"
   ]
  },
  {
   "cell_type": "code",
   "execution_count": 104,
   "id": "1d170841-c297-4f1a-b82f-6cc71cbf2bef",
   "metadata": {},
   "outputs": [
    {
     "name": "stdout",
     "output_type": "stream",
     "text": [
      "0.8779677113010447\n"
     ]
    }
   ],
   "source": [
    "# positive predictive value - Precision\n",
    "print (TP / float(TP+FP))"
   ]
  },
  {
   "cell_type": "code",
   "execution_count": 105,
   "id": "858a5f53-76b2-4ba0-af66-379c6ae3beb2",
   "metadata": {},
   "outputs": [
    {
     "name": "stdout",
     "output_type": "stream",
     "text": [
      "0.8585511233379184\n"
     ]
    }
   ],
   "source": [
    "# Negative predictive value - Precision\n",
    "print (TN / float(TN+ FN))"
   ]
  },
  {
   "cell_type": "markdown",
   "id": "75c4142a-c6e6-452e-a79d-e1742cb5dd01",
   "metadata": {},
   "source": [
    "## Plotting ROC Curve"
   ]
  },
  {
   "cell_type": "markdown",
   "id": "c19cf16a-1ee7-4d18-82be-c0437138fc5f",
   "metadata": {},
   "source": [
    "## An ROC curve demonstrates several things:\n",
    "\n",
    "- It shows the tradeoff between sensitivity and specificity (any increase in sensitivity will be accompanied by a decrease in specificity).\n",
    "- The closer the curve follows to the left-hand border and then the top border of the ROC space, the more accurate the test.\n",
    "- The closer the curve comes to the 45-degree diagonal of the ROC space, the less accurate the test."
   ]
  },
  {
   "cell_type": "code",
   "execution_count": 106,
   "id": "6942ec41-12ad-4727-bf24-ca941e7c6647",
   "metadata": {},
   "outputs": [],
   "source": [
    "def draw_roc( actual, probs ):\n",
    "    fpr, tpr, thresholds = roc_curve( actual, probs,\n",
    "                                              drop_intermediate = False )\n",
    "    auc_score = roc_auc_score( actual, probs )\n",
    "    plt.figure(figsize=(5, 5))\n",
    "    plt.plot( fpr, tpr, label='ROC curve (area = %0.2f)' % auc_score )\n",
    "    plt.plot([0, 1], [0, 1], 'k--')\n",
    "    plt.xlim([0.0, 1.0])\n",
    "    plt.ylim([0.0, 1.05])\n",
    "    plt.xlabel('False Positive Rate or [1 - True Negative Rate]')\n",
    "    plt.ylabel('True Positive Rate')\n",
    "    plt.title('Receiver operating characteristic example')\n",
    "    plt.legend(loc=\"lower right\")\n",
    "    plt.show()\n",
    "\n",
    "    return None"
   ]
  },
  {
   "cell_type": "code",
   "execution_count": 107,
   "id": "abace6ca-32e0-46ef-83e7-fa26116cf10b",
   "metadata": {},
   "outputs": [],
   "source": [
    "fpr, tpr, thresholds = roc_curve( y_train_pred_final.Converted_Ind, y_train_pred_final.Converted_Prob, drop_intermediate = False )"
   ]
  },
  {
   "cell_type": "code",
   "execution_count": 108,
   "id": "14568a5e-7ce7-41fb-a1bc-3e42f57dd9d8",
   "metadata": {},
   "outputs": [
    {
     "data": {
      "image/png": "[encoded data removed]",
      "text/plain": [
       "<Figure size 360x360 with 1 Axes>"
      ]
     },
     "metadata": {
      "needs_background": "light"
     },
     "output_type": "display_data"
    }
   ],
   "source": [
    "draw_roc(y_train_pred_final.Converted_Ind, y_train_pred_final.Converted_Prob)"
   ]
  },
  {
   "cell_type": "code",
   "execution_count": 109,
   "id": "5c79c688-2a8c-47aa-81f9-cc034c9bf632",
   "metadata": {},
   "outputs": [
    {
     "data": {
      "image/png": "[encoded data removed]",
      "text/plain": [
       "<Figure size 360x360 with 1 Axes>"
      ]
     },
     "metadata": {
      "needs_background": "light"
     },
     "output_type": "display_data"
    }
   ],
   "source": [
    "draw_roc(y_train_pred_final.Converted_Ind, y_train_pred_final.Converted_Prob)"
   ]
  },
  {
   "cell_type": "markdown",
   "id": "6a39dcc1-c797-4411-bbb2-ac83fc100b82",
   "metadata": {},
   "source": [
    "## Finding Optimal Cut-Off point"
   ]
  },
  {
   "cell_type": "markdown",
   "id": "27194df0-724d-4f66-8394-1f1ff1a27b02",
   "metadata": {},
   "source": [
    "### Optimal cutoff probability is that prob where we get balanced sensitivity and specificity"
   ]
  },
  {
   "cell_type": "code",
   "execution_count": 110,
   "id": "d96b3d13-85d5-467b-af1c-f32cf7c76b30",
   "metadata": {},
   "outputs": [
    {
     "data": {
      "text/html": [
       "<div>\n",
       "<style scoped>\n",
       "    .dataframe tbody tr th:only-of-type {\n",
       "        vertical-align: middle;\n",
       "    }\n",
       "\n",
       "    .dataframe tbody tr th {\n",
       "        vertical-align: top;\n",
       "    }\n",
       "\n",
       "    .dataframe thead th {\n",
       "        text-align: right;\n",
       "    }\n",
       "</style>\n",
       "<table border=\"1\" class=\"dataframe\">\n",
       "  <thead>\n",
       "    <tr style=\"text-align: right;\">\n",
       "      <th></th>\n",
       "      <th>Converted_Ind</th>\n",
       "      <th>Converted_Prob</th>\n",
       "      <th>Prospect_Id</th>\n",
       "      <th>Predicted</th>\n",
       "      <th>0.0</th>\n",
       "      <th>0.1</th>\n",
       "      <th>0.2</th>\n",
       "      <th>0.3</th>\n",
       "      <th>0.4</th>\n",
       "      <th>0.5</th>\n",
       "      <th>0.6</th>\n",
       "      <th>0.7</th>\n",
       "      <th>0.8</th>\n",
       "      <th>0.9</th>\n",
       "    </tr>\n",
       "  </thead>\n",
       "  <tbody>\n",
       "    <tr>\n",
       "      <th>0</th>\n",
       "      <td>0</td>\n",
       "      <td>0.196129</td>\n",
       "      <td>1871</td>\n",
       "      <td>0</td>\n",
       "      <td>1</td>\n",
       "      <td>1</td>\n",
       "      <td>0</td>\n",
       "      <td>0</td>\n",
       "      <td>0</td>\n",
       "      <td>0</td>\n",
       "      <td>0</td>\n",
       "      <td>0</td>\n",
       "      <td>0</td>\n",
       "      <td>0</td>\n",
       "    </tr>\n",
       "    <tr>\n",
       "      <th>1</th>\n",
       "      <td>0</td>\n",
       "      <td>0.144248</td>\n",
       "      <td>6795</td>\n",
       "      <td>0</td>\n",
       "      <td>1</td>\n",
       "      <td>1</td>\n",
       "      <td>0</td>\n",
       "      <td>0</td>\n",
       "      <td>0</td>\n",
       "      <td>0</td>\n",
       "      <td>0</td>\n",
       "      <td>0</td>\n",
       "      <td>0</td>\n",
       "      <td>0</td>\n",
       "    </tr>\n",
       "    <tr>\n",
       "      <th>2</th>\n",
       "      <td>0</td>\n",
       "      <td>0.229951</td>\n",
       "      <td>3516</td>\n",
       "      <td>0</td>\n",
       "      <td>1</td>\n",
       "      <td>1</td>\n",
       "      <td>1</td>\n",
       "      <td>0</td>\n",
       "      <td>0</td>\n",
       "      <td>0</td>\n",
       "      <td>0</td>\n",
       "      <td>0</td>\n",
       "      <td>0</td>\n",
       "      <td>0</td>\n",
       "    </tr>\n",
       "    <tr>\n",
       "      <th>3</th>\n",
       "      <td>0</td>\n",
       "      <td>0.652886</td>\n",
       "      <td>8105</td>\n",
       "      <td>1</td>\n",
       "      <td>1</td>\n",
       "      <td>1</td>\n",
       "      <td>1</td>\n",
       "      <td>1</td>\n",
       "      <td>1</td>\n",
       "      <td>1</td>\n",
       "      <td>1</td>\n",
       "      <td>0</td>\n",
       "      <td>0</td>\n",
       "      <td>0</td>\n",
       "    </tr>\n",
       "    <tr>\n",
       "      <th>4</th>\n",
       "      <td>0</td>\n",
       "      <td>0.131033</td>\n",
       "      <td>3934</td>\n",
       "      <td>0</td>\n",
       "      <td>1</td>\n",
       "      <td>1</td>\n",
       "      <td>0</td>\n",
       "      <td>0</td>\n",
       "      <td>0</td>\n",
       "      <td>0</td>\n",
       "      <td>0</td>\n",
       "      <td>0</td>\n",
       "      <td>0</td>\n",
       "      <td>0</td>\n",
       "    </tr>\n",
       "  </tbody>\n",
       "</table>\n",
       "</div>"
      ],
      "text/plain": [
       "   Converted_Ind  Converted_Prob  Prospect_Id  Predicted  0.0  0.1  0.2  0.3  \\\n",
       "0              0        0.196129         1871          0    1    1    0    0   \n",
       "1              0        0.144248         6795          0    1    1    0    0   \n",
       "2              0        0.229951         3516          0    1    1    1    0   \n",
       "3              0        0.652886         8105          1    1    1    1    1   \n",
       "4              0        0.131033         3934          0    1    1    0    0   \n",
       "\n",
       "   0.4  0.5  0.6  0.7  0.8  0.9  \n",
       "0    0    0    0    0    0    0  \n",
       "1    0    0    0    0    0    0  \n",
       "2    0    0    0    0    0    0  \n",
       "3    1    1    1    0    0    0  \n",
       "4    0    0    0    0    0    0  "
      ]
     },
     "execution_count": 110,
     "metadata": {},
     "output_type": "execute_result"
    }
   ],
   "source": [
    "# Let's create columns with different probability cutoffs \n",
    "numbers = [float(x)/10 for x in range(10)]\n",
    "for i in numbers:\n",
    "    y_train_pred_final[i]= y_train_pred_final.Converted_Prob.map(lambda x: 1 if x > i else 0)\n",
    "y_train_pred_final.head()"
   ]
  },
  {
   "cell_type": "code",
   "execution_count": 111,
   "id": "02352f15-7e3a-462d-9d8a-b561c12778a0",
   "metadata": {},
   "outputs": [
    {
     "name": "stdout",
     "output_type": "stream",
     "text": [
      "     prob  accuracy     sensi     speci\n",
      "0.0   0.0  0.381262  1.000000  0.000000\n",
      "0.1   0.1  0.718306  0.966748  0.565217\n",
      "0.2   0.2  0.835807  0.894566  0.799600\n",
      "0.3   0.3  0.864255  0.848337  0.874063\n",
      "0.4   0.4  0.864564  0.785888  0.913043\n",
      "0.5   0.5  0.864873  0.749797  0.935782\n",
      "0.6   0.6  0.861163  0.706407  0.956522\n",
      "0.7   0.7  0.854515  0.667883  0.969515\n",
      "0.8   0.8  0.845083  0.624088  0.981259\n",
      "0.9   0.9  0.834106  0.577859  0.992004\n"
     ]
    }
   ],
   "source": [
    "# Now let's calculate accuracy sensitivity and specificity for various probability cutoffs.\n",
    "cutoff_df = pd.DataFrame( columns = ['prob','accuracy','sensi','speci'])\n",
    "\n",
    "num = [0.0,0.1,0.2,0.3,0.4,0.5,0.6,0.7,0.8,0.9]\n",
    "for i in num:\n",
    "    cm1 = confusion_matrix(y_train_pred_final.Converted_Ind, y_train_pred_final[i] )\n",
    "    total1=sum(sum(cm1))\n",
    "    accuracy = (cm1[0,0]+cm1[1,1])/total1\n",
    "    speci = cm1[0,0]/(cm1[0,0]+cm1[0,1])\n",
    "    sensi = cm1[1,1]/(cm1[1,0]+cm1[1,1])\n",
    "    cutoff_df.loc[i] =[ i ,accuracy,sensi,speci]\n",
    "print(cutoff_df)"
   ]
  },
  {
   "cell_type": "code",
   "execution_count": 112,
   "id": "18cb57c6-4bd9-45ab-b325-02df414f2b1d",
   "metadata": {},
   "outputs": [
    {
     "data": {
      "image/png": "[encoded data removed]",
      "text/plain": [
       "<Figure size 432x288 with 1 Axes>"
      ]
     },
     "metadata": {},
     "output_type": "display_data"
    }
   ],
   "source": [
    "# Let's plot accuracy sensitivity and specificity for various probabilities.\n",
    "sns.set_style(\"whitegrid\")\n",
    "sns.set_context(\"paper\")\n",
    "cutoff_df.plot.line(x='prob', y=['accuracy','sensi','speci'])\n",
    "plt.xticks(np.arange(0,1,step=0.05),size=8)\n",
    "plt.yticks(size=12)\n",
    "plt.show()"
   ]
  },
  {
   "cell_type": "markdown",
   "id": "a4f872b4-ec97-4078-a8d6-a26b680fa13d",
   "metadata": {},
   "source": [
    "### From the curve above, 0.28 is the optimum point to take it as a cutoff probability."
   ]
  },
  {
   "cell_type": "code",
   "execution_count": 113,
   "id": "61e72737-3cc2-4806-a11f-5544c0d93775",
   "metadata": {},
   "outputs": [
    {
     "data": {
      "text/html": [
       "<div>\n",
       "<style scoped>\n",
       "    .dataframe tbody tr th:only-of-type {\n",
       "        vertical-align: middle;\n",
       "    }\n",
       "\n",
       "    .dataframe tbody tr th {\n",
       "        vertical-align: top;\n",
       "    }\n",
       "\n",
       "    .dataframe thead th {\n",
       "        text-align: right;\n",
       "    }\n",
       "</style>\n",
       "<table border=\"1\" class=\"dataframe\">\n",
       "  <thead>\n",
       "    <tr style=\"text-align: right;\">\n",
       "      <th></th>\n",
       "      <th>Converted_Ind</th>\n",
       "      <th>Converted_Prob</th>\n",
       "      <th>Prospect_Id</th>\n",
       "      <th>Predicted</th>\n",
       "      <th>0.0</th>\n",
       "      <th>0.1</th>\n",
       "      <th>0.2</th>\n",
       "      <th>0.3</th>\n",
       "      <th>0.4</th>\n",
       "      <th>0.5</th>\n",
       "      <th>0.6</th>\n",
       "      <th>0.7</th>\n",
       "      <th>0.8</th>\n",
       "      <th>0.9</th>\n",
       "      <th>final_predicted</th>\n",
       "    </tr>\n",
       "  </thead>\n",
       "  <tbody>\n",
       "    <tr>\n",
       "      <th>0</th>\n",
       "      <td>0</td>\n",
       "      <td>0.196129</td>\n",
       "      <td>1871</td>\n",
       "      <td>0</td>\n",
       "      <td>1</td>\n",
       "      <td>1</td>\n",
       "      <td>0</td>\n",
       "      <td>0</td>\n",
       "      <td>0</td>\n",
       "      <td>0</td>\n",
       "      <td>0</td>\n",
       "      <td>0</td>\n",
       "      <td>0</td>\n",
       "      <td>0</td>\n",
       "      <td>0</td>\n",
       "    </tr>\n",
       "    <tr>\n",
       "      <th>1</th>\n",
       "      <td>0</td>\n",
       "      <td>0.144248</td>\n",
       "      <td>6795</td>\n",
       "      <td>0</td>\n",
       "      <td>1</td>\n",
       "      <td>1</td>\n",
       "      <td>0</td>\n",
       "      <td>0</td>\n",
       "      <td>0</td>\n",
       "      <td>0</td>\n",
       "      <td>0</td>\n",
       "      <td>0</td>\n",
       "      <td>0</td>\n",
       "      <td>0</td>\n",
       "      <td>0</td>\n",
       "    </tr>\n",
       "    <tr>\n",
       "      <th>2</th>\n",
       "      <td>0</td>\n",
       "      <td>0.229951</td>\n",
       "      <td>3516</td>\n",
       "      <td>0</td>\n",
       "      <td>1</td>\n",
       "      <td>1</td>\n",
       "      <td>1</td>\n",
       "      <td>0</td>\n",
       "      <td>0</td>\n",
       "      <td>0</td>\n",
       "      <td>0</td>\n",
       "      <td>0</td>\n",
       "      <td>0</td>\n",
       "      <td>0</td>\n",
       "      <td>0</td>\n",
       "    </tr>\n",
       "    <tr>\n",
       "      <th>3</th>\n",
       "      <td>0</td>\n",
       "      <td>0.652886</td>\n",
       "      <td>8105</td>\n",
       "      <td>1</td>\n",
       "      <td>1</td>\n",
       "      <td>1</td>\n",
       "      <td>1</td>\n",
       "      <td>1</td>\n",
       "      <td>1</td>\n",
       "      <td>1</td>\n",
       "      <td>1</td>\n",
       "      <td>0</td>\n",
       "      <td>0</td>\n",
       "      <td>0</td>\n",
       "      <td>1</td>\n",
       "    </tr>\n",
       "    <tr>\n",
       "      <th>4</th>\n",
       "      <td>0</td>\n",
       "      <td>0.131033</td>\n",
       "      <td>3934</td>\n",
       "      <td>0</td>\n",
       "      <td>1</td>\n",
       "      <td>1</td>\n",
       "      <td>0</td>\n",
       "      <td>0</td>\n",
       "      <td>0</td>\n",
       "      <td>0</td>\n",
       "      <td>0</td>\n",
       "      <td>0</td>\n",
       "      <td>0</td>\n",
       "      <td>0</td>\n",
       "      <td>0</td>\n",
       "    </tr>\n",
       "  </tbody>\n",
       "</table>\n",
       "</div>"
      ],
      "text/plain": [
       "   Converted_Ind  Converted_Prob  Prospect_Id  Predicted  0.0  0.1  0.2  0.3  \\\n",
       "0              0        0.196129         1871          0    1    1    0    0   \n",
       "1              0        0.144248         6795          0    1    1    0    0   \n",
       "2              0        0.229951         3516          0    1    1    1    0   \n",
       "3              0        0.652886         8105          1    1    1    1    1   \n",
       "4              0        0.131033         3934          0    1    1    0    0   \n",
       "\n",
       "   0.4  0.5  0.6  0.7  0.8  0.9  final_predicted  \n",
       "0    0    0    0    0    0    0                0  \n",
       "1    0    0    0    0    0    0                0  \n",
       "2    0    0    0    0    0    0                0  \n",
       "3    1    1    1    0    0    0                1  \n",
       "4    0    0    0    0    0    0                0  "
      ]
     },
     "execution_count": 113,
     "metadata": {},
     "output_type": "execute_result"
    }
   ],
   "source": [
    "y_train_pred_final['final_predicted'] = y_train_pred_final.Converted_Prob.map( lambda x: 1 if x > 0.28 else 0)\n",
    "y_train_pred_final.head()"
   ]
  },
  {
   "cell_type": "code",
   "execution_count": 114,
   "id": "d727abc2-8a49-4db9-9e14-23179e7c8818",
   "metadata": {},
   "outputs": [
    {
     "data": {
      "text/plain": [
       "0.8625541125541125"
      ]
     },
     "execution_count": 114,
     "metadata": {},
     "output_type": "execute_result"
    }
   ],
   "source": [
    "# Let's check the overall accuracy.\n",
    "accuracy_score(y_train_pred_final.Converted_Ind, y_train_pred_final.final_predicted)"
   ]
  },
  {
   "cell_type": "code",
   "execution_count": 115,
   "id": "abebad36-77cd-426c-88fe-0108f3a41215",
   "metadata": {},
   "outputs": [
    {
     "data": {
      "text/plain": [
       "array([[3460,  542],\n",
       "       [ 347, 2119]], dtype=int64)"
      ]
     },
     "execution_count": 115,
     "metadata": {},
     "output_type": "execute_result"
    }
   ],
   "source": [
    "confusion2 = confusion_matrix(y_train_pred_final.Converted_Ind, y_train_pred_final.final_predicted )\n",
    "confusion2"
   ]
  },
  {
   "cell_type": "code",
   "execution_count": 116,
   "id": "577c5119-4770-4690-b758-d2d966dff73f",
   "metadata": {},
   "outputs": [],
   "source": [
    "TP = confusion2[1,1] # true positive \n",
    "TN = confusion2[0,0] # true negatives\n",
    "FP = confusion2[0,1] # false positives\n",
    "FN = confusion2[1,0] # false negatives"
   ]
  },
  {
   "cell_type": "code",
   "execution_count": 117,
   "id": "e49a4013-d324-4c4c-b7f0-a5b708bb7f35",
   "metadata": {},
   "outputs": [
    {
     "data": {
      "text/plain": [
       "0.8592862935928629"
      ]
     },
     "execution_count": 117,
     "metadata": {},
     "output_type": "execute_result"
    }
   ],
   "source": [
    "# Let's see the sensitivity of our logistic regression model\n",
    "TP / float(TP+FN)"
   ]
  },
  {
   "cell_type": "code",
   "execution_count": 118,
   "id": "5607176c-4d8f-4c8d-97b1-011d802cfbbc",
   "metadata": {},
   "outputs": [
    {
     "data": {
      "text/plain": [
       "0.8645677161419291"
      ]
     },
     "execution_count": 118,
     "metadata": {},
     "output_type": "execute_result"
    }
   ],
   "source": [
    "# Let us calculate specificity\n",
    "TN / float(TN+FP)"
   ]
  },
  {
   "cell_type": "code",
   "execution_count": 119,
   "id": "15312b94-c9f2-4a52-86d8-8d9d08509b56",
   "metadata": {},
   "outputs": [
    {
     "name": "stdout",
     "output_type": "stream",
     "text": [
      "0.13543228385807096\n"
     ]
    }
   ],
   "source": [
    "# Calculate false postive rate - predicting churn when customer does not have churned\n",
    "print(FP/ float(TN+FP))"
   ]
  },
  {
   "cell_type": "code",
   "execution_count": 120,
   "id": "4c2f7177-aa13-410e-a717-83c55b2fc382",
   "metadata": {},
   "outputs": [
    {
     "name": "stdout",
     "output_type": "stream",
     "text": [
      "0.7963171739947388\n"
     ]
    }
   ],
   "source": [
    "# Positive predictive value \n",
    "print (TP / float(TP+FP))"
   ]
  },
  {
   "cell_type": "code",
   "execution_count": 121,
   "id": "9f615689-47e7-499c-bd56-b67540fda6a3",
   "metadata": {},
   "outputs": [
    {
     "name": "stdout",
     "output_type": "stream",
     "text": [
      "0.9088521145258734\n"
     ]
    }
   ],
   "source": [
    "# Negative predictive value\n",
    "print (TN / float(TN+ FN))"
   ]
  },
  {
   "cell_type": "markdown",
   "id": "149e04da-61fd-4f63-b6f6-bee43511931f",
   "metadata": {},
   "source": [
    "## Precision and Recall"
   ]
  },
  {
   "cell_type": "code",
   "execution_count": 122,
   "id": "f813c0c4-f543-4df9-8aae-fae6d0262d22",
   "metadata": {},
   "outputs": [
    {
     "data": {
      "text/plain": [
       "0.7963171739947388"
      ]
     },
     "execution_count": 122,
     "metadata": {},
     "output_type": "execute_result"
    }
   ],
   "source": [
    "## Precision - TP/TP+FP\n",
    "confusion2[1,1]/(confusion2[0,1]+confusion2[1,1])"
   ]
  },
  {
   "cell_type": "code",
   "execution_count": 123,
   "id": "d5e54036-6e0f-4bdc-aeb9-2a61083a495b",
   "metadata": {},
   "outputs": [
    {
     "data": {
      "text/plain": [
       "0.8592862935928629"
      ]
     },
     "execution_count": 123,
     "metadata": {},
     "output_type": "execute_result"
    }
   ],
   "source": [
    "## Recall - TP/TP+FN\n",
    "confusion2[1,1]/(confusion2[1,0]+confusion2[1,1])"
   ]
  },
  {
   "cell_type": "markdown",
   "id": "761d52bb-3578-403b-b57a-c84b54da8a3e",
   "metadata": {},
   "source": [
    "### Using Sklearn utility for Precision and recall"
   ]
  },
  {
   "cell_type": "code",
   "execution_count": 124,
   "id": "f565e050-3fd9-4b99-8729-6c2657303d27",
   "metadata": {},
   "outputs": [
    {
     "data": {
      "text/plain": [
       "0.7963171739947388"
      ]
     },
     "execution_count": 124,
     "metadata": {},
     "output_type": "execute_result"
    }
   ],
   "source": [
    "precision_score(y_train_pred_final.Converted_Ind, y_train_pred_final.final_predicted)"
   ]
  },
  {
   "cell_type": "code",
   "execution_count": 125,
   "id": "8f4f3867-7759-4a4e-9216-0b30c9625e61",
   "metadata": {},
   "outputs": [
    {
     "data": {
      "text/plain": [
       "0.8592862935928629"
      ]
     },
     "execution_count": 125,
     "metadata": {},
     "output_type": "execute_result"
    }
   ],
   "source": [
    "recall_score(y_train_pred_final.Converted_Ind, y_train_pred_final.final_predicted)"
   ]
  },
  {
   "cell_type": "markdown",
   "id": "7ddb015e-8965-470d-bf04-93ae18896760",
   "metadata": {},
   "source": [
    "### Precision and Recall Tradeoff\n",
    "For our Business Problem, The appropriate Metrics to be use will be Recall and Precision.\n",
    "- Because this will help us to identify the predicted CONVERTED is actual CONVERTED and\n",
    "- Probability that an actual CONVERTED case is predicted correctly.\n",
    "So we will use the Precision-Recall trade off curve to identify the most optimised threshold."
   ]
  },
  {
   "cell_type": "code",
   "execution_count": 126,
   "id": "fa32af54-927b-4284-a78f-9e7babb43e50",
   "metadata": {},
   "outputs": [
    {
     "data": {
      "text/plain": [
       "(0       0\n",
       " 1       0\n",
       " 2       0\n",
       " 3       0\n",
       " 4       0\n",
       "        ..\n",
       " 6463    1\n",
       " 6464    1\n",
       " 6465    1\n",
       " 6466    0\n",
       " 6467    0\n",
       " Name: Converted_Ind, Length: 6468, dtype: int64,\n",
       " 0       0\n",
       " 1       0\n",
       " 2       0\n",
       " 3       1\n",
       " 4       0\n",
       "        ..\n",
       " 6463    1\n",
       " 6464    1\n",
       " 6465    0\n",
       " 6466    0\n",
       " 6467    0\n",
       " Name: Predicted, Length: 6468, dtype: int64)"
      ]
     },
     "execution_count": 126,
     "metadata": {},
     "output_type": "execute_result"
    }
   ],
   "source": [
    "y_train_pred_final.Converted_Ind, y_train_pred_final.Predicted"
   ]
  },
  {
   "cell_type": "code",
   "execution_count": 127,
   "id": "7a8dfd7f-f7f4-4a8c-9344-1e440d5c7c0d",
   "metadata": {},
   "outputs": [],
   "source": [
    "p, r, thresholds = precision_recall_curve(y_train_pred_final.Converted_Ind, y_train_pred_final.Converted_Prob)"
   ]
  },
  {
   "cell_type": "code",
   "execution_count": 128,
   "id": "ae65d259-9773-4699-a172-e2416b9b59e8",
   "metadata": {},
   "outputs": [
    {
     "data": {
      "image/png": "[encoded data removed]",
      "text/plain": [
       "<Figure size 576x360 with 1 Axes>"
      ]
     },
     "metadata": {},
     "output_type": "display_data"
    }
   ],
   "source": [
    "# Plotting the precision recall curve\n",
    "\n",
    "plt.figure(figsize=(8,5))\n",
    "sns.set_style(\"whitegrid\")\n",
    "sns.set_context(\"paper\")\n",
    "plt.plot(thresholds, p[:-1], \"g-\")\n",
    "plt.plot(thresholds, r[:-1], \"r-\")\n",
    "plt.xticks(np.arange(0,1,step=0.05),size=8)\n",
    "plt.yticks(size=12)\n",
    "plt.show()"
   ]
  },
  {
   "cell_type": "markdown",
   "id": "3d0f6395-9b7f-420c-920d-b15a184c67bb",
   "metadata": {},
   "source": [
    "### The precision and Recall seem to have trade-off at .33, hence .33 will be used as threshold on test data"
   ]
  },
  {
   "cell_type": "code",
   "execution_count": 129,
   "id": "b4aaa860-4713-4a22-9ece-faeb5dfc3734",
   "metadata": {},
   "outputs": [
    {
     "data": {
      "text/html": [
       "<div>\n",
       "<style scoped>\n",
       "    .dataframe tbody tr th:only-of-type {\n",
       "        vertical-align: middle;\n",
       "    }\n",
       "\n",
       "    .dataframe tbody tr th {\n",
       "        vertical-align: top;\n",
       "    }\n",
       "\n",
       "    .dataframe thead th {\n",
       "        text-align: right;\n",
       "    }\n",
       "</style>\n",
       "<table border=\"1\" class=\"dataframe\">\n",
       "  <thead>\n",
       "    <tr style=\"text-align: right;\">\n",
       "      <th></th>\n",
       "      <th>Converted_Ind</th>\n",
       "      <th>Converted_Prob</th>\n",
       "      <th>Prospect_Id</th>\n",
       "      <th>Predicted</th>\n",
       "      <th>0.0</th>\n",
       "      <th>0.1</th>\n",
       "      <th>0.2</th>\n",
       "      <th>0.3</th>\n",
       "      <th>0.4</th>\n",
       "      <th>0.5</th>\n",
       "      <th>0.6</th>\n",
       "      <th>0.7</th>\n",
       "      <th>0.8</th>\n",
       "      <th>0.9</th>\n",
       "      <th>final_predicted</th>\n",
       "    </tr>\n",
       "  </thead>\n",
       "  <tbody>\n",
       "    <tr>\n",
       "      <th>0</th>\n",
       "      <td>0</td>\n",
       "      <td>0.196129</td>\n",
       "      <td>1871</td>\n",
       "      <td>0</td>\n",
       "      <td>1</td>\n",
       "      <td>1</td>\n",
       "      <td>0</td>\n",
       "      <td>0</td>\n",
       "      <td>0</td>\n",
       "      <td>0</td>\n",
       "      <td>0</td>\n",
       "      <td>0</td>\n",
       "      <td>0</td>\n",
       "      <td>0</td>\n",
       "      <td>0</td>\n",
       "    </tr>\n",
       "    <tr>\n",
       "      <th>1</th>\n",
       "      <td>0</td>\n",
       "      <td>0.144248</td>\n",
       "      <td>6795</td>\n",
       "      <td>0</td>\n",
       "      <td>1</td>\n",
       "      <td>1</td>\n",
       "      <td>0</td>\n",
       "      <td>0</td>\n",
       "      <td>0</td>\n",
       "      <td>0</td>\n",
       "      <td>0</td>\n",
       "      <td>0</td>\n",
       "      <td>0</td>\n",
       "      <td>0</td>\n",
       "      <td>0</td>\n",
       "    </tr>\n",
       "    <tr>\n",
       "      <th>2</th>\n",
       "      <td>0</td>\n",
       "      <td>0.229951</td>\n",
       "      <td>3516</td>\n",
       "      <td>0</td>\n",
       "      <td>1</td>\n",
       "      <td>1</td>\n",
       "      <td>1</td>\n",
       "      <td>0</td>\n",
       "      <td>0</td>\n",
       "      <td>0</td>\n",
       "      <td>0</td>\n",
       "      <td>0</td>\n",
       "      <td>0</td>\n",
       "      <td>0</td>\n",
       "      <td>0</td>\n",
       "    </tr>\n",
       "    <tr>\n",
       "      <th>3</th>\n",
       "      <td>0</td>\n",
       "      <td>0.652886</td>\n",
       "      <td>8105</td>\n",
       "      <td>1</td>\n",
       "      <td>1</td>\n",
       "      <td>1</td>\n",
       "      <td>1</td>\n",
       "      <td>1</td>\n",
       "      <td>1</td>\n",
       "      <td>1</td>\n",
       "      <td>1</td>\n",
       "      <td>0</td>\n",
       "      <td>0</td>\n",
       "      <td>0</td>\n",
       "      <td>1</td>\n",
       "    </tr>\n",
       "    <tr>\n",
       "      <th>4</th>\n",
       "      <td>0</td>\n",
       "      <td>0.131033</td>\n",
       "      <td>3934</td>\n",
       "      <td>0</td>\n",
       "      <td>1</td>\n",
       "      <td>1</td>\n",
       "      <td>0</td>\n",
       "      <td>0</td>\n",
       "      <td>0</td>\n",
       "      <td>0</td>\n",
       "      <td>0</td>\n",
       "      <td>0</td>\n",
       "      <td>0</td>\n",
       "      <td>0</td>\n",
       "      <td>0</td>\n",
       "    </tr>\n",
       "  </tbody>\n",
       "</table>\n",
       "</div>"
      ],
      "text/plain": [
       "   Converted_Ind  Converted_Prob  Prospect_Id  Predicted  0.0  0.1  0.2  0.3  \\\n",
       "0              0        0.196129         1871          0    1    1    0    0   \n",
       "1              0        0.144248         6795          0    1    1    0    0   \n",
       "2              0        0.229951         3516          0    1    1    1    0   \n",
       "3              0        0.652886         8105          1    1    1    1    1   \n",
       "4              0        0.131033         3934          0    1    1    0    0   \n",
       "\n",
       "   0.4  0.5  0.6  0.7  0.8  0.9  final_predicted  \n",
       "0    0    0    0    0    0    0                0  \n",
       "1    0    0    0    0    0    0                0  \n",
       "2    0    0    0    0    0    0                0  \n",
       "3    1    1    1    0    0    0                1  \n",
       "4    0    0    0    0    0    0                0  "
      ]
     },
     "execution_count": 129,
     "metadata": {},
     "output_type": "execute_result"
    }
   ],
   "source": [
    "y_train_pred_final['final_predicted'] = y_train_pred_final.Converted_Prob.map( lambda x: 1 if x > 0.33 else 0)\n",
    "\n",
    "y_train_pred_final.head()"
   ]
  },
  {
   "cell_type": "code",
   "execution_count": 130,
   "id": "cb67638a-d0c6-424e-97fa-684eb613877b",
   "metadata": {},
   "outputs": [
    {
     "data": {
      "text/plain": [
       "0.8647186147186147"
      ]
     },
     "execution_count": 130,
     "metadata": {},
     "output_type": "execute_result"
    }
   ],
   "source": [
    "# Let's check the overall accuracy.\n",
    "accuracy_score(y_train_pred_final.Converted_Ind, y_train_pred_final.final_predicted)"
   ]
  },
  {
   "cell_type": "code",
   "execution_count": 131,
   "id": "2db79fb2-f567-45fc-96e1-747f0c2103b4",
   "metadata": {},
   "outputs": [
    {
     "data": {
      "text/plain": [
       "array([[3532,  470],\n",
       "       [ 405, 2061]], dtype=int64)"
      ]
     },
     "execution_count": 131,
     "metadata": {},
     "output_type": "execute_result"
    }
   ],
   "source": [
    "confusion3 = confusion_matrix(y_train_pred_final.Converted_Ind, y_train_pred_final.final_predicted )\n",
    "confusion3"
   ]
  },
  {
   "cell_type": "code",
   "execution_count": 132,
   "id": "a7711f29-2d7b-435c-aadd-2db105ecb7d6",
   "metadata": {},
   "outputs": [],
   "source": [
    "TP = confusion3[1,1] # true positive \n",
    "TN = confusion3[0,0] # true negatives\n",
    "FP = confusion3[0,1] # false positives\n",
    "FN = confusion3[1,0] # false negatives"
   ]
  },
  {
   "cell_type": "code",
   "execution_count": 133,
   "id": "4b5e1b05-8637-437a-b762-1a389739e723",
   "metadata": {},
   "outputs": [
    {
     "data": {
      "text/plain": [
       "0.8357664233576643"
      ]
     },
     "execution_count": 133,
     "metadata": {},
     "output_type": "execute_result"
    }
   ],
   "source": [
    "# Let's see the sensitivity of our logistic regression model\n",
    "TP / float(TP+FN)"
   ]
  },
  {
   "cell_type": "code",
   "execution_count": 134,
   "id": "89d27948-4318-4f10-937c-41a47f1d220f",
   "metadata": {},
   "outputs": [
    {
     "data": {
      "text/plain": [
       "0.8825587206396801"
      ]
     },
     "execution_count": 134,
     "metadata": {},
     "output_type": "execute_result"
    }
   ],
   "source": [
    "# Let us calculate specificity\n",
    "TN / float(TN+FP)"
   ]
  },
  {
   "cell_type": "code",
   "execution_count": 135,
   "id": "e4489c7b-b559-4349-95dd-7aa3e4799f0d",
   "metadata": {},
   "outputs": [
    {
     "data": {
      "text/plain": [
       "0.8825587206396801"
      ]
     },
     "execution_count": 135,
     "metadata": {},
     "output_type": "execute_result"
    }
   ],
   "source": [
    "# Let us calculate specificity\n",
    "TN / float(TN+FP)"
   ]
  },
  {
   "cell_type": "code",
   "execution_count": 136,
   "id": "d9deffea-9820-43e6-8f98-8b5d5a58e3f2",
   "metadata": {},
   "outputs": [
    {
     "name": "stdout",
     "output_type": "stream",
     "text": [
      "0.11744127936031984\n"
     ]
    }
   ],
   "source": [
    "# Calculate false postive rate - predicting converted when customer have not\n",
    "print(FP/ float(TN+FP))"
   ]
  },
  {
   "cell_type": "code",
   "execution_count": 137,
   "id": "b983c6d2-e169-4495-a748-a9d7ff239eff",
   "metadata": {},
   "outputs": [
    {
     "name": "stdout",
     "output_type": "stream",
     "text": [
      "0.8143026471750296\n"
     ]
    }
   ],
   "source": [
    "# Positive predictive value \n",
    "print (TP / float(TP+FP))"
   ]
  },
  {
   "cell_type": "code",
   "execution_count": 138,
   "id": "06dd268e-1775-4ef9-9fc7-ada56378fb2a",
   "metadata": {},
   "outputs": [
    {
     "name": "stdout",
     "output_type": "stream",
     "text": [
      "0.8971297942595885\n"
     ]
    }
   ],
   "source": [
    "# Negative predictive value\n",
    "print (TN / float(TN+ FN))"
   ]
  },
  {
   "cell_type": "markdown",
   "id": "5fbc9f51-c406-47dd-9689-cbb82cdcf4fa",
   "metadata": {},
   "source": [
    "## Precision and Recall"
   ]
  },
  {
   "cell_type": "code",
   "execution_count": 139,
   "id": "7624dc10-4343-4eb1-9c04-6ba214221aae",
   "metadata": {},
   "outputs": [
    {
     "data": {
      "text/plain": [
       "0.8143026471750296"
      ]
     },
     "execution_count": 139,
     "metadata": {},
     "output_type": "execute_result"
    }
   ],
   "source": [
    "precision_score(y_train_pred_final.Converted_Ind, y_train_pred_final.final_predicted)"
   ]
  },
  {
   "cell_type": "code",
   "execution_count": 140,
   "id": "005705ce-6231-4b42-b861-d1651b2a3383",
   "metadata": {},
   "outputs": [
    {
     "data": {
      "text/plain": [
       "0.8357664233576643"
      ]
     },
     "execution_count": 140,
     "metadata": {},
     "output_type": "execute_result"
    }
   ],
   "source": [
    "recall_score(y_train_pred_final.Converted_Ind, y_train_pred_final.final_predicted)"
   ]
  },
  {
   "cell_type": "markdown",
   "id": "06d5c5a9-b269-46f1-bd3f-380642824bb9",
   "metadata": {},
   "source": [
    "## Making Prediction on Test data"
   ]
  },
  {
   "cell_type": "code",
   "execution_count": 141,
   "id": "68583a6b-82ad-41b0-92fe-a503095f7d46",
   "metadata": {},
   "outputs": [],
   "source": [
    "## Scaling\n",
    "to_scale=['TotalVisits','Total Time Spent on Website']\n",
    "X_test[to_scale]=scaler.transform(X_test[to_scale])"
   ]
  },
  {
   "cell_type": "code",
   "execution_count": 142,
   "id": "dacc04dd-f446-4bb0-8695-7acdfd4acc13",
   "metadata": {},
   "outputs": [
    {
     "name": "stdout",
     "output_type": "stream",
     "text": [
      "<class 'pandas.core.frame.DataFrame'>\n",
      "Int64Index: 2772 entries, 4269 to 2960\n",
      "Data columns (total 12 columns):\n",
      " #   Column                                                Non-Null Count  Dtype  \n",
      "---  ------                                                --------------  -----  \n",
      " 0   const                                                 2772 non-null   float64\n",
      " 1   Total Time Spent on Website                           2772 non-null   float64\n",
      " 2   Lead Origin_Lead Add Form                             2772 non-null   uint8  \n",
      " 3   Lead Source_Olark Chat                                2772 non-null   uint8  \n",
      " 4   Lead Source_Welingak Website                          2772 non-null   uint8  \n",
      " 5   Last Activity_Email Bounced                           2772 non-null   uint8  \n",
      " 6   Last Activity_Email Opened                            2772 non-null   uint8  \n",
      " 7   Last Activity_SMS Sent                                2772 non-null   uint8  \n",
      " 8   What is your current occupation_Other                 2772 non-null   uint8  \n",
      " 9   What is your current occupation_Working Professional  2772 non-null   uint8  \n",
      " 10  Tags_Will revert after reading the email              2772 non-null   uint8  \n",
      " 11  Last Notable Activity_Modified                        2772 non-null   uint8  \n",
      "dtypes: float64(2), uint8(10)\n",
      "memory usage: 92.0 KB\n"
     ]
    }
   ],
   "source": [
    "X_test = X_test[col]\n",
    "X_test_sm = sm.add_constant(X_test)\n",
    "X_test_sm.info()"
   ]
  },
  {
   "cell_type": "code",
   "execution_count": 143,
   "id": "3443835e-f37a-4715-aea6-421226c726f2",
   "metadata": {},
   "outputs": [
    {
     "data": {
      "text/plain": [
       "4269    0.482221\n",
       "2376    0.997479\n",
       "7766    0.934505\n",
       "9199    0.077716\n",
       "4359    0.993206\n",
       "9186    0.975624\n",
       "1631    0.969473\n",
       "8963    0.884720\n",
       "8007    0.032246\n",
       "5324    0.944160\n",
       "dtype: float64"
      ]
     },
     "execution_count": 143,
     "metadata": {},
     "output_type": "execute_result"
    }
   ],
   "source": [
    "# Predicting the final test model \n",
    "y_test_pred = log_model_10.predict(X_test_sm)\n",
    "y_test_pred[:10]"
   ]
  },
  {
   "cell_type": "code",
   "execution_count": 144,
   "id": "52c1c076-d51b-4a3d-921a-5e3e1014d92c",
   "metadata": {},
   "outputs": [
    {
     "data": {
      "text/html": [
       "<div>\n",
       "<style scoped>\n",
       "    .dataframe tbody tr th:only-of-type {\n",
       "        vertical-align: middle;\n",
       "    }\n",
       "\n",
       "    .dataframe tbody tr th {\n",
       "        vertical-align: top;\n",
       "    }\n",
       "\n",
       "    .dataframe thead th {\n",
       "        text-align: right;\n",
       "    }\n",
       "</style>\n",
       "<table border=\"1\" class=\"dataframe\">\n",
       "  <thead>\n",
       "    <tr style=\"text-align: right;\">\n",
       "      <th></th>\n",
       "      <th>0</th>\n",
       "    </tr>\n",
       "  </thead>\n",
       "  <tbody>\n",
       "    <tr>\n",
       "      <th>4269</th>\n",
       "      <td>0.482221</td>\n",
       "    </tr>\n",
       "    <tr>\n",
       "      <th>2376</th>\n",
       "      <td>0.997479</td>\n",
       "    </tr>\n",
       "    <tr>\n",
       "      <th>7766</th>\n",
       "      <td>0.934505</td>\n",
       "    </tr>\n",
       "    <tr>\n",
       "      <th>9199</th>\n",
       "      <td>0.077716</td>\n",
       "    </tr>\n",
       "    <tr>\n",
       "      <th>4359</th>\n",
       "      <td>0.993206</td>\n",
       "    </tr>\n",
       "  </tbody>\n",
       "</table>\n",
       "</div>"
      ],
      "text/plain": [
       "             0\n",
       "4269  0.482221\n",
       "2376  0.997479\n",
       "7766  0.934505\n",
       "9199  0.077716\n",
       "4359  0.993206"
      ]
     },
     "execution_count": 144,
     "metadata": {},
     "output_type": "execute_result"
    }
   ],
   "source": [
    "# Converting y_pred to a dataframe which is an array\n",
    "y_pred_1 = pd.DataFrame(y_test_pred)\n",
    "y_pred_1.head()"
   ]
  },
  {
   "cell_type": "code",
   "execution_count": 145,
   "id": "e3ebceb7-6266-409f-b315-ab8420da14eb",
   "metadata": {},
   "outputs": [
    {
     "data": {
      "text/html": [
       "<div>\n",
       "<style scoped>\n",
       "    .dataframe tbody tr th:only-of-type {\n",
       "        vertical-align: middle;\n",
       "    }\n",
       "\n",
       "    .dataframe tbody tr th {\n",
       "        vertical-align: top;\n",
       "    }\n",
       "\n",
       "    .dataframe thead th {\n",
       "        text-align: right;\n",
       "    }\n",
       "</style>\n",
       "<table border=\"1\" class=\"dataframe\">\n",
       "  <thead>\n",
       "    <tr style=\"text-align: right;\">\n",
       "      <th></th>\n",
       "      <th>Converted</th>\n",
       "    </tr>\n",
       "  </thead>\n",
       "  <tbody>\n",
       "    <tr>\n",
       "      <th>4269</th>\n",
       "      <td>1</td>\n",
       "    </tr>\n",
       "    <tr>\n",
       "      <th>2376</th>\n",
       "      <td>1</td>\n",
       "    </tr>\n",
       "    <tr>\n",
       "      <th>7766</th>\n",
       "      <td>1</td>\n",
       "    </tr>\n",
       "    <tr>\n",
       "      <th>9199</th>\n",
       "      <td>0</td>\n",
       "    </tr>\n",
       "    <tr>\n",
       "      <th>4359</th>\n",
       "      <td>1</td>\n",
       "    </tr>\n",
       "  </tbody>\n",
       "</table>\n",
       "</div>"
      ],
      "text/plain": [
       "      Converted\n",
       "4269          1\n",
       "2376          1\n",
       "7766          1\n",
       "9199          0\n",
       "4359          1"
      ]
     },
     "execution_count": 145,
     "metadata": {},
     "output_type": "execute_result"
    }
   ],
   "source": [
    "# Converting y_test to dataframe\n",
    "y_test_df = pd.DataFrame(y_test)\n",
    "y_test_df.head()"
   ]
  },
  {
   "cell_type": "code",
   "execution_count": 146,
   "id": "5c416804-1df8-4062-87a6-ae7947cb6a23",
   "metadata": {},
   "outputs": [],
   "source": [
    "# Putting CustID to index\n",
    "y_test_df['Prospect_IND'] = y_test_df.index"
   ]
  },
  {
   "cell_type": "code",
   "execution_count": 147,
   "id": "a559d4ed-5c02-4e4f-a1bf-d332ff7889d0",
   "metadata": {},
   "outputs": [],
   "source": [
    "# Removing index for both dataframes to append them side by side \n",
    "y_pred_1.reset_index(drop=True, inplace=True)\n",
    "y_test_df.reset_index(drop=True, inplace=True)"
   ]
  },
  {
   "cell_type": "code",
   "execution_count": 148,
   "id": "439313a5-2deb-4781-a5d5-2b2fbbb9f5ec",
   "metadata": {},
   "outputs": [],
   "source": [
    "# Appending y_test_df and y_pred_1\n",
    "y_pred_final = pd.concat([y_test_df, y_pred_1],axis=1)"
   ]
  },
  {
   "cell_type": "code",
   "execution_count": 149,
   "id": "41e40557-87d5-4006-873b-78eaeec7041f",
   "metadata": {},
   "outputs": [
    {
     "data": {
      "text/html": [
       "<div>\n",
       "<style scoped>\n",
       "    .dataframe tbody tr th:only-of-type {\n",
       "        vertical-align: middle;\n",
       "    }\n",
       "\n",
       "    .dataframe tbody tr th {\n",
       "        vertical-align: top;\n",
       "    }\n",
       "\n",
       "    .dataframe thead th {\n",
       "        text-align: right;\n",
       "    }\n",
       "</style>\n",
       "<table border=\"1\" class=\"dataframe\">\n",
       "  <thead>\n",
       "    <tr style=\"text-align: right;\">\n",
       "      <th></th>\n",
       "      <th>Converted</th>\n",
       "      <th>Prospect_IND</th>\n",
       "      <th>0</th>\n",
       "    </tr>\n",
       "  </thead>\n",
       "  <tbody>\n",
       "    <tr>\n",
       "      <th>0</th>\n",
       "      <td>1</td>\n",
       "      <td>4269</td>\n",
       "      <td>0.482221</td>\n",
       "    </tr>\n",
       "    <tr>\n",
       "      <th>1</th>\n",
       "      <td>1</td>\n",
       "      <td>2376</td>\n",
       "      <td>0.997479</td>\n",
       "    </tr>\n",
       "    <tr>\n",
       "      <th>2</th>\n",
       "      <td>1</td>\n",
       "      <td>7766</td>\n",
       "      <td>0.934505</td>\n",
       "    </tr>\n",
       "    <tr>\n",
       "      <th>3</th>\n",
       "      <td>0</td>\n",
       "      <td>9199</td>\n",
       "      <td>0.077716</td>\n",
       "    </tr>\n",
       "    <tr>\n",
       "      <th>4</th>\n",
       "      <td>1</td>\n",
       "      <td>4359</td>\n",
       "      <td>0.993206</td>\n",
       "    </tr>\n",
       "  </tbody>\n",
       "</table>\n",
       "</div>"
      ],
      "text/plain": [
       "   Converted  Prospect_IND         0\n",
       "0          1          4269  0.482221\n",
       "1          1          2376  0.997479\n",
       "2          1          7766  0.934505\n",
       "3          0          9199  0.077716\n",
       "4          1          4359  0.993206"
      ]
     },
     "execution_count": 149,
     "metadata": {},
     "output_type": "execute_result"
    }
   ],
   "source": [
    "y_pred_final.head()"
   ]
  },
  {
   "cell_type": "code",
   "execution_count": 150,
   "id": "26ae8d77-f713-47a6-8d8b-f58f8450fe95",
   "metadata": {},
   "outputs": [],
   "source": [
    "# Renaming the column \n",
    "y_pred_final= y_pred_final.rename(columns={ 0 : 'Converted_Prob'})\n",
    "y_pred_final= y_pred_final.rename(columns={ 'Converted' : 'Converted_IND'})"
   ]
  },
  {
   "cell_type": "code",
   "execution_count": 151,
   "id": "f609a0c0-81b0-45ec-8a1c-404a8b5f10ab",
   "metadata": {},
   "outputs": [],
   "source": [
    "# Rearranging the columns\n",
    "y_pred_final = y_pred_final.reindex(['Prospect_IND','Converted_IND','Converted_Prob'], axis=1)"
   ]
  },
  {
   "cell_type": "code",
   "execution_count": 152,
   "id": "45a1f81b-6be1-44be-8120-b7b13a5c1d58",
   "metadata": {},
   "outputs": [
    {
     "data": {
      "text/html": [
       "<div>\n",
       "<style scoped>\n",
       "    .dataframe tbody tr th:only-of-type {\n",
       "        vertical-align: middle;\n",
       "    }\n",
       "\n",
       "    .dataframe tbody tr th {\n",
       "        vertical-align: top;\n",
       "    }\n",
       "\n",
       "    .dataframe thead th {\n",
       "        text-align: right;\n",
       "    }\n",
       "</style>\n",
       "<table border=\"1\" class=\"dataframe\">\n",
       "  <thead>\n",
       "    <tr style=\"text-align: right;\">\n",
       "      <th></th>\n",
       "      <th>Prospect_IND</th>\n",
       "      <th>Converted_IND</th>\n",
       "      <th>Converted_Prob</th>\n",
       "    </tr>\n",
       "  </thead>\n",
       "  <tbody>\n",
       "    <tr>\n",
       "      <th>0</th>\n",
       "      <td>4269</td>\n",
       "      <td>1</td>\n",
       "      <td>0.482221</td>\n",
       "    </tr>\n",
       "    <tr>\n",
       "      <th>1</th>\n",
       "      <td>2376</td>\n",
       "      <td>1</td>\n",
       "      <td>0.997479</td>\n",
       "    </tr>\n",
       "    <tr>\n",
       "      <th>2</th>\n",
       "      <td>7766</td>\n",
       "      <td>1</td>\n",
       "      <td>0.934505</td>\n",
       "    </tr>\n",
       "    <tr>\n",
       "      <th>3</th>\n",
       "      <td>9199</td>\n",
       "      <td>0</td>\n",
       "      <td>0.077716</td>\n",
       "    </tr>\n",
       "    <tr>\n",
       "      <th>4</th>\n",
       "      <td>4359</td>\n",
       "      <td>1</td>\n",
       "      <td>0.993206</td>\n",
       "    </tr>\n",
       "  </tbody>\n",
       "</table>\n",
       "</div>"
      ],
      "text/plain": [
       "   Prospect_IND  Converted_IND  Converted_Prob\n",
       "0          4269              1        0.482221\n",
       "1          2376              1        0.997479\n",
       "2          7766              1        0.934505\n",
       "3          9199              0        0.077716\n",
       "4          4359              1        0.993206"
      ]
     },
     "execution_count": 152,
     "metadata": {},
     "output_type": "execute_result"
    }
   ],
   "source": [
    "y_pred_final.head()"
   ]
  },
  {
   "cell_type": "code",
   "execution_count": 153,
   "id": "253dc221-fe98-464a-9f21-b02dd73cd68d",
   "metadata": {},
   "outputs": [
    {
     "data": {
      "text/html": [
       "<div>\n",
       "<style scoped>\n",
       "    .dataframe tbody tr th:only-of-type {\n",
       "        vertical-align: middle;\n",
       "    }\n",
       "\n",
       "    .dataframe tbody tr th {\n",
       "        vertical-align: top;\n",
       "    }\n",
       "\n",
       "    .dataframe thead th {\n",
       "        text-align: right;\n",
       "    }\n",
       "</style>\n",
       "<table border=\"1\" class=\"dataframe\">\n",
       "  <thead>\n",
       "    <tr style=\"text-align: right;\">\n",
       "      <th></th>\n",
       "      <th>Prospect_IND</th>\n",
       "      <th>Converted_IND</th>\n",
       "      <th>Converted_Prob</th>\n",
       "      <th>final_predicted</th>\n",
       "    </tr>\n",
       "  </thead>\n",
       "  <tbody>\n",
       "    <tr>\n",
       "      <th>0</th>\n",
       "      <td>4269</td>\n",
       "      <td>1</td>\n",
       "      <td>0.482221</td>\n",
       "      <td>1</td>\n",
       "    </tr>\n",
       "    <tr>\n",
       "      <th>1</th>\n",
       "      <td>2376</td>\n",
       "      <td>1</td>\n",
       "      <td>0.997479</td>\n",
       "      <td>1</td>\n",
       "    </tr>\n",
       "    <tr>\n",
       "      <th>2</th>\n",
       "      <td>7766</td>\n",
       "      <td>1</td>\n",
       "      <td>0.934505</td>\n",
       "      <td>1</td>\n",
       "    </tr>\n",
       "    <tr>\n",
       "      <th>3</th>\n",
       "      <td>9199</td>\n",
       "      <td>0</td>\n",
       "      <td>0.077716</td>\n",
       "      <td>0</td>\n",
       "    </tr>\n",
       "    <tr>\n",
       "      <th>4</th>\n",
       "      <td>4359</td>\n",
       "      <td>1</td>\n",
       "      <td>0.993206</td>\n",
       "      <td>1</td>\n",
       "    </tr>\n",
       "  </tbody>\n",
       "</table>\n",
       "</div>"
      ],
      "text/plain": [
       "   Prospect_IND  Converted_IND  Converted_Prob  final_predicted\n",
       "0          4269              1        0.482221                1\n",
       "1          2376              1        0.997479                1\n",
       "2          7766              1        0.934505                1\n",
       "3          9199              0        0.077716                0\n",
       "4          4359              1        0.993206                1"
      ]
     },
     "execution_count": 153,
     "metadata": {},
     "output_type": "execute_result"
    }
   ],
   "source": [
    "y_pred_final['final_predicted'] = y_pred_final.Converted_Prob.map(lambda x: 1 if x > 0.33 else 0)\n",
    "y_pred_final.head()"
   ]
  },
  {
   "cell_type": "code",
   "execution_count": 154,
   "id": "8202c85a-4aab-4936-a0cb-b24a64f980d8",
   "metadata": {},
   "outputs": [
    {
     "data": {
      "text/plain": [
       "0.8668831168831169"
      ]
     },
     "execution_count": 154,
     "metadata": {},
     "output_type": "execute_result"
    }
   ],
   "source": [
    "# Let's check the overall accuracy.\n",
    "accuracy_score(y_pred_final.Converted_IND, y_pred_final.final_predicted)"
   ]
  },
  {
   "cell_type": "code",
   "execution_count": 155,
   "id": "a3ed63d8-8312-422d-af16-dc2a7b396b0d",
   "metadata": {},
   "outputs": [
    {
     "data": {
      "text/plain": [
       "array([[1486,  191],\n",
       "       [ 178,  917]], dtype=int64)"
      ]
     },
     "execution_count": 155,
     "metadata": {},
     "output_type": "execute_result"
    }
   ],
   "source": [
    "confusion_final = confusion_matrix(y_pred_final.Converted_IND, y_pred_final.final_predicted )\n",
    "confusion_final"
   ]
  },
  {
   "cell_type": "code",
   "execution_count": 156,
   "id": "d634a80e-3e06-4af0-9cbf-fd4c2fcbdd6d",
   "metadata": {},
   "outputs": [],
   "source": [
    "TP = confusion_final[1,1] # true positive \n",
    "TN = confusion_final[0,0] # true negatives\n",
    "FP = confusion_final[0,1] # false positives\n",
    "FN = confusion_final[1,0] # false negatives"
   ]
  },
  {
   "cell_type": "code",
   "execution_count": 157,
   "id": "9d3d3698-7a3d-46cf-8702-2b30a966cf5a",
   "metadata": {},
   "outputs": [
    {
     "data": {
      "text/plain": [
       "0.8374429223744292"
      ]
     },
     "execution_count": 157,
     "metadata": {},
     "output_type": "execute_result"
    }
   ],
   "source": [
    "# Let's see the sensitivity of our logistic regression model\n",
    "TP / float(TP+FN)"
   ]
  },
  {
   "cell_type": "code",
   "execution_count": 158,
   "id": "8d87a441-b7af-4804-86e7-2f1ad6d8fd1a",
   "metadata": {},
   "outputs": [
    {
     "data": {
      "text/plain": [
       "0.8861061419200954"
      ]
     },
     "execution_count": 158,
     "metadata": {},
     "output_type": "execute_result"
    }
   ],
   "source": [
    "# Let us calculate specificity\n",
    "TN / float(TN+FP)"
   ]
  },
  {
   "cell_type": "markdown",
   "id": "82f0d5bc-b961-4b4a-9b0d-6b1178f3fde5",
   "metadata": {},
   "source": [
    "### Precision and Recall"
   ]
  },
  {
   "cell_type": "code",
   "execution_count": 159,
   "id": "f6d71d33-58d0-4c1e-9515-bfa9da239bdf",
   "metadata": {},
   "outputs": [
    {
     "data": {
      "text/plain": [
       "0.8276173285198556"
      ]
     },
     "execution_count": 159,
     "metadata": {},
     "output_type": "execute_result"
    }
   ],
   "source": [
    "precision_score(y_pred_final.Converted_IND, y_pred_final.final_predicted)"
   ]
  },
  {
   "cell_type": "code",
   "execution_count": 160,
   "id": "a9491091-fa41-4719-b6da-1ba8e999a98f",
   "metadata": {},
   "outputs": [
    {
     "data": {
      "text/plain": [
       "0.8374429223744292"
      ]
     },
     "execution_count": 160,
     "metadata": {},
     "output_type": "execute_result"
    }
   ],
   "source": [
    "recall_score(y_pred_final.Converted_IND, y_pred_final.final_predicted)"
   ]
  },
  {
   "cell_type": "markdown",
   "id": "c67e9946-fe0f-4017-b0f4-6fb32326f7fb",
   "metadata": {},
   "source": [
    "### ROC Curve"
   ]
  },
  {
   "cell_type": "code",
   "execution_count": 161,
   "id": "a5c9874b-0796-43ad-98a6-aa674583727c",
   "metadata": {},
   "outputs": [],
   "source": [
    "fpr, tpr, thresholds = roc_curve(y_pred_final.Converted_IND, y_pred_final.Converted_Prob, drop_intermediate=False)"
   ]
  },
  {
   "cell_type": "code",
   "execution_count": 162,
   "id": "2304dbee-4b2a-48f4-b703-c574a0941e41",
   "metadata": {},
   "outputs": [
    {
     "data": {
      "image/png": "[encoded data removed]",
      "text/plain": [
       "<Figure size 360x360 with 1 Axes>"
      ]
     },
     "metadata": {},
     "output_type": "display_data"
    }
   ],
   "source": [
    "# Invoking the functio to draw ROC curve\n",
    "draw_roc( y_pred_final.Converted_IND, y_pred_final.Converted_Prob)"
   ]
  },
  {
   "cell_type": "markdown",
   "id": "b07032de-fe71-4979-9fd7-52a00f631526",
   "metadata": {},
   "source": [
    "## Lead Scoring"
   ]
  },
  {
   "cell_type": "code",
   "execution_count": 163,
   "id": "5b5c2f07-3119-4973-b44d-069945616c62",
   "metadata": {},
   "outputs": [
    {
     "data": {
      "text/html": [
       "<div>\n",
       "<style scoped>\n",
       "    .dataframe tbody tr th:only-of-type {\n",
       "        vertical-align: middle;\n",
       "    }\n",
       "\n",
       "    .dataframe tbody tr th {\n",
       "        vertical-align: top;\n",
       "    }\n",
       "\n",
       "    .dataframe thead th {\n",
       "        text-align: right;\n",
       "    }\n",
       "</style>\n",
       "<table border=\"1\" class=\"dataframe\">\n",
       "  <thead>\n",
       "    <tr style=\"text-align: right;\">\n",
       "      <th></th>\n",
       "      <th>Prospect_IND</th>\n",
       "      <th>Converted_IND</th>\n",
       "      <th>Converted_Prob</th>\n",
       "      <th>final_predicted</th>\n",
       "      <th>lead_score</th>\n",
       "    </tr>\n",
       "  </thead>\n",
       "  <tbody>\n",
       "    <tr>\n",
       "      <th>2771</th>\n",
       "      <td>2960</td>\n",
       "      <td>1</td>\n",
       "      <td>0.997479</td>\n",
       "      <td>1</td>\n",
       "      <td>99</td>\n",
       "    </tr>\n",
       "    <tr>\n",
       "      <th>1859</th>\n",
       "      <td>2852</td>\n",
       "      <td>1</td>\n",
       "      <td>0.997915</td>\n",
       "      <td>1</td>\n",
       "      <td>99</td>\n",
       "    </tr>\n",
       "    <tr>\n",
       "      <th>441</th>\n",
       "      <td>3725</td>\n",
       "      <td>1</td>\n",
       "      <td>0.994415</td>\n",
       "      <td>1</td>\n",
       "      <td>99</td>\n",
       "    </tr>\n",
       "    <tr>\n",
       "      <th>440</th>\n",
       "      <td>2629</td>\n",
       "      <td>1</td>\n",
       "      <td>0.993206</td>\n",
       "      <td>1</td>\n",
       "      <td>99</td>\n",
       "    </tr>\n",
       "    <tr>\n",
       "      <th>1880</th>\n",
       "      <td>8106</td>\n",
       "      <td>1</td>\n",
       "      <td>0.999490</td>\n",
       "      <td>1</td>\n",
       "      <td>99</td>\n",
       "    </tr>\n",
       "    <tr>\n",
       "      <th>...</th>\n",
       "      <td>...</td>\n",
       "      <td>...</td>\n",
       "      <td>...</td>\n",
       "      <td>...</td>\n",
       "      <td>...</td>\n",
       "    </tr>\n",
       "    <tr>\n",
       "      <th>116</th>\n",
       "      <td>5523</td>\n",
       "      <td>0</td>\n",
       "      <td>0.007088</td>\n",
       "      <td>0</td>\n",
       "      <td>0</td>\n",
       "    </tr>\n",
       "    <tr>\n",
       "      <th>796</th>\n",
       "      <td>6934</td>\n",
       "      <td>0</td>\n",
       "      <td>0.006255</td>\n",
       "      <td>0</td>\n",
       "      <td>0</td>\n",
       "    </tr>\n",
       "    <tr>\n",
       "      <th>2521</th>\n",
       "      <td>8733</td>\n",
       "      <td>0</td>\n",
       "      <td>0.008324</td>\n",
       "      <td>0</td>\n",
       "      <td>0</td>\n",
       "    </tr>\n",
       "    <tr>\n",
       "      <th>1508</th>\n",
       "      <td>5380</td>\n",
       "      <td>0</td>\n",
       "      <td>0.008656</td>\n",
       "      <td>0</td>\n",
       "      <td>0</td>\n",
       "    </tr>\n",
       "    <tr>\n",
       "      <th>2415</th>\n",
       "      <td>6669</td>\n",
       "      <td>0</td>\n",
       "      <td>0.006351</td>\n",
       "      <td>0</td>\n",
       "      <td>0</td>\n",
       "    </tr>\n",
       "  </tbody>\n",
       "</table>\n",
       "<p>2772 rows × 5 columns</p>\n",
       "</div>"
      ],
      "text/plain": [
       "      Prospect_IND  Converted_IND  Converted_Prob  final_predicted  lead_score\n",
       "2771          2960              1        0.997479                1          99\n",
       "1859          2852              1        0.997915                1          99\n",
       "441           3725              1        0.994415                1          99\n",
       "440           2629              1        0.993206                1          99\n",
       "1880          8106              1        0.999490                1          99\n",
       "...            ...            ...             ...              ...         ...\n",
       "116           5523              0        0.007088                0           0\n",
       "796           6934              0        0.006255                0           0\n",
       "2521          8733              0        0.008324                0           0\n",
       "1508          5380              0        0.008656                0           0\n",
       "2415          6669              0        0.006351                0           0\n",
       "\n",
       "[2772 rows x 5 columns]"
      ]
     },
     "execution_count": 163,
     "metadata": {},
     "output_type": "execute_result"
    }
   ],
   "source": [
    "y_pred_final['lead_score']=(y_pred_final['Converted_Prob']*100).astype(\"int64\")\n",
    "y_pred_final.sort_values(by='lead_score',ascending=False)"
   ]
  },
  {
   "cell_type": "markdown",
   "id": "9997d4a2-3b9a-47a3-a4d3-6c8a0ec5b1b9",
   "metadata": {},
   "source": [
    "# Using Decision Trees"
   ]
  },
  {
   "cell_type": "code",
   "execution_count": 164,
   "id": "29d90e90-14a8-47dd-894c-574dd11da35e",
   "metadata": {},
   "outputs": [],
   "source": [
    "X_train, X_test, y_train, y_test = train_test_split(X, y, train_size=0.7, test_size=0.3, random_state=100)"
   ]
  },
  {
   "cell_type": "code",
   "execution_count": 165,
   "id": "99b8fc42-fa2f-4138-8edc-1c3edd0f1261",
   "metadata": {},
   "outputs": [
    {
     "data": {
      "text/plain": [
       "((6468, 55), (2772, 55))"
      ]
     },
     "execution_count": 165,
     "metadata": {},
     "output_type": "execute_result"
    }
   ],
   "source": [
    "X_train.shape, X_test.shape"
   ]
  },
  {
   "cell_type": "code",
   "execution_count": 166,
   "id": "c25f3139-978e-4d71-b1fc-df95a500f01d",
   "metadata": {},
   "outputs": [],
   "source": [
    "from sklearn.tree import DecisionTreeClassifier"
   ]
  },
  {
   "cell_type": "code",
   "execution_count": 167,
   "id": "3bc5e5b3-b3c2-4935-a889-dc701aefee5d",
   "metadata": {},
   "outputs": [],
   "source": [
    "dt_base = DecisionTreeClassifier(random_state=42, max_depth=4)"
   ]
  },
  {
   "cell_type": "code",
   "execution_count": 168,
   "id": "2e9b1f46-fb5a-4950-9d96-3291a822013d",
   "metadata": {},
   "outputs": [
    {
     "data": {
      "text/plain": [
       "DecisionTreeClassifier(max_depth=4, random_state=42)"
      ]
     },
     "execution_count": 168,
     "metadata": {},
     "output_type": "execute_result"
    }
   ],
   "source": [
    "dt_base.fit(X_train, y_train)"
   ]
  },
  {
   "cell_type": "code",
   "execution_count": 169,
   "id": "6c3df0b6-241b-460b-864f-de06da04081e",
   "metadata": {},
   "outputs": [],
   "source": [
    "y_train_pred = dt_base.predict(X_train)\n",
    "y_test_pred = dt_base.predict(X_test)"
   ]
  },
  {
   "cell_type": "code",
   "execution_count": 170,
   "id": "3515a5ef-aa6e-463f-a8b4-36b5ebc0fdd8",
   "metadata": {},
   "outputs": [],
   "source": [
    "from sklearn.metrics import classification_report"
   ]
  },
  {
   "cell_type": "code",
   "execution_count": 171,
   "id": "b6fd8a5f-5ac2-4f05-ad38-0bf459ace82c",
   "metadata": {},
   "outputs": [
    {
     "name": "stdout",
     "output_type": "stream",
     "text": [
      "              precision    recall  f1-score   support\n",
      "\n",
      "           0       0.91      0.88      0.90      1677\n",
      "           1       0.83      0.86      0.84      1095\n",
      "\n",
      "    accuracy                           0.88      2772\n",
      "   macro avg       0.87      0.87      0.87      2772\n",
      "weighted avg       0.88      0.88      0.88      2772\n",
      "\n"
     ]
    }
   ],
   "source": [
    "print(classification_report(y_test, y_test_pred))"
   ]
  },
  {
   "cell_type": "markdown",
   "id": "bba3198b-43b1-45e8-b33d-581d6fd2073a",
   "metadata": {},
   "source": [
    "#### Plot the ROC curve"
   ]
  },
  {
   "cell_type": "code",
   "execution_count": 172,
   "id": "b99f7ec8-7d61-4793-a9a2-398cad98a304",
   "metadata": {},
   "outputs": [],
   "source": [
    "from sklearn.metrics import plot_roc_curve"
   ]
  },
  {
   "cell_type": "code",
   "execution_count": 173,
   "id": "52f0e9e2-11eb-4980-a303-da6b2b6ce768",
   "metadata": {},
   "outputs": [
    {
     "data": {
      "image/png": "[encoded data removed]",
      "text/plain": [
       "<Figure size 432x288 with 1 Axes>"
      ]
     },
     "metadata": {},
     "output_type": "display_data"
    }
   ],
   "source": [
    "plot_roc_curve(dt_base, X_train, y_train, drop_intermediate=False)\n",
    "plt.show()"
   ]
  },
  {
   "cell_type": "code",
   "execution_count": null,
   "id": "ebb0bf26-8e14-49cb-bd45-5dc10fdf1944",
   "metadata": {},
   "outputs": [],
   "source": []
  }
 ],
 "metadata": {
  "kernelspec": {
   "display_name": "Python 3 (ipykernel)",
   "language": "python",
   "name": "python3"
  },
  "language_info": {
   "codemirror_mode": {
    "name": "ipython",
    "version": 3
   },
   "file_extension": ".py",
   "mimetype": "text/x-python",
   "name": "python",
   "nbconvert_exporter": "python",
   "pygments_lexer": "ipython3",
   "version": "3.9.7"
  }
 },
 "nbformat": 4,
 "nbformat_minor": 5
}
